{
  "cells": [
    {
      "cell_type": "markdown",
      "metadata": {
        "id": "view-in-github",
        "colab_type": "text"
      },
      "source": [
        "<a href=\"https://colab.research.google.com/github/ANNL-ILPHY/Code-sharing/blob/main/Sentiment_Analysis.ipynb\" target=\"_parent\"><img src=\"https://colab.research.google.com/assets/colab-badge.svg\" alt=\"Open In Colab\"/></a>"
      ]
    },
    {
      "cell_type": "markdown",
      "metadata": {
        "id": "1grvhSxdz3cM"
      },
      "source": [
        "Sentiment Analysis \n"
      ]
    },
    {
      "cell_type": "code",
      "execution_count": null,
      "metadata": {
        "id": "utLwX5O0z3cN"
      },
      "outputs": [],
      "source": [
        "import codecs\n",
        "import re\n",
        "from nltk.stem import WordNetLemmatizer\n",
        "from nltk.tokenize import word_tokenize\n",
        "from collections import Counter\n",
        "import pandas as pd\n",
        "import time\n",
        "from sklearn.model_selection import RandomizedSearchCV, GridSearchCV\n",
        "from sklearn.metrics import roc_auc_score, roc_curve, confusion_matrix,accuracy_score,precision_score,recall_score,f1_score\n",
        "from sklearn.feature_extraction.text import TfidfVectorizer\n",
        "from sklearn.naive_bayes import MultinomialNB\n",
        "from sklearn.svm import LinearSVC\n",
        "from sklearn.linear_model import LogisticRegression\n",
        "from sklearn.tree import DecisionTreeClassifier\n",
        "from sklearn.ensemble import RandomForestClassifier\n",
        "\n",
        "import numpy as np\n",
        "from sklearn.preprocessing import label_binarize\n",
        "import matplotlib\n",
        "import seaborn as sns\n",
        "import matplotlib.pyplot as plt\n",
        "from nltk.corpus import stopwords\n",
        "import joblib\n",
        "from sklearn.metrics import auc\n",
        "from scipy import interp\n",
        "import itertools\n",
        "\n",
        "matplotlib.rcParams['axes.unicode_minus'] = False\n",
        "import warnings\n",
        "\n",
        "warnings.filterwarnings('ignore')"
      ]
    },
    {
      "cell_type": "markdown",
      "metadata": {
        "id": "-slEYGyKz3cP"
      },
      "source": [
        "### Part 1.a. Loading and Prep\n",
        "\n",
        "Load, clean, and preprocess the data as you find necessary."
      ]
    },
    {
      "cell_type": "code",
      "execution_count": null,
      "metadata": {
        "id": "EsbbVHZfz3cP",
        "outputId": "511c8473-8dbd-4cd4-862e-d2ab5e0e4731"
      },
      "outputs": [
        {
          "name": "stdout",
          "output_type": "stream",
          "text": [
            "<class 'pandas.core.frame.DataFrame'>\n",
            "RangeIndex: 2400 entries, 0 to 2399\n",
            "Data columns (total 2 columns):\n",
            " #   Column    Non-Null Count  Dtype \n",
            "---  ------    --------------  ----- \n",
            " 0   Sentence  2400 non-null   object\n",
            " 1   Polarity  2400 non-null   int64 \n",
            "dtypes: int64(1), object(1)\n",
            "memory usage: 37.6+ KB\n",
            "None\n",
            "                                            Sentence  Polarity\n",
            "0                           Wow... Loved this place.         1\n",
            "1                                 Crust is not good.         0\n",
            "2          Not tasty and the texture was just nasty.         0\n",
            "3  Stopped by during the late May bank holiday of...         1\n",
            "4  The selection on the menu was great and so wer...         1\n",
            "<class 'pandas.core.frame.DataFrame'>\n",
            "RangeIndex: 2400 entries, 0 to 2399\n",
            "Data columns (total 2 columns):\n",
            " #   Column    Non-Null Count  Dtype \n",
            "---  ------    --------------  ----- \n",
            " 0   Sentence  2400 non-null   object\n",
            " 1   Polarity  2400 non-null   int64 \n",
            "dtypes: int64(1), object(1)\n",
            "memory usage: 37.6+ KB\n",
            "None\n",
            "                                            Sentence  Polarity\n",
            "0                           Wow... Loved this place.         1\n",
            "1                                 Crust is not good.         0\n",
            "2          Not tasty and the texture was just nasty.         0\n",
            "3  Stopped by during the late May bank holiday of...         1\n",
            "4  The selection on the menu was great and so wer...         1\n"
          ]
        }
      ],
      "source": [
        "import pandas as pd\n",
        "\n",
        "df_train = pd.read_csv(\"train.csv\")\n",
        "\n",
        "print(df_train.info())\n",
        "print(df_train.head())\n",
        "\n",
        "df_test = pd.read_csv(\"test.csv\")\n",
        "\n",
        "print(df_train.info())\n",
        "print(df_train.head())\n",
        "\n"
      ]
    },
    {
      "cell_type": "code",
      "execution_count": null,
      "metadata": {
        "id": "jQ8WrtoAz3cR"
      },
      "outputs": [],
      "source": [
        "train = pd.read_csv('train.csv')\n",
        "test = pd.read_csv('test.csv')"
      ]
    },
    {
      "cell_type": "code",
      "execution_count": null,
      "metadata": {
        "id": "NwtRUD85z3cR",
        "outputId": "730142d4-d05b-4167-f5ef-90b48b7f858d"
      },
      "outputs": [
        {
          "data": {
            "text/html": [
              "<div>\n",
              "<style scoped>\n",
              "    .dataframe tbody tr th:only-of-type {\n",
              "        vertical-align: middle;\n",
              "    }\n",
              "\n",
              "    .dataframe tbody tr th {\n",
              "        vertical-align: top;\n",
              "    }\n",
              "\n",
              "    .dataframe thead th {\n",
              "        text-align: right;\n",
              "    }\n",
              "</style>\n",
              "<table border=\"1\" class=\"dataframe\">\n",
              "  <thead>\n",
              "    <tr style=\"text-align: right;\">\n",
              "      <th></th>\n",
              "      <th>Sentence</th>\n",
              "      <th>Polarity</th>\n",
              "    </tr>\n",
              "  </thead>\n",
              "  <tbody>\n",
              "    <tr>\n",
              "      <th>0</th>\n",
              "      <td>Wow... Loved this place.</td>\n",
              "      <td>1</td>\n",
              "    </tr>\n",
              "    <tr>\n",
              "      <th>1</th>\n",
              "      <td>Crust is not good.</td>\n",
              "      <td>0</td>\n",
              "    </tr>\n",
              "    <tr>\n",
              "      <th>2</th>\n",
              "      <td>Not tasty and the texture was just nasty.</td>\n",
              "      <td>0</td>\n",
              "    </tr>\n",
              "  </tbody>\n",
              "</table>\n",
              "</div>"
            ],
            "text/plain": [
              "                                    Sentence  Polarity\n",
              "0                   Wow... Loved this place.         1\n",
              "1                         Crust is not good.         0\n",
              "2  Not tasty and the texture was just nasty.         0"
            ]
          },
          "execution_count": 4,
          "metadata": {},
          "output_type": "execute_result"
        }
      ],
      "source": [
        "train[:3]"
      ]
    },
    {
      "cell_type": "code",
      "execution_count": null,
      "metadata": {
        "id": "5jWO8ferz3cS",
        "outputId": "953f7e04-a785-4ed4-aa99-e2164044ddb7"
      },
      "outputs": [
        {
          "data": {
            "text/html": [
              "<div>\n",
              "<style scoped>\n",
              "    .dataframe tbody tr th:only-of-type {\n",
              "        vertical-align: middle;\n",
              "    }\n",
              "\n",
              "    .dataframe tbody tr th {\n",
              "        vertical-align: top;\n",
              "    }\n",
              "\n",
              "    .dataframe thead th {\n",
              "        text-align: right;\n",
              "    }\n",
              "</style>\n",
              "<table border=\"1\" class=\"dataframe\">\n",
              "  <thead>\n",
              "    <tr style=\"text-align: right;\">\n",
              "      <th></th>\n",
              "      <th>Sentence</th>\n",
              "      <th>Polarity</th>\n",
              "    </tr>\n",
              "  </thead>\n",
              "  <tbody>\n",
              "    <tr>\n",
              "      <th>0</th>\n",
              "      <td>A good commentary of today's love and undoubte...</td>\n",
              "      <td>1</td>\n",
              "    </tr>\n",
              "    <tr>\n",
              "      <th>1</th>\n",
              "      <td>For people who are first timers in film making...</td>\n",
              "      <td>1</td>\n",
              "    </tr>\n",
              "    <tr>\n",
              "      <th>2</th>\n",
              "      <td>It was very popular when I was in the cinema, ...</td>\n",
              "      <td>1</td>\n",
              "    </tr>\n",
              "  </tbody>\n",
              "</table>\n",
              "</div>"
            ],
            "text/plain": [
              "                                            Sentence  Polarity\n",
              "0  A good commentary of today's love and undoubte...         1\n",
              "1  For people who are first timers in film making...         1\n",
              "2  It was very popular when I was in the cinema, ...         1"
            ]
          },
          "execution_count": 5,
          "metadata": {},
          "output_type": "execute_result"
        }
      ],
      "source": [
        "test[:3]"
      ]
    },
    {
      "cell_type": "code",
      "execution_count": null,
      "metadata": {
        "id": "sDZcLoQEz3cS",
        "outputId": "625e1dd4-8224-418a-d8f4-3b0e45aed3ad"
      },
      "outputs": [
        {
          "data": {
            "text/plain": [
              "0    1213\n",
              "1    1187\n",
              "Name: Polarity, dtype: int64"
            ]
          },
          "execution_count": 6,
          "metadata": {},
          "output_type": "execute_result"
        }
      ],
      "source": [
        "# checked the balance level of trainning dataset\n",
        "train['Polarity'].value_counts()"
      ]
    },
    {
      "cell_type": "markdown",
      "metadata": {
        "id": "dX_4G65Nz3cT"
      },
      "source": [
        "The ratio between class 1 and 0 of 'Polarity' is closed to 1, thus this is a balanced dataset."
      ]
    },
    {
      "cell_type": "code",
      "execution_count": null,
      "metadata": {
        "id": "jN51ND_vz3cT",
        "outputId": "9f0f251e-3249-4db1-cc04-f9f4869b3104"
      },
      "outputs": [
        {
          "data": {
            "text/plain": [
              "1    313\n",
              "0    287\n",
              "Name: Polarity, dtype: int64"
            ]
          },
          "execution_count": 7,
          "metadata": {},
          "output_type": "execute_result"
        }
      ],
      "source": [
        "test['Polarity'].value_counts()"
      ]
    },
    {
      "cell_type": "markdown",
      "metadata": {
        "id": "sRM4LnxKz3cU"
      },
      "source": [
        "Preprocessing data"
      ]
    },
    {
      "cell_type": "code",
      "execution_count": null,
      "metadata": {
        "id": "lxY7Wjgwz3cU"
      },
      "outputs": [],
      "source": [
        "# Stopwords \n",
        "stopword = stopwords.words('english')\n",
        "wordnet_lemmatizer = WordNetLemmatizer()\n",
        "\n",
        "def cut_word(s):\n",
        "    \n",
        "    s = re.sub(r'http[s]?://(?:[a-zA-Z]|[0-9]|[$-_@.&+]|[!*\\(\\),]|(?:%[0-9a-fA-F][0-9a-fA-F]))+', '', str(s))\n",
        "    s = word_tokenize(s)\n",
        "    \n",
        "    sa = []\n",
        "    for k in s:\n",
        "        k = k.lower()\n",
        "        # Lemmatizing process\n",
        "        k = wordnet_lemmatizer.lemmatize(k, 'n')\n",
        "        k = wordnet_lemmatizer.lemmatize(k, 'v')\n",
        "        sa.append(k)\n",
        "    outstr = ''\n",
        "    for word in sa:\n",
        "        r = re.sub('[^a-zA-Z]', '', word)\n",
        "        if len(r) > 1 and r not in stopword:\n",
        "            outstr += word\n",
        "            outstr += \" \"\n",
        "    return outstr[:-1]"
      ]
    },
    {
      "cell_type": "code",
      "execution_count": null,
      "metadata": {
        "id": "yKSJ67hPz3cV"
      },
      "outputs": [],
      "source": [
        "# Applied cut_word in train and test sets\n",
        "\n",
        "train['Sentence_cut'] = train['Sentence'].apply(cut_word)\n",
        "test['Sentence_cut'] = test['Sentence'].apply(cut_word)"
      ]
    },
    {
      "cell_type": "code",
      "execution_count": null,
      "metadata": {
        "id": "jfSvtKuSz3cW",
        "outputId": "aeee92ae-6112-4629-8327-5860cce7c56f"
      },
      "outputs": [
        {
          "data": {
            "text/html": [
              "<div>\n",
              "<style scoped>\n",
              "    .dataframe tbody tr th:only-of-type {\n",
              "        vertical-align: middle;\n",
              "    }\n",
              "\n",
              "    .dataframe tbody tr th {\n",
              "        vertical-align: top;\n",
              "    }\n",
              "\n",
              "    .dataframe thead th {\n",
              "        text-align: right;\n",
              "    }\n",
              "</style>\n",
              "<table border=\"1\" class=\"dataframe\">\n",
              "  <thead>\n",
              "    <tr style=\"text-align: right;\">\n",
              "      <th></th>\n",
              "      <th>Sentence</th>\n",
              "      <th>Polarity</th>\n",
              "      <th>Sentence_cut</th>\n",
              "    </tr>\n",
              "  </thead>\n",
              "  <tbody>\n",
              "    <tr>\n",
              "      <th>0</th>\n",
              "      <td>Wow... Loved this place.</td>\n",
              "      <td>1</td>\n",
              "      <td>wow love place</td>\n",
              "    </tr>\n",
              "    <tr>\n",
              "      <th>1</th>\n",
              "      <td>Crust is not good.</td>\n",
              "      <td>0</td>\n",
              "      <td>crust good</td>\n",
              "    </tr>\n",
              "    <tr>\n",
              "      <th>2</th>\n",
              "      <td>Not tasty and the texture was just nasty.</td>\n",
              "      <td>0</td>\n",
              "      <td>tasty texture wa nasty</td>\n",
              "    </tr>\n",
              "  </tbody>\n",
              "</table>\n",
              "</div>"
            ],
            "text/plain": [
              "                                    Sentence  Polarity            Sentence_cut\n",
              "0                   Wow... Loved this place.         1          wow love place\n",
              "1                         Crust is not good.         0              crust good\n",
              "2  Not tasty and the texture was just nasty.         0  tasty texture wa nasty"
            ]
          },
          "execution_count": 10,
          "metadata": {},
          "output_type": "execute_result"
        }
      ],
      "source": [
        "train[:3]"
      ]
    },
    {
      "cell_type": "markdown",
      "metadata": {
        "id": "8dAtSCtAz3cW"
      },
      "source": [
        "Vectors Transformed"
      ]
    },
    {
      "cell_type": "code",
      "execution_count": null,
      "metadata": {
        "id": "s81RI2nMz3cX",
        "outputId": "01758011-ecba-4588-e95a-9f16c0fc623c"
      },
      "outputs": [
        {
          "name": "stdout",
          "output_type": "stream",
          "text": [
            "train.shape(2400, 937)\n",
            "test.shape(600, 937)\n"
          ]
        }
      ],
      "source": [
        "\"\"\"\n",
        "Transformed text to feature vectors \n",
        "\"\"\"\n",
        "tv = TfidfVectorizer(min_df=3,max_df=0.9,sublinear_tf=True)\n",
        "tfidf_train = tv.fit_transform(train['Sentence_cut']).toarray()  \n",
        "vocab = tv.get_feature_names()\n",
        "\n",
        "tfidf_test = tv.transform(test['Sentence_cut']).toarray()\n",
        "print(\"train.shape\" + repr(tfidf_train.shape))\n",
        "print(\"test.shape\" + repr(tfidf_test.shape))\n",
        "\n",
        "tfidf_train = pd.DataFrame(tfidf_train, columns=vocab)\n",
        "tfidf_test = pd.DataFrame(tfidf_test, columns=vocab)"
      ]
    },
    {
      "cell_type": "code",
      "execution_count": null,
      "metadata": {
        "id": "5iIXrrPCz3cX",
        "outputId": "c6e4ba8c-a9da-43cc-ea02-6a5cbf897880"
      },
      "outputs": [
        {
          "data": {
            "text/html": [
              "<div>\n",
              "<style scoped>\n",
              "    .dataframe tbody tr th:only-of-type {\n",
              "        vertical-align: middle;\n",
              "    }\n",
              "\n",
              "    .dataframe tbody tr th {\n",
              "        vertical-align: top;\n",
              "    }\n",
              "\n",
              "    .dataframe thead th {\n",
              "        text-align: right;\n",
              "    }\n",
              "</style>\n",
              "<table border=\"1\" class=\"dataframe\">\n",
              "  <thead>\n",
              "    <tr style=\"text-align: right;\">\n",
              "      <th></th>\n",
              "      <th>able</th>\n",
              "      <th>absolutely</th>\n",
              "      <th>access</th>\n",
              "      <th>act</th>\n",
              "      <th>action</th>\n",
              "      <th>actor</th>\n",
              "      <th>actually</th>\n",
              "      <th>add</th>\n",
              "      <th>addition</th>\n",
              "      <th>adorable</th>\n",
              "      <th>...</th>\n",
              "      <th>wow</th>\n",
              "      <th>wrap</th>\n",
              "      <th>write</th>\n",
              "      <th>wrong</th>\n",
              "      <th>year</th>\n",
              "      <th>yes</th>\n",
              "      <th>yet</th>\n",
              "      <th>young</th>\n",
              "      <th>yummy</th>\n",
              "      <th>zero</th>\n",
              "    </tr>\n",
              "  </thead>\n",
              "  <tbody>\n",
              "    <tr>\n",
              "      <th>0</th>\n",
              "      <td>0.0</td>\n",
              "      <td>0.0</td>\n",
              "      <td>0.0</td>\n",
              "      <td>0.0</td>\n",
              "      <td>0.0</td>\n",
              "      <td>0.0</td>\n",
              "      <td>0.0</td>\n",
              "      <td>0.0</td>\n",
              "      <td>0.0</td>\n",
              "      <td>0.0</td>\n",
              "      <td>...</td>\n",
              "      <td>0.754437</td>\n",
              "      <td>0.0</td>\n",
              "      <td>0.0</td>\n",
              "      <td>0.0</td>\n",
              "      <td>0.0</td>\n",
              "      <td>0.0</td>\n",
              "      <td>0.0</td>\n",
              "      <td>0.0</td>\n",
              "      <td>0.0</td>\n",
              "      <td>0.0</td>\n",
              "    </tr>\n",
              "    <tr>\n",
              "      <th>1</th>\n",
              "      <td>0.0</td>\n",
              "      <td>0.0</td>\n",
              "      <td>0.0</td>\n",
              "      <td>0.0</td>\n",
              "      <td>0.0</td>\n",
              "      <td>0.0</td>\n",
              "      <td>0.0</td>\n",
              "      <td>0.0</td>\n",
              "      <td>0.0</td>\n",
              "      <td>0.0</td>\n",
              "      <td>...</td>\n",
              "      <td>0.000000</td>\n",
              "      <td>0.0</td>\n",
              "      <td>0.0</td>\n",
              "      <td>0.0</td>\n",
              "      <td>0.0</td>\n",
              "      <td>0.0</td>\n",
              "      <td>0.0</td>\n",
              "      <td>0.0</td>\n",
              "      <td>0.0</td>\n",
              "      <td>0.0</td>\n",
              "    </tr>\n",
              "    <tr>\n",
              "      <th>2</th>\n",
              "      <td>0.0</td>\n",
              "      <td>0.0</td>\n",
              "      <td>0.0</td>\n",
              "      <td>0.0</td>\n",
              "      <td>0.0</td>\n",
              "      <td>0.0</td>\n",
              "      <td>0.0</td>\n",
              "      <td>0.0</td>\n",
              "      <td>0.0</td>\n",
              "      <td>0.0</td>\n",
              "      <td>...</td>\n",
              "      <td>0.000000</td>\n",
              "      <td>0.0</td>\n",
              "      <td>0.0</td>\n",
              "      <td>0.0</td>\n",
              "      <td>0.0</td>\n",
              "      <td>0.0</td>\n",
              "      <td>0.0</td>\n",
              "      <td>0.0</td>\n",
              "      <td>0.0</td>\n",
              "      <td>0.0</td>\n",
              "    </tr>\n",
              "  </tbody>\n",
              "</table>\n",
              "<p>3 rows × 937 columns</p>\n",
              "</div>"
            ],
            "text/plain": [
              "   able  absolutely  access  act  action  actor  actually  add  addition  \\\n",
              "0   0.0         0.0     0.0  0.0     0.0    0.0       0.0  0.0       0.0   \n",
              "1   0.0         0.0     0.0  0.0     0.0    0.0       0.0  0.0       0.0   \n",
              "2   0.0         0.0     0.0  0.0     0.0    0.0       0.0  0.0       0.0   \n",
              "\n",
              "   adorable  ...       wow  wrap  write  wrong  year  yes  yet  young  yummy  \\\n",
              "0       0.0  ...  0.754437   0.0    0.0    0.0   0.0  0.0  0.0    0.0    0.0   \n",
              "1       0.0  ...  0.000000   0.0    0.0    0.0   0.0  0.0  0.0    0.0    0.0   \n",
              "2       0.0  ...  0.000000   0.0    0.0    0.0   0.0  0.0  0.0    0.0    0.0   \n",
              "\n",
              "   zero  \n",
              "0   0.0  \n",
              "1   0.0  \n",
              "2   0.0  \n",
              "\n",
              "[3 rows x 937 columns]"
            ]
          },
          "execution_count": 12,
          "metadata": {},
          "output_type": "execute_result"
        }
      ],
      "source": [
        "tfidf_train[:3]"
      ]
    },
    {
      "cell_type": "markdown",
      "metadata": {
        "id": "U9qvCCBaz3cY"
      },
      "source": [
        "ML algorithm \n"
      ]
    },
    {
      "cell_type": "markdown",
      "metadata": {
        "id": "osoMZgt6z3cY"
      },
      "source": [
        "# Decision Tree"
      ]
    },
    {
      "cell_type": "code",
      "execution_count": null,
      "metadata": {
        "id": "k8Sx-m9dz3cZ",
        "outputId": "02415949-ded3-4be3-b30e-ace6c33b8639"
      },
      "outputs": [
        {
          "name": "stdout",
          "output_type": "stream",
          "text": [
            "dt_best_paras： {'criterion': 'entropy', 'max_features': 'auto', 'splitter': 'best'}\n",
            "best_score： 0.74125\n"
          ]
        }
      ],
      "source": [
        "#Hyperparameter tuning\n",
        "\n",
        "parameters_ = { 'max_features': ['auto','sqrt','log2'],\n",
        "               'splitter': ['best', 'random'],\n",
        "               'criterion':['gini','entropy']} \n",
        "model_tree = DecisionTreeClassifier(random_state=40)\n",
        "tree_cv = GridSearchCV(model_tree, parameters_, n_jobs=-1, scoring='accuracy', cv=5)\n",
        "tree_cv.fit(tfidf_train,train['Polarity'])\n",
        "print('dt_best_paras：',tree_cv.best_params_)\n",
        "print('best_score：',tree_cv.best_score_)"
      ]
    },
    {
      "cell_type": "code",
      "execution_count": null,
      "metadata": {
        "id": "1wMms_ENz3ca",
        "outputId": "0df928e4-79bf-4139-d307-4f16a7c3e100"
      },
      "outputs": [
        {
          "name": "stdout",
          "output_type": "stream",
          "text": [
            "dt_Accuracy 0.71\n",
            "dt_Precision 0.7813765182186235\n",
            "dt_Recall 0.6166134185303515\n",
            "dt_F1_score 0.6892857142857144\n",
            "confusion_matrix：\n",
            " [[233  54]\n",
            " [120 193]]\n",
            "dt_ROC 0.7275550756420388\n"
          ]
        }
      ],
      "source": [
        "#Trained and Predicted with best parameters\n",
        "\n",
        "model_tree = DecisionTreeClassifier(max_features='auto', criterion='entropy', splitter='best', random_state=40)\n",
        "model_tree.fit(tfidf_train,train['Polarity'])\n",
        "\n",
        "pred_tree = model_tree.predict(tfidf_test)\n",
        "pred_tree_prob = model_tree.predict_proba(tfidf_test)\n",
        "\n",
        "acc_tree = accuracy_score(test['Polarity'], pred_tree)\n",
        "f1_tree = f1_score(test['Polarity'], pred_tree)\n",
        "\n",
        "print(\"dt_Accuracy\", accuracy_score(test['Polarity'], pred_tree))\n",
        "print(\"dt_Precision\", precision_score(test['Polarity'], pred_tree))\n",
        "print(\"dt_Recall\", recall_score(test['Polarity'], pred_tree))\n",
        "print(\"dt_F1_score\", f1_score(test['Polarity'], pred_tree))\n",
        "tree_confusion_matrix_result = confusion_matrix(test['Polarity'], pred_tree)\n",
        "print('confusion_matrix：\\n',tree_confusion_matrix_result)\n",
        "print(\"dt_ROC\", roc_auc_score(test['Polarity'],pred_tree_prob[:,1]))"
      ]
    },
    {
      "cell_type": "markdown",
      "metadata": {
        "id": "iTASX3QWz3ca"
      },
      "source": [
        "# Random Forest"
      ]
    },
    {
      "cell_type": "code",
      "execution_count": null,
      "metadata": {
        "id": "2XcEsw-xz3cb",
        "outputId": "1259bf72-9e0b-4d70-ebbf-7dc3a7694bae"
      },
      "outputs": [
        {
          "name": "stdout",
          "output_type": "stream",
          "text": [
            "{'criterion': 'entropy', 'max_depth': 15, 'max_features': 'log2', 'n_estimators': 300}\n",
            "0.7641666666666668\n"
          ]
        }
      ],
      "source": [
        "#Hyperparameter tuning\n",
        "\n",
        "parameters = {\n",
        " 'max_depth': np.arange(14, 17),\n",
        " 'max_features': ['auto','sqrt','log2'],\n",
        " 'n_estimators': [100,200,300],\n",
        "'criterion':['gini','entropy']\n",
        "}\n",
        "model_rf = RandomForestClassifier(n_estimators=100, random_state=40)\n",
        "rf_cv = GridSearchCV(model_rf, parameters, n_jobs=-1, scoring='accuracy', cv=5)\n",
        "rf_cv.fit(tfidf_train,train['Polarity'])\n",
        "print(rf_cv.best_params_)\n",
        "print(rf_cv.best_score_)"
      ]
    },
    {
      "cell_type": "code",
      "execution_count": null,
      "metadata": {
        "id": "-ZFyUf3Jz3cb",
        "outputId": "6b87a890-d008-42e2-cecf-ab3f84445636"
      },
      "outputs": [
        {
          "name": "stdout",
          "output_type": "stream",
          "text": [
            "rf_Accuracy 0.7083333333333334\n",
            "rf_Precision 0.8876404494382022\n",
            "rf_Recall 0.5047923322683706\n",
            "rf_F1_score 0.6435845213849288\n",
            "confusion_matrix：\n",
            " [[233  54]\n",
            " [120 193]]\n",
            "rf_ROC 0.7275550756420388\n"
          ]
        }
      ],
      "source": [
        "#Trained and Predicted with best parameters\n",
        "\n",
        "model_rf = RandomForestClassifier(max_depth=15, n_estimators=300,  max_features='log2',criterion='entropy', random_state=40)\n",
        "model_rf.fit(tfidf_train,train['Polarity'])\n",
        "\n",
        "pred_rf = model_rf.predict(tfidf_test)\n",
        "pred_rf_prob = model_rf.predict_proba(tfidf_test)\n",
        "\n",
        "acc_rf = accuracy_score(test['Polarity'], pred_rf)\n",
        "f1_rf = f1_score(test['Polarity'], pred_rf)\n",
        "\n",
        "print(\"rf_Accuracy\", accuracy_score(test['Polarity'], pred_rf))\n",
        "print(\"rf_Precision\", precision_score(test['Polarity'], pred_rf))\n",
        "print(\"rf_Recall\", recall_score(test['Polarity'], pred_rf))\n",
        "print(\"rf_F1_score\", f1_score(test['Polarity'], pred_rf))\n",
        "rf_confusion_matrix_result = confusion_matrix(test['Polarity'], pred_rf)\n",
        "print('confusion_matrix：\\n',tree_confusion_matrix_result)\n",
        "print(\"rf_ROC\", roc_auc_score(test['Polarity'],pred_tree_prob[:,1]))"
      ]
    },
    {
      "cell_type": "markdown",
      "metadata": {
        "id": "h4q7cK-6z3cc"
      },
      "source": [
        "# Multinomial Naive Bayes"
      ]
    },
    {
      "cell_type": "code",
      "execution_count": null,
      "metadata": {
        "id": "6iT2wS7kz3cc",
        "outputId": "68f39b55-58e9-4c12-a96c-83d86a270933"
      },
      "outputs": [
        {
          "name": "stdout",
          "output_type": "stream",
          "text": [
            "mnb_cv_best_params： {'alpha': 1}\n",
            "best_score： 0.7845833333333332\n"
          ]
        }
      ],
      "source": [
        "#Hyperparameter tuning\n",
        "\n",
        "parameters_ = { 'alpha': [0.001, 0.01, 0.1, 1, 10]} \n",
        "model_mnb = MultinomialNB(alpha=0.1)\n",
        "mnb_cv = GridSearchCV(model_mnb, parameters_, n_jobs=-1, scoring='accuracy', cv=5)\n",
        "mnb_cv.fit(tfidf_train,train['Polarity'])\n",
        "print('mnb_cv_best_params：',mnb_cv.best_params_)\n",
        "print('best_score：',mnb_cv.best_score_)"
      ]
    },
    {
      "cell_type": "code",
      "execution_count": null,
      "metadata": {
        "id": "5_nvWBlFz3cd",
        "outputId": "b8e60468-3a1c-4cca-ae37-ae78d1a5be09"
      },
      "outputs": [
        {
          "name": "stdout",
          "output_type": "stream",
          "text": [
            "mnb_Accuracy 0.7333333333333333\n",
            "mnb_Precision 0.8097165991902834\n",
            "mnb_Recall 0.6389776357827476\n",
            "mnb_F1_score 0.7142857142857143\n",
            "confusion_matrix：\n",
            " [[240  47]\n",
            " [113 200]]\n",
            "mnb_ROC 0.8477084748026851\n"
          ]
        }
      ],
      "source": [
        "#Trained and Predicted with best parameters\n",
        "\n",
        "model_mnb = MultinomialNB(alpha=1)\n",
        "model_mnb.fit(tfidf_train, train['Polarity'])\n",
        "\n",
        "pred_mnb = model_mnb.predict(tfidf_test)\n",
        "pred_mnb_proba = model_mnb.predict_proba(tfidf_test)\n",
        "\n",
        "acc_mnb = accuracy_score(test['Polarity'], pred_mnb)\n",
        "f1_mnb = f1_score(test['Polarity'], pred_mnb)\n",
        "\n",
        "print(\"mnb_Accuracy\", accuracy_score(test['Polarity'], pred_mnb))\n",
        "print(\"mnb_Precision\", precision_score(test['Polarity'], pred_mnb))\n",
        "print(\"mnb_Recall\", recall_score(test['Polarity'], pred_mnb))\n",
        "print(\"mnb_F1_score\", f1_score(test['Polarity'], pred_mnb))\n",
        "# confusion_matrix\n",
        "mnb_confusion_matrix_result = confusion_matrix(test['Polarity'], pred_mnb)\n",
        "print('confusion_matrix：\\n',mnb_confusion_matrix_result)\n",
        "print(\"mnb_ROC\", roc_auc_score(test['Polarity'],pred_mnb_proba[:,1]))"
      ]
    },
    {
      "cell_type": "markdown",
      "metadata": {
        "id": "O_zLqAO_z3cd"
      },
      "source": [
        "# Support Vector Machines (Linear SVC)"
      ]
    },
    {
      "cell_type": "code",
      "execution_count": null,
      "metadata": {
        "id": "k8DPLNhxz3ce",
        "outputId": "e66b0b61-3aed-42e3-c060-bd56b94ff886"
      },
      "outputs": [
        {
          "name": "stdout",
          "output_type": "stream",
          "text": [
            "SVM_best_param： {'C': 0.1, 'max_iter': 100, 'tol': 0.0001}\n",
            "best_score： 0.7879166666666667\n"
          ]
        }
      ],
      "source": [
        "#Hyperparameter tuning\n",
        "\n",
        "parameters_ = { 'max_iter': [100, 200, 300], \n",
        "               'tol':[0.0001, 0.001,0.01, 0.1], \n",
        "               'C':[0.01, 0.1 , 1, 10]} \n",
        "model_svc = LinearSVC(random_state=10)\n",
        "svc_cv = GridSearchCV(model_svc, parameters_, n_jobs=-1, scoring='accuracy', cv=5)\n",
        "svc_cv.fit(tfidf_train,train['Polarity'])\n",
        "print('SVM_best_param：',svc_cv.best_params_)\n",
        "print('best_score：',svc_cv.best_score_)"
      ]
    },
    {
      "cell_type": "code",
      "execution_count": null,
      "metadata": {
        "id": "Odmzb62Fz3ce",
        "outputId": "57547c20-cd96-4cb5-96b1-5da08a610830"
      },
      "outputs": [
        {
          "name": "stdout",
          "output_type": "stream",
          "text": [
            "SVM_Accuracy 0.7466666666666667\n",
            "SVM_Precision 0.851528384279476\n",
            "SVM_Recall 0.6230031948881789\n",
            "SVM_F1_score 0.7195571955719556\n",
            "confusion_matrix：\n",
            " [[253  34]\n",
            " [118 195]]\n",
            "SVM_ROC 0.8434115171822645\n"
          ]
        }
      ],
      "source": [
        "#Trained and Predicted with best parameters\n",
        "\n",
        "model_svc = LinearSVC(C=0.1, max_iter=100, tol=0.0001, random_state=10)\n",
        "model_svc.fit(tfidf_train, train['Polarity'])\n",
        "pred_svc = model_svc.predict(tfidf_test)\n",
        "pred_svc_proba = model_svc._predict_proba_lr(tfidf_test)\n",
        "\n",
        "acc_svc = accuracy_score(test['Polarity'], pred_svc)\n",
        "f1_svc = f1_score(test['Polarity'], pred_svc)\n",
        "\n",
        "print(\"SVM_Accuracy\", accuracy_score(test['Polarity'], pred_svc))\n",
        "print(\"SVM_Precision\", precision_score(test['Polarity'], pred_svc))\n",
        "print(\"SVM_Recall\", recall_score(test['Polarity'], pred_svc))\n",
        "print(\"SVM_F1_score\", f1_score(test['Polarity'], pred_svc))\n",
        "\n",
        "# confusion_matrix\n",
        "svc_confusion_matrix_result = confusion_matrix(test['Polarity'], pred_svc)\n",
        "print('confusion_matrix：\\n',svc_confusion_matrix_result)\n",
        "print(\"SVM_ROC\", roc_auc_score(test['Polarity'],pred_svc_proba[:,1]))"
      ]
    },
    {
      "cell_type": "markdown",
      "metadata": {
        "id": "6oqGgYt6z3cf"
      },
      "source": [
        "# Logistic Regression"
      ]
    },
    {
      "cell_type": "code",
      "execution_count": null,
      "metadata": {
        "id": "ZczEpsIdz3cf",
        "outputId": "182f8d3e-28d9-4cde-d7b5-d307b7d93d16"
      },
      "outputs": [
        {
          "name": "stdout",
          "output_type": "stream",
          "text": [
            "lr_best_params： {'C': 1, 'max_iter': 100, 'solver': 'saga', 'tol': 0.1}\n",
            "lr_best_score： 0.7899999999999999\n"
          ]
        }
      ],
      "source": [
        "#Hyperparameter tuning\n",
        "\n",
        "parameters_ = { 'max_iter': [100, 200, 300],\n",
        "               'tol':[0.0001, 0.001,0.01, 0.1], \n",
        "               'C':[0.01, 0.1 , 1, 10],\n",
        "               'solver':['newton-cg','lbfgs','liblinear','sag','saga']} \n",
        "model_lr = LogisticRegression(random_state=10)\n",
        "lr_cv = GridSearchCV(model_lr, parameters_, n_jobs=-1, scoring='accuracy', cv=5)\n",
        "lr_cv.fit(tfidf_train,train['Polarity'])\n",
        "print('lr_best_params：',lr_cv.best_params_)\n",
        "print('lr_best_score：',lr_cv.best_score_)"
      ]
    },
    {
      "cell_type": "code",
      "execution_count": null,
      "metadata": {
        "id": "3TQoJaHiz3cg",
        "outputId": "402a2ace-d95a-47c4-8ccf-e9cb0a74aa06"
      },
      "outputs": [
        {
          "name": "stdout",
          "output_type": "stream",
          "text": [
            "lr_Accuracy 0.7433333333333333\n",
            "lr_Precision 0.8471615720524017\n",
            "lr_Recall 0.6198083067092651\n",
            "lr_F1_score 0.7158671586715867\n",
            "confusion_matrix：\n",
            " [[252  35]\n",
            " [119 194]]\n",
            "lr_ROC 0.844903207133395\n"
          ]
        }
      ],
      "source": [
        "#Trained and Predicted with best parameters\n",
        "\n",
        "model_lr = LogisticRegression(C=1, max_iter=100, solver='saga', random_state=10)\n",
        "model_lr.fit(tfidf_train, train['Polarity'])\n",
        "\n",
        "pred_lr = model_lr.predict(tfidf_test)\n",
        "pred_lr_proba = model_lr.predict_proba(tfidf_test)\n",
        "\n",
        "acc_lr = accuracy_score(test['Polarity'], pred_lr)\n",
        "f1_lr = f1_score(test['Polarity'], pred_lr)\n",
        "\n",
        "print(\"lr_Accuracy\", accuracy_score(test['Polarity'], pred_lr))\n",
        "print(\"lr_Precision\", precision_score(test['Polarity'], pred_lr))\n",
        "print(\"lr_Recall\", recall_score(test['Polarity'], pred_lr))\n",
        "print(\"lr_F1_score\", f1_score(test['Polarity'], pred_lr))\n",
        "lr_confusion_matrix_result = confusion_matrix(test['Polarity'], pred_lr)\n",
        "print('confusion_matrix：\\n',lr_confusion_matrix_result)\n",
        "print(\"lr_ROC\", roc_auc_score(test['Polarity'],pred_lr_proba[:,1]))"
      ]
    },
    {
      "cell_type": "code",
      "execution_count": null,
      "metadata": {
        "id": "-Qga0MyDz3ch",
        "outputId": "859dc1c3-ff99-46f1-924d-5999e9ee8c57"
      },
      "outputs": [
        {
          "data": {
            "text/plain": [
              "<matplotlib.legend.Legend at 0x12855a280>"
            ]
          },
          "execution_count": 23,
          "metadata": {},
          "output_type": "execute_result"
        },
        {
          "data": {
            "image/png": "[encoded data removed]",
            "text/plain": [
              "<Figure size 504x504 with 1 Axes>"
            ]
          },
          "metadata": {
            "needs_background": "light"
          },
          "output_type": "display_data"
        }
      ],
      "source": [
        "plt.figure(figsize=(7, 7))\n",
        "model_all = ['DecisionTree','RandomForest','MultinomialNB','LinearSVC','LogisticRegression']\n",
        "acc_all = [acc_tree, acc_rf, acc_mnb, acc_svc, acc_lr]\n",
        "f1_all = [f1_tree, f1_rf, f1_mnb, f1_svc, f1_lr]\n",
        "\n",
        "plt.plot(model_all, acc_all, label='Accuracy')\n",
        "plt.plot(model_all, f1_all, label='F1 score')\n",
        "plt.xlabel('Model', fontsize=20)\n",
        "plt.ylabel('Score', fontsize=20)\n",
        "plt.xticks(fontsize=10)\n",
        "plt.legend(fontsize=15, loc = 'upper left')\n"
      ]
    },
    {
      "cell_type": "markdown",
      "metadata": {
        "id": "bP8eA5tKz3ci"
      },
      "source": [
        "After the comparison among above five models, the Linear SVC can give me the highest accuracy and F1-score; thus I will use this model to do further process."
      ]
    },
    {
      "cell_type": "code",
      "execution_count": null,
      "metadata": {
        "id": "dSIoT9_Jz3ci"
      },
      "outputs": [],
      "source": [
        "model_svc.fit(tfidf_train, train['Polarity'])\n",
        "pred_svc = model_svc.predict(tfidf_test)\n",
        "pred_svc_proba = model_svc._predict_proba_lr(tfidf_test)\n",
        "\n",
        "acc_svc = accuracy_score(test['Polarity'], pred_svc)\n",
        "f1_svc = f1_score(test['Polarity'], pred_svc)"
      ]
    },
    {
      "cell_type": "code",
      "execution_count": null,
      "metadata": {
        "id": "5AiioFIEz3cj",
        "outputId": "94a6fada-cb95-4f71-ea63-54061ee59396"
      },
      "outputs": [
        {
          "name": "stdout",
          "output_type": "stream",
          "text": [
            "Accuracy 0.7466666666666667\n",
            "F1_score 0.7195571955719556\n"
          ]
        }
      ],
      "source": [
        "print(\"Accuracy\", accuracy_score(test['Polarity'], pred_svc))\n",
        "print(\"F1_score\", f1_score(test['Polarity'], pred_svc))"
      ]
    }
  ],
  "metadata": {
    "kernelspec": {
      "display_name": "mma",
      "language": "python",
      "name": "mma"
    },
    "language_info": {
      "codemirror_mode": {
        "name": "ipython",
        "version": 3
      },
      "file_extension": ".py",
      "mimetype": "text/x-python",
      "name": "python",
      "nbconvert_exporter": "python",
      "pygments_lexer": "ipython3",
      "version": "3.8.11"
    },
    "colab": {
      "name": "Sentiment Analysis.ipynb",
      "provenance": [],
      "include_colab_link": true
    }
  },
  "nbformat": 4,
  "nbformat_minor": 0
}