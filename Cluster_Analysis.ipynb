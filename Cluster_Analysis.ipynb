{
  "cells": [
    {
      "cell_type": "markdown",
      "metadata": {
        "id": "view-in-github",
        "colab_type": "text"
      },
      "source": [
        "<a href=\"https://colab.research.google.com/github/ANNL-ILPHY/Code-sharing/blob/main/Cluster_Analysis.ipynb\" target=\"_parent\"><img src=\"https://colab.research.google.com/assets/colab-badge.svg\" alt=\"Open In Colab\"/></a>"
      ]
    },
    {
      "cell_type": "markdown",
      "metadata": {
        "id": "oZFTCX4DqmRO"
      },
      "source": [
        "# Preliminaries: Inspect and Set up environment\n",
        "\n",
        "No action is required on your part in this section. These cells print out helpful information about the environment, just in case."
      ]
    },
    {
      "cell_type": "code",
      "execution_count": null,
      "metadata": {
        "id": "xj34Jz-Do_oK"
      },
      "outputs": [],
      "source": [
        "import datetime\n",
        "import pandas as pd\n",
        "import numpy as np\n",
        "\n",
        "#Question 1\n",
        "from sklearn import metrics\n",
        "import matplotlib.pyplot as plt\n",
        "from sklearn.metrics import silhouette_score, silhouette_samples\n",
        "from sklearn.preprocessing import StandardScaler\n",
        "from sklearn.cluster import KMeans, DBSCAN, AgglomerativeClustering\n",
        "from sklearn.mixture import GaussianMixture\n",
        "\n",
        "#Queston 3\n",
        "from sklearn.model_selection import train_test_split\n",
        "from sklearn.model_selection import cross_val_score\n",
        "from sklearn.metrics import accuracy_score,confusion_matrix, classification_report\n",
        "from sklearn.tree import DecisionTreeClassifier\n",
        "from sklearn import preprocessing\n",
        "from sklearn.feature_selection import SelectKBest, chi2\n",
        "from sklearn.feature_selection import VarianceThreshold\n",
        "from sklearn.model_selection import GridSearchCV\n"
      ]
    },
    {
      "cell_type": "code",
      "execution_count": null,
      "metadata": {
        "colab": {
          "base_uri": "https://localhost:8080/"
        },
        "id": "mqQ_XOKyXTS6",
        "outputId": "4da2b3e2-61dd-4505-c0a3-bb1fd079ad4d"
      },
      "outputs": [
        {
          "name": "stdout",
          "output_type": "stream",
          "text": [
            "2021-08-04 22:53:22.862148\n"
          ]
        }
      ],
      "source": [
        "print(datetime.datetime.now())"
      ]
    },
    {
      "cell_type": "code",
      "execution_count": null,
      "metadata": {
        "colab": {
          "base_uri": "https://localhost:8080/"
        },
        "id": "LfOMt1lErLhZ",
        "outputId": "a4afeaab-229c-4668-fee6-a6f4dab33c3c"
      },
      "outputs": [
        {
          "name": "stdout",
          "output_type": "stream",
          "text": [
            "/usr/local/bin/python\n"
          ]
        }
      ],
      "source": [
        "!which python"
      ]
    },
    {
      "cell_type": "code",
      "execution_count": null,
      "metadata": {
        "colab": {
          "base_uri": "https://localhost:8080/"
        },
        "id": "aub2w1-arM5K",
        "outputId": "239fead9-052a-4038-cc98-fd0810b87bd0"
      },
      "outputs": [
        {
          "name": "stdout",
          "output_type": "stream",
          "text": [
            "Python 3.7.11\n"
          ]
        }
      ],
      "source": [
        "!python --version"
      ]
    },
    {
      "cell_type": "code",
      "execution_count": null,
      "metadata": {
        "colab": {
          "base_uri": "https://localhost:8080/"
        },
        "id": "E9Y_n_8UrO9i",
        "outputId": "6d0a74bc-01f4-4fb0-af36-0d465d17730c"
      },
      "outputs": [
        {
          "name": "stdout",
          "output_type": "stream",
          "text": [
            "/env/python\n"
          ]
        }
      ],
      "source": [
        "!echo $PYTHONPATH"
      ]
    },
    {
      "cell_type": "code",
      "execution_count": null,
      "metadata": {
        "id": "-qyD7Jl0Gw1E"
      },
      "outputs": [],
      "source": [
        "# TODO: install any packages you need to here. For example:\n",
        "#pip install unidecode"
      ]
    },
    {
      "cell_type": "markdown",
      "metadata": {
        "id": "Yww0-vtpOw7z"
      },
      "source": [
        "## 1.0: Load data "
      ]
    },
    {
      "cell_type": "code",
      "execution_count": null,
      "metadata": {
        "colab": {
          "base_uri": "https://localhost:8080/"
        },
        "id": "qVWx2c-DhQYo",
        "outputId": "b40db840-88a6-4ddc-925d-32de625e9541"
      },
      "outputs": [
        {
          "name": "stdout",
          "output_type": "stream",
          "text": [
            "<class 'pandas.core.frame.DataFrame'>\n",
            "RangeIndex: 505 entries, 0 to 504\n",
            "Data columns (total 4 columns):\n",
            " #   Column         Non-Null Count  Dtype  \n",
            "---  ------         --------------  -----  \n",
            " 0   Age            505 non-null    int64  \n",
            " 1   Income         505 non-null    int64  \n",
            " 2   SpendingScore  505 non-null    float64\n",
            " 3   Savings        505 non-null    float64\n",
            "dtypes: float64(2), int64(2)\n",
            "memory usage: 15.9 KB\n"
          ]
        }
      ],
      "source": [
        "# DO NOT MODIFY THIS CELL\n",
        "df1 = pd.read_csv(\" \")\n",
        "df1.info()"
      ]
    },
    {
      "cell_type": "markdown",
      "metadata": {
        "id": "R04NzckZKbG2"
      },
      "source": [
        "## 1.1: Clustering Algorithm #1"
      ]
    },
    {
      "cell_type": "code",
      "execution_count": null,
      "metadata": {
        "colab": {
          "base_uri": "https://localhost:8080/",
          "height": 204
        },
        "id": "Qeavkicwo_oN",
        "outputId": "e2e2534e-d35a-49dc-cb63-5ec218720b0d"
      },
      "outputs": [
        {
          "data": {
            "text/html": [
              "<div>\n",
              "<style scoped>\n",
              "    .dataframe tbody tr th:only-of-type {\n",
              "        vertical-align: middle;\n",
              "    }\n",
              "\n",
              "    .dataframe tbody tr th {\n",
              "        vertical-align: top;\n",
              "    }\n",
              "\n",
              "    .dataframe thead th {\n",
              "        text-align: right;\n",
              "    }\n",
              "</style>\n",
              "<table border=\"1\" class=\"dataframe\">\n",
              "  <thead>\n",
              "    <tr style=\"text-align: right;\">\n",
              "      <th></th>\n",
              "      <th>Age</th>\n",
              "      <th>Income</th>\n",
              "      <th>SpendingScore</th>\n",
              "      <th>Savings</th>\n",
              "    </tr>\n",
              "  </thead>\n",
              "  <tbody>\n",
              "    <tr>\n",
              "      <th>0</th>\n",
              "      <td>58</td>\n",
              "      <td>77769</td>\n",
              "      <td>0.791329</td>\n",
              "      <td>6559.829923</td>\n",
              "    </tr>\n",
              "    <tr>\n",
              "      <th>1</th>\n",
              "      <td>59</td>\n",
              "      <td>81799</td>\n",
              "      <td>0.791082</td>\n",
              "      <td>5417.661426</td>\n",
              "    </tr>\n",
              "    <tr>\n",
              "      <th>2</th>\n",
              "      <td>62</td>\n",
              "      <td>74751</td>\n",
              "      <td>0.702657</td>\n",
              "      <td>9258.992965</td>\n",
              "    </tr>\n",
              "    <tr>\n",
              "      <th>3</th>\n",
              "      <td>59</td>\n",
              "      <td>74373</td>\n",
              "      <td>0.765680</td>\n",
              "      <td>7346.334504</td>\n",
              "    </tr>\n",
              "    <tr>\n",
              "      <th>4</th>\n",
              "      <td>87</td>\n",
              "      <td>17760</td>\n",
              "      <td>0.348778</td>\n",
              "      <td>16869.507130</td>\n",
              "    </tr>\n",
              "  </tbody>\n",
              "</table>\n",
              "</div>"
            ],
            "text/plain": [
              "   Age  Income  SpendingScore       Savings\n",
              "0   58   77769       0.791329   6559.829923\n",
              "1   59   81799       0.791082   5417.661426\n",
              "2   62   74751       0.702657   9258.992965\n",
              "3   59   74373       0.765680   7346.334504\n",
              "4   87   17760       0.348778  16869.507130"
            ]
          },
          "execution_count": 8,
          "metadata": {
            "tags": []
          },
          "output_type": "execute_result"
        }
      ],
      "source": [
        "df1[:5]"
      ]
    },
    {
      "cell_type": "code",
      "execution_count": null,
      "metadata": {
        "colab": {
          "base_uri": "https://localhost:8080/",
          "height": 142
        },
        "id": "R0d6E44HYOdN",
        "outputId": "21d5530f-efc8-4279-9035-e0dc7e02286e"
      },
      "outputs": [
        {
          "data": {
            "text/html": [
              "<div>\n",
              "<style scoped>\n",
              "    .dataframe tbody tr th:only-of-type {\n",
              "        vertical-align: middle;\n",
              "    }\n",
              "\n",
              "    .dataframe tbody tr th {\n",
              "        vertical-align: top;\n",
              "    }\n",
              "\n",
              "    .dataframe thead th {\n",
              "        text-align: right;\n",
              "    }\n",
              "</style>\n",
              "<table border=\"1\" class=\"dataframe\">\n",
              "  <thead>\n",
              "    <tr style=\"text-align: right;\">\n",
              "      <th></th>\n",
              "      <th>Age</th>\n",
              "      <th>Income</th>\n",
              "      <th>SpendingScore</th>\n",
              "    </tr>\n",
              "  </thead>\n",
              "  <tbody>\n",
              "    <tr>\n",
              "      <th>0</th>\n",
              "      <td>58</td>\n",
              "      <td>77769</td>\n",
              "      <td>0.791329</td>\n",
              "    </tr>\n",
              "    <tr>\n",
              "      <th>1</th>\n",
              "      <td>59</td>\n",
              "      <td>81799</td>\n",
              "      <td>0.791082</td>\n",
              "    </tr>\n",
              "    <tr>\n",
              "      <th>2</th>\n",
              "      <td>62</td>\n",
              "      <td>74751</td>\n",
              "      <td>0.702657</td>\n",
              "    </tr>\n",
              "  </tbody>\n",
              "</table>\n",
              "</div>"
            ],
            "text/plain": [
              "   Age  Income  SpendingScore\n",
              "0   58   77769       0.791329\n",
              "1   59   81799       0.791082\n",
              "2   62   74751       0.702657"
            ]
          },
          "execution_count": 9,
          "metadata": {
            "tags": []
          },
          "output_type": "execute_result"
        }
      ],
      "source": [
        "#Choosing columns age, income, spending score which are direct factors to affect customers purchasing habits\n",
        "df_two = df1[['Age','Income', 'SpendingScore']]\n",
        "df_two[:3]"
      ]
    },
    {
      "cell_type": "markdown",
      "metadata": {
        "id": "viuB0YWAYsik"
      },
      "source": [
        "# Normalizing the Data #"
      ]
    },
    {
      "cell_type": "code",
      "execution_count": null,
      "metadata": {
        "id": "ld2DGD3qYqZM"
      },
      "outputs": [],
      "source": [
        "scaler = StandardScaler()"
      ]
    },
    {
      "cell_type": "code",
      "execution_count": null,
      "metadata": {
        "id": "h3LxLK-NY9gD"
      },
      "outputs": [],
      "source": [
        "df_two[['Age','Income', 'SpendingScore']] = scaler.fit_transform(df_two[['Age','Income', 'SpendingScore']])"
      ]
    },
    {
      "cell_type": "code",
      "execution_count": null,
      "metadata": {
        "colab": {
          "base_uri": "https://localhost:8080/",
          "height": 316
        },
        "id": "tjJ7J_5uZISu",
        "outputId": "a39599af-64f2-4dcd-9a3e-f8e0a144abd2"
      },
      "outputs": [
        {
          "data": {
            "text/plain": [
              "(array([-2. , -1.5, -1. , -0.5,  0. ,  0.5,  1. ,  1.5,  2. ,  2.5]),\n",
              " <a list of 10 Text major ticklabel objects>)"
            ]
          },
          "execution_count": 12,
          "metadata": {
            "tags": []
          },
          "output_type": "execute_result"
        },
        {
          "data": {
            "image/png": "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\n",
            "text/plain": [
              "<Figure size 432x288 with 1 Axes>"
            ]
          },
          "metadata": {
            "needs_background": "light",
            "tags": []
          },
          "output_type": "display_data"
        }
      ],
      "source": [
        "plt.figure()\n",
        "plt.scatter(df_two.iloc[:, 0], df_two.iloc[:, 1], c=\"green\")\n",
        "plt.xlabel('SpendingScore and Income')\n",
        "plt.ylabel('Age')\n",
        "plt.xticks()\n",
        "plt.yticks()"
      ]
    },
    {
      "cell_type": "markdown",
      "metadata": {
        "id": "TfV5fca-ZWnh"
      },
      "source": [
        "# K-Means Method #\n",
        "To find out the best K-value by Elbow Method"
      ]
    },
    {
      "cell_type": "code",
      "execution_count": null,
      "metadata": {
        "colab": {
          "base_uri": "https://localhost:8080/",
          "height": 312
        },
        "id": "c1Qct7_qZlVJ",
        "outputId": "026d0e69-fb3e-49c3-a84b-46084582426b"
      },
      "outputs": [
        {
          "data": {
            "text/plain": [
              "<matplotlib.legend.Legend at 0x7fbdb77271d0>"
            ]
          },
          "execution_count": 13,
          "metadata": {
            "tags": []
          },
          "output_type": "execute_result"
        },
        {
          "data": {
            "image/png": "iVBORw0KGgoAAAANSUhEUgAAAYIAAAEWCAYAAABrDZDcAAAABHNCSVQICAgIfAhkiAAAAAlwSFlzAAALEgAACxIB0t1+/AAAADh0RVh0U29mdHdhcmUAbWF0cGxvdGxpYiB2ZXJzaW9uMy4yLjIsIGh0dHA6Ly9tYXRwbG90bGliLm9yZy+WH4yJAAAgAElEQVR4nO3de5yM9fvH8dc1s7O7zoTIIUuFcshhSSVUEimHkOQbfh2kL0qFdPiW0lEq6SyVzpQIETo4HwolkWMixxyKnHZ2Z+b6/TFD21q7a9vZe2bnej4e89iZ+zDzvkfNNZ/PZ+7PLaqKMcaY2OVyOoAxxhhnWSEwxpgYZ4XAGGNinBUCY4yJcVYIjDEmxlkhMMaYGGeFwJhcEJE5InJL6H4vEVngdKa8kJfHIiItRGRbXjyXCS8rBOaUichmEWmZ7vH1IvKniDTPZFsVkd0iEpdumSe0LGJPYgl9iAVE5FCG24VOZ4PjhUhF5PwMyyeFlrfIwXMkhbaNy25bU7BZITD/ioj0BF4G2qrq3JNs9ifQJt3jNqFlkW6HqhbNcFvsdKh01gM9jj0QkdLAhcAexxKZqGSFwOSaiNwGPAtcqaqLstj0PdJ9YIXuv5vhuUqIyJsislNEtovIYyLiDq07S0S+EZF9IrJXRD4QkZLp9t0sIgNFZKWIHBCR8SKSGFpXRkQ+F5H9IvKHiMwXkXD8dy8i8lLo9deKyOXpVlQQkSmh198oIreGlieKyFERKRN6/ICI+ESkeOjxMBEZmcVrfgB0PfY+Ad2ASUBqutd2icgQEfkl9P59LCKnhVbPC/3dn7G1IyIjQq28X0WkTbrlmR5LaF0hERkb2u9noNGpv43GCVYITG7dDjwKXK6qy7LZ9jOgmYiUFJFSwCXA5AzbjAV8wNlAfaAVcEtonQBPAhWAc4HKwNAM+18HtAaqAnWBXqHl9wDbgLJAOeB+IBxdUhcAvwBlgIeBiek+cMeFMlQAOgNPiMhlqpoCLAWOdak1B7YAF6d7fLJWFsAO4GeC7xVkUmCB/kCH0HNVINgSezm0rlnob8kMrZ0LgHWhYxkOvCkiktWxhNY9DJwVul0J9Mwiu4kgVghMbl0BLAF+ysG2KcBUoGvoNiW0DAARKQdcBQxQ1cOquht4HrgeQFU3quqXqupV1T3Ac/z94XnMKFXdoap/hF6rXmh5GnAGUEVV01R1vuZ8gq0KoZZE+luRk2y7GxgZeo3xBD9I24pIZYIf7PeqaoqqrgDG8HcLaS7QPNRPXxcYFXqcSPAb9byML5TBu0APEalJ8AM9Y9dVH+ABVd2mql6CBbRzNuMCW1T1DVX1A+8QfP/K5eBYrgMeV9U/VHVr6FhMFLBCYHLrdqA6MObYt0URWZ1uUPWSDNu/S/ADI7NvrVUAD7Dz2Acu8Dpweuh5y4nIuFCX0V/A+wS/raa3K939I0DR0P1ngI3ALBHZJCJDTuEYd6hqyQy3wyfZdnuGArOF4LfmCsAfqnoww7qKoftzgRZAA4JF9UuCRa4JsFFV92WTcSJwGdCPYBdcRlWASene1zWAn2Dr6GSOv5eqeiR0t2gOjqUCsDXDOhMFrBCY3PoduJxgN88rAKpaK92g6vwM288n9M0SyPjzxK2AFyiT7gO3uKrWCq1/gmB3Th1VLQ78h2B3UbZU9aCq3qOq1YB2wN3p++/zUMV03ScAZxLsutkBnCYixTKs2x66vwioAXQE5qrqz6H1V5F1txBw/IP6C4KFObNCsBVok6GYJarqdk69iyy7Y9lJsNsu/ToTBawQmFxT1R0Ei0FrEXk+m20VuAZol7FrRlV3ArOAZ0WkeGiA8yz5++eoxYBDwAERqQgMymlGEblaRM4OfUgfIPhtOBBaN1ZExub0ubJxOnCHBH8a24XgWMb0UBfJIuDJ0OBwXeBmgq2aYx/ky4G+/P3Bv4hgl062hSDkfqC5qm7OZN1rwOMiUgVARMqKSPvQuj0E34tqOXmR7I4F+Bi4T0RKiUglguMTJgpYITD/iqr+RrBrorOIPJnNtqtVdfVJVvcA4gkOfv4JTCDYggB4hGDXyQFgGsHukJw6B/iKYCFZDLyiqrND6yoDC7PYt4KceB5Bp5Ns+23otfYCjwOd03XrdAOSCH6jngQ8rKpfpdt3LsGuse/SPS5G9uMDQLAgq+rJTgJ7geCYzCwROUhwXOeC0H5HQlkXhrqOmuTg5bI6lkcIdgf9SrCwZ9ZCMRFI7MI0JhaJSDzwI1BXVdOczmOMk6wQGGNMjLOuIWOMiXFWCIwxJsZZITDGmBgXdbMOlilTRpOSkpyOYYwxUWX58uV7VbVsZuuirhAkJSWxbFl2U9sYY4xJT0ROeqa3dQ0ZY0yMs0JgjDExzgqBMcbEuKgbIzDG5FxaWhrbtm0jJSUl+41NgZCYmEilSpXweDw53scKgTEF2LZt2yhWrBhJSUn8c3JUUxCpKvv27WPbtm1UrVo1x/tZ15AxBVhKSgqlS5e2IhAjRITSpUufcgvQCoExBZwVgdiSm39vKwTGMampXkZ+3J+VG5Y4HcWYmGaFwDji1+1r6Tn2Qt48Ooenv+nrdBzjgKSkJPbu3Zsnz/Xaa6/x7rvBK6COHTuWHTt2hOV1wi1j9vxihcDku2kLxnLzjE6s96RyfkoCKxNT+Wz2607HMlHK5/PRp08fevToATj3YZoXnMpuvxoy+Sbg9zPi49sZ513EaQqP17iPRuddTseJlzN+w2t0uPQ2pyOaMOjQoQNbt24lJSWFO++8k969e5+wzbBhw3j//fcpW7YslStXpmHDhgwcOJAVK1bQp08fjhw5wllnncVbb71FqVKlaNGiBfXq1WPBggV069aNgwcPUrRo0eNT0HTv3p1ChQqxePFiAF588UWmTp1KWloan3zyCTVr1mTo0KH8+uuvbNq0id9++43nn3+eJUuW8MUXX1CxYkWmTp16Sj/BzOjQoUO0b9+eP//8k7S0NB577DHat2/P5s2bufrqq1m1ahUAI0aM4NChQ9SuXfuE7IsWLWLgwIH4fD4aNWrEq6++SkJCQq4znYwVApMv9h/cy5CPOrIwYT91vQk8cc1HVKlQHYArPPX52P0jn3z1El1a9nM4acH1yNTV/Lzjrzx9zvMqFOfha2pluc1bb73FaaedxtGjR2nUqBGdOnWidOnSx9cvXbqUTz/9lB9//JG0tDQaNGhAw4YNAejRowcvvvgizZs356GHHuKRRx5h5MiRAKSmph6fd2zo0KEAdO7cmZdeeokRI0aQnJx8/DXKlCnD999/zyuvvMKIESMYM2YMAL/88guzZ8/m559/5sILL+TTTz9l+PDhdOzYkWnTptGhQ4d/HMszzzzDBx98cMIxNmvWjFGjRv1jWWJiIpMmTaJ48eLs3buXJk2a0K5du5O+Txmzp6Sk0KtXL77++muqV69Ojx49ePXVVxkwYECW73duWNeQCbtlq+fQY9ylLEzYz9WBarz9f4uOFwGA/h1GcpovwCebxhDw+x1MasJh1KhRnH/++TRp0oStW7eyYcOGf6xfuHAh7du3JzExkWLFinHNNdcAcODAAfbv30/z5s0B6NmzJ/Pm/X0Z565du+Y4w7XXXgtAw4YN2bx58/Hlbdq0wePxUKdOHfx+P61btwagTp06/9jumEGDBrFixYoTbhmLAAR/03///fdTt25dWrZsyfbt2/n9999znHndunVUrVqV6tWD/69kPP68ZC0CE1bvTHuc13//ENxwd+nr+b+r/3fCNiWLlaFVQiPG+Zfz8dejuL7VXQ4kLfiy++YeDnPmzOGrr75i8eLFFC5cmBYtWuTZWc5FihTJ8bbHulPcbjc+n++E5S6XC4/Hc/ynly6X6x/bHXMqLYIPPviAPXv2sHz5cjweD0lJSaSkpBAXF0cgEDi+XSSc9W0tAhMWqale7nu7Pc/u+YjSfhejLng50yJwTL8Oz1HGF2DC5rHWKihADhw4QKlSpShcuDBr165lyZITfyp88cUXM3XqVFJSUjh06BCff/45ACVKlKBUqVLMnz8fgPfee+946yArxYoV4+DBg3l7ICGn0iI4cOAAp59+Oh6Ph9mzZ7NlS3AW6HLlyrF792727duH1+s9frwZs9eoUYPNmzezceNGIOfHnxvWIjB5buvODQyZcj0rE1O52FuSJ7tOolSJTK+HcVyJoqdxZaEmfJD2HR99+SzdWw/Op7QmnFq3bs1rr73GueeeS40aNWjSpMkJ2zRq1Ih27dpRt25dypUrR506dShRogQA77zzzvHB4mrVqvH2229n+5q9evWiT58+/xgsdkL37t255pprqFOnDsnJydSsWRMAj8fDQw89ROPGjalYseLx5XBi9rfffpsuXbocHyzu06dPWLKKqoblicMlOTlZ7cI0kWvm4g95ZvXj7IsTusVfyMCur+Fyu3O078HD++kw7mJK+N1MuPmHHO9nTm7NmjWce+65TsfI1qFDhyhatChHjhyhWbNmjB49mgYNGjgdK2pl9u8uIstVNTmz7a1ryOSZ58b35f61TxAQeLTa3Qy+4Y1T+jAvVqQkrQs3ZUOC8t6Mp8KY1ESa3r17U69ePRo0aECnTp2sCOQz6xoy/9qBQ39w/0cdmRf/B7XTPDze5n2qVc7dwGTfjs8x8/3GTNoxnhv9Q6xVECM+/PBDpyPEtLC2CESktYisE5GNIjIkk/VnishsEflBRFaKyFXhzGPy3op1C+j5YQvmxf9BG9+ZvNNrSa6LAEDhxCJcVaw5v8QrY6c/nodJjTEnE7ZCICJu4GWgDXAe0E1Ezsuw2YPAx6paH7geeCVceUze+2DGcPouvI1dHj93lrqW4TdPIz7+35/12Kf9M5yRpny26xP7BZEx+SCcLYLGwEZV3aSqqcA4oH2GbRQoHrpfAojOCUJijM+XxoNjO/H0rncp5XcxMvl5bmn3SJ49f+HEIlxV/DJ+jYcxnw/Ns+c1xmQunIWgIrA13eNtoWXpDQX+IyLbgOlA/8yeSER6i8gyEVm2Z8+ecGQ1ObRt92ZueusiJst6LkgtzjtdvqRJnVZ5/jp92j9FxTRlyu7P8PnS8vz5jTF/c/pXQ92AsapaCbgKeE9ETsikqqNVNVlVk8uWzfr36CZ8vvr2E26acjU/xR/lhriGvH7zfEqXLB+W10pMKEzbkq3YEg9vTH0oLK9hnBUL01APGjSIWrVqMWjQoJNus3nzZmrXrg0Ez8S++uqr8yveceH81dB2oHK6x5VCy9K7GWgNoKqLRSQRKAPsDmMukwsvfHIn7x36mqKiDE26k/YtTpxBMq/d1u5JvnhnFlP3TuXm1KF5Mv5gCp5j01AfM3bsWGrXrk2FChUcTBU0evRo/vjjD9wR/uu3cLYIlgLniEhVEYknOBg8JcM2vwGXA4jIuUAiYH0/EeTg4f30f+NSxhz5hmppcYxu+VG+FAGA+PgErindlq3xwuipD+TLa5q816FDBxo2bEitWrUYPXp0ptsMGzaMGjVq0LRpU7p168aIESMAWLFiBU2aNKFu3bp07NiRP//8E4AWLVowYMAAkpOTeeGFFxg6dCgjRoxgwoQJx6dyrlevHkePHgWC01A3aNCAOnXqsHbtWiA4Y2nPnj255JJLqFKlChMnTmTw4MHUqVOH1q1bk5b277ok27Vrx6FDh2jYsCHjx4+nV69eTJgw4fj6okWL/qvnz0thaxGoqk9E+gEzATfwlqquFpFHgWWqOgW4B3hDRO4iOHDcS6PtVOcCbNXGb3nom1vZkKC0SqvI4z0nkphQOF8z3NruMaa9PZ3P/5zBLd5H8/31C5QvhsCun/L2OcvXgTZZn/wXq9NQT5kyhaJFi7JixQoAvvjii2zfTqeE9YQyVZ1OcBA4/bKH0t3/Gbg4nBlM7oyb9TwvbxtDqgf6FW/HbR2fdCRHXJyHdqe348X9U3h9yn3c2eUFR3KY3Bs1ahSTJk0COD4NdfpCkH4a6sTExCynoe7Spcvx/XI7DfXEiROPL8/NNNRZ9fdHKzuz2PxDwO/n0fe7M0lXUdEv3N9oOE3rOXue301th/L521OYlvY1t3mPWKsgt7L55h4OsTwNdUbpp58OBAKkpqbmOH+4Of2rIRNBduzZwk1jLuRTVpPsLco7nWc5XgQg2CroUL4zOz3CK58VvG9jBVksT0OdUVJSEsuXLweC3Ub/dgwiL1khMADMWTaJ/5vclhUJR7jOdT5v3LKQsqWc/9XFMb2uepCzvML0g3M4knLY6Tgmh1q3bo3P5+Pcc89lyJAh2U5D3aZNmxOmoR40aBB169ZlxYoVPPRQ9j8lPjaVc/rB4khw6623MnfuXM4//3wWL158Si2acLNpqA0vfTqQd/6aQeGA0j/pv3S+vK/TkTI1dtownt37MT3iL2JQt9edjhMVbBrq2GTTUJscO3zkIAPeaMnrh2aSlBbH6Mvej9giANCj9f2c4xVmHFnA4SPhafobZ9g01M6yweIYtWbTcv731U2sSwjQMu0MHu8xicKJkdNUzYzL7ebayt15evf7vPTZXdx7wxinI5k8YtNQO8taBDFo1cZv6Te7B1s8fvoUa83zt8yK+CJwzA2tBlLD62Lm0cUcOPSH03GMKRCsEMSYrTs3MHj2zRxywbAa99H32mecjnRKXG43nZN6sifOxSuT73Y6jjEFghWCGLJv/y4GTO3MLg/cXelWWl/U3elIuXLd5XdyrtfNzJSl7D/ozGRixhQkVghixJGUw9w5vi0b4/30KdWerlcMcDpSrrncbrpUu4V9cS5e+uwup+MYE/WsEMQAny+NAe+24sfEVLonXETv9tF/CcguLftRyxvHrLTv2bd/l9NxTC7EwjTUJ3Nswjmnpp3OyApBARfw+xk0ti2LE/6ivVZncLfMZ3+MRl3PuY0/3S5emmKtglh2bBrqHj16ACcWApM9KwQF3ND3u/GVZyeXp5Xn0Rs/djpOnup4aR/qeD186VvJnj/tf/xIFavTUENwbqJGjRpRt25dHn744Sy3Xbp0KfXr1+eXX35h6tSpXHDBBdSvX5+WLVvy+++/H89800030aJFC6pVq5ajqS1yws4jKMBGjOvDJNbQxFuMETdNxxXhF8fIjetr9uWBX0fy4pQBPNqzYBW6vPb0d0+z9o+1efqcNU+ryb2N781ym1idhnrWrFls2LCB7777DlWlXbt2zJs3j2bNmp2w/6JFi+jfvz+TJ0/mzDPP5LTTTmPJkiWICGPGjGH48OE8++yzAKxdu5bZs2dz8OBBatSowe23347H48ny3yA7VggKqDFTHuK9lAXU9SYw8saZxMX9u/9QIlW7Zjfz8ZpX+dqzmv/u3Ur5MpWz38nkq1idhnrWrFnMmjWL+vXrA8FpNDZs2HBCIVizZg29e/dm1qxZx6+qtm3bNrp27crOnTtJTU2latWqx7dv27YtCQkJJCQkcPrpp/P7779TqVKlHL8XmbFCUAB98tVLvLpvImeluRjVdRpFChdzOlJYda99J4M3DuelqQN47P8+dTpOxMrum3s4xPI01KrKfffdx2233ZZltjPOOIOUlBR++OGH44Wgf//+3H333bRr1445c+Ycb/Gkz5zZ8eSWjREUMF8uGc+zW1+lnA+ev3pC2C4uH0naXHwj9b2JfKNr2bZ7s9NxTDqxPA31lVdeyVtvvcWhQ4cA2L59O7t3n3g59pIlSzJt2jTuu+8+5syZAwTft4oVKwLBGVjDzQpBAbJ09dcMW/0ohQPwVIsxVKlQ3elI+eY/de7moNvFy9Oi9/yIgiiWp6Fu1aoVN9xwAxdeeCF16tShc+fOJy1Q5cqV4/PPP6dv3758++23DB06lC5dutCwYUPKlCkT9qw2DXUBse7XH+j/9Y0ccSlPNXgmIi4ok996vd6YtfGH+aTNVCqXr+Z0nIhg01DHJpuGOgZt272ZgV/1YL9bua/6oJgsAgA96g/msMvFy9OtVRBtbBpqZ9lgcZTbf3Avd3/WgW3xysDyPWnbtJfTkRxzWePONPphBLPjf2HLjvUx1TUW7WwaamdZiyCKpXiPcOeHbVgb7+PmYq3p3nqw05Ec1zP5Po6K8NIXdrbxMdHW/Wv+ndz8e1shiFIBv5+73rmS7xNT6BqXTL9OI5yOFBGaN2xPY28x5ro2s/G3VU7HcVxiYiL79u2zYhAjVJV9+/aRmJh4SvtZ11CUundsOxYk7Odqf1Ue6DnW6TgRpdcF/6PvisG8Omsgz94yw+k4jqpUqRLbtm1jz549Tkcx+SQxMfGUTzCzQhCFHn2vOzPifqN5amkev2mS03EiTtN6V3HBd48z17ON9VtWUL1KPacjOcbj8fzjrFRjMmNdQ1HmhU/u5JPAShp5C/Ncz5kFcv6gvHDThQ/jE3j1Sxs3MSY7VgiiyNhpw3j78NfU8sbxQveZxMcnZL9TjGpSpxVNUksxz72DNZuWOx3HmIhmhSBKTJ4zmpd2jycp1cULnT6nWJGSTkeKeLdcPIyAwGtfW6vAmKxYIYgCc5ZN4ulNL1DaDyNaf0i50hWdjhQVkmu14MLU0sz3/M7KDSfOcWOMCbJCEOFWrFvA0B8fJF7hyaavcvaZtZ2OFFVuafYYCoyec5/TUYyJWGEtBCLSWkTWichGERmSyfrnRWRF6LZeRPaHM0+02bR1NUPm9yFV4OG6j9Kg5iVOR4o6DWpewsVpZVno2cP3a+c7HceYiBS2QiAibuBloA1wHtBNRM5Lv42q3qWq9VS1HvAiMPHEZ4pNv+/bzt0zurHXDYOr3sGljTo5HSlq9W7xJAKMmfeg01GMiUjhbBE0Bjaq6iZVTQXGAe2z2L4b8FEY80SNg4f3M+DTq9nsCdC3bFc6XJr1hS1M1uqe04RL0sqxOH4fy1bPcTqOMREnnIWgIrA13eNtoWUnEJEqQFXgm5Os7y0iy0RkWUE/QzI11cud77dmVYKPXoUv4/+u/p/TkQqEPpcPx6UwZqG9n8ZkFCmDxdcDE1TVn9lKVR2tqsmqmly2bNl8jpZ/An4/A99pw9LEw3SROgy47sSrHpncObdaQ5r5K7Ak/k+W/DTL6TjGRJRwFoLtQPoriVcKLcvM9Vi3EA++25nZ8Xu40leJh3rYtLx57fYrhhOn8NbiR5yOYkxECWchWAqcIyJVRSSe4If9lIwbiUhNoBSwOIxZIt5TH9zEVNdGLvaWZHivz52OUyBVr1KP5v5KfBt/gAUrpjsdx5iIEbZCoKo+oB8wE1gDfKyqq0XkURFpl27T64FxGsPz5L468V4+TPuO+imJjLT5g8Kq75XPkqDK2G+HOR3FmIgR1tlHVXU6MD3DsocyPB4azgyR7sOZzzL6r2nUSI1j1A1fkJhQ2OlIBVq1yrVoHkhiZsIW5i6fTPOGWf2QzZjYECmDxTFp+oJ3GbnjLSqlCc93+IySxco4HSkm9GvzPIVUeWfZk05HMSYiWCFwyIIV03li/dOU8AsjWr5LpdOTnI4UM6pUqM6lehZLEw/zzXcTnI5jjOOsEDhg1cZveXj5IFzA4xeMpEbV+k5Hijl9rxpJkUCAd38Y7nQUYxxnhSCfbd25gcGzb+aQCx4890Ea12npdKSYVLl8NS7lHJYnHmXmYvuproltVgjyUcDvZ8iU69nlgXsq3UarC7s5HSmm9W07kmL+AB/89LzTUYxxlBWCfPTsx/9lZWIq13kac90VdzgdJ+ZVOj2Jy6QmPySkMH3Bu07HMcYxVgjyycr1i5iQsoBa3jgGdn3d6TgmpN81IynuD/Dh6hecjmKMY6wQ5IOA38+Tc/oBMLjZKOLiPA4nMseUL1OZy921+DExlSnz3nQ6jjGOsEKQD0aM78OqhDQ6JVxkF5eJQP3bjaSEP8D4Na84HcUYR1ghCLPv187nU+8ians9DOz6mtNxTCbKlqrAZe7zWJmYyrQFY52OY0y+s0IQRj5fGsPnBQeF720+yuYQimB9rw6OFYxb/ZLTUYzJd1YIwmjEx31YneCjc2JT6tVo6nQck4VypStyqasmKxK9zFj0gdNxjMlXVgjC5Puf5zLRu4Q6Xg/3XGd9z9Hgv22fo5g/wIc/jXQ6ijH5ygpBGPh8aQxfMAABhrR4ybqEokSFslW4VKrzQ2IKsxbH/HWSTAyxQhAGz4zvzeoEH9cVakbd6hc5HcecgtvbPk9Rf4APV9rZxiZ2WCHIY8tWz2Fi6lLqpsRzVxcbeIw2lU5PooWczfLEozYzqYkZVgjykM+XxvCFA3Cj3Hf5K9YlFKX+2+Z5igQCvPfDM05HMSZf5LgQiEghEakRzjDR7ulxt7Imwc91hVtQ++wLnI5jcqly+Wq00LNYlniEOcsmOR3HmLDLUSEQkWuAFcCM0ON6InLChehj2Xc/fcVnacs4PyWBAZ1HOR3H/Eu3tx5B4UCA95Y/7XQUY8Iupy2CoUBjYD+Aqq4AqoYpU9Tx+dJ4ZvFA4lS5r+Vr1iVUAFSpUJ3mgSSWJhxi/vf2nccUbDktBGmqeiDDMs3rMNHqqY9uZm2Cn65FL6PWWclOxzF55PbWz5KoyjtL7drGpmDLaSFYLSI3AG4ROUdEXgQWhTFX1Fjy0yw+831PvZQE7uhkJyIVJFUr1qRZ4Ey+SzjIghXTnY5jTNjktBD0B2oBXuBD4ABwZ7hCRYvUVC8jFg8iXpX7r3jduoQKoP+2GkGCwjvfPeZ0FGPCJqeFoK2qPqCqjUK3B4F24QwWDZ4efzPrEgJ0LdaSc6s1dDqOCYNqlWvRzF+J7+L/YvHKGU7HMSYscloI7svhspixeOUMJvtWUN+bSP9rn3M6jgmj264Yjkdh7BJrFZiCKS6rlSLSBrgKqCgi6X8TWRzwhTNYJEtN9TJiyb3ExykPXDHauoQKuOpV6nKJvwKz43fw3U9f0bhOS6cjGZOnsmsR7ACWASnA8nS3KcCV4Y0WuZ4a93+sTwjQrVgralSt73Qckw/6XP40cQpvLX7E6SjG5LksWwSq+iPwo4iUU9V30q8TkTuBmLvi94IV05niX0mD1EL0/c8Ip+OYfFKjan2aflWeOfG7WLZ6Dsm1WjgdyZg8k9MxguszWdYrD3NEhdRUL89/dx8JqjzQ+g3rEooxt13+NG6FtxY+5HQUY/JUloVAROnxP74AABoESURBVLqJyFSgqohMSXebDfyRPxEjx5Pjega7hEq0oXqVek7HMfns3GoNaeorx+L4P/h+7Xyn4xiTZ7JrESwCngXWhv4eu91DDsYIRKS1iKwTkY0iMuQk21wnIj+LyGoR+fDU4uefBT98zhT/KhqmFOK/HWz+mVh166VPIMCb8/7ndBRj8kyWhUBVt6jqHFW9ENgMeFR1LrAGKJTVviLiBl4G2gDnAd1E5LwM25xD8GeoF6tqLWBAbg8knFK8R3hu6f0UUuX+1mOsSyiG1T77Ai5OK8ui+L2sXG8n15uCIaezj94KTABeDy2qBHyWzW6NgY2quklVU4FxQPsM29wKvKyqfwKo6u6cBs9PT477PzYkKDeUbEv1KnWdjmMcdmvzxwF4Y+4DDicxJm/kdLC4L3Ax8BeAqm4ATs9mn4rA1nSPt4WWpVcdqC4iC0VkiYi0zuyJRKS3iCwTkWV79uzJYeS8Mf/7KUzV1SSnFKZPe5t8zEDd6hdxcVoZFnr2sGrjt07HMeZfy2kh8Ia+1QMgInHkzeyjccA5QAugG/CGiJTMuJGqjlbVZFVNLlu2bB68bM6keI/w7PIHKRxQHmjzpnUJmeNuumQYCoyeHdMn2JsCIqeFYK6I3A8UEpErgE+Aqdnssx2onO5xpdCy9LYBU1Q1TVV/BdYTLAwR4YlxPfklXuleqh1nn1nb6TgmgjSoeQkXppZmgWc3q39Z5nQcY/6VnBaCIcAe4CfgNmA68GA2+ywFzhGRqiIST/BchIxX+PiMYGsAESlDsKtoUw4zhdWcZZP4XNfQKKUIt3e0LiFzoluaPkoAeOObTH8QZ0zUyFEhUNWAqr6hql1UtXPofpZdQ6rqA/oBMwn+yuhjVV0tIo+KyLGZS2cC+0TkZ2A2MEhV9+X+cPLGkZTDjPz+YYoElAevetPpOCZCNTivOU1SS7Egbhfrfv3B6TjG5Jpk83ke3EjkVzIZE1DVauEIlZXk5GRdtiy8TfEHx3ZisqynX4lruK3DE2F9LRPdlq7+mluX3smlvgo8f8ssp+MYc1IislxVM72EYpZzDaWTfudEoAtw2r8NFolmL/2UaayjsbeYFQGTrUa1LqfJwpLM9+xg/ZaV9vNiE5Vy2jW0L91tu6qOBNqGOVu+O5JymJErhlIsoDzY9m2n45go0evCh0gTeP3LwU5HMSZXctQiEJEG6R66CLYQctqaiBqPf3Qjm+Khf8lrqVqxptNxTJRoUqcVFywuwTzPNjb+tsp+YWaiTk5/NZR+nqEngYbAdeEK5YSvvv2E6bKeC1KK0rv9MKfjmCjT64IH8Qq89uUgp6MYc8py9K1eVS8NdxAnHUk5zKiVj1LMpfzvmney38GYDC46vw2NlzzKvPjf+HX7WmtRmqiS07mGSojIc8emeRCRZ0WkRLjD5ZfHPvoPv8ZDj7KdqVKhutNxTJTq1fgBUkR4dcY9Tkcx5pTktGvoLeAgwe6g6wjOOVQgRlO/XDKeL2QDTbzFuKWdXYbQ5F7T+lfTKLUYc12b2bJjvdNxjMmxnBaCs1T14dBMoptU9REg388hyGuHjxxk1E+PUdyvPGRdQiYP3NhgMEdcLl6dMdDpKMbkWE4LwVERaXrsgYhcDBwNT6T889j4/7A5Hnqe3pXKZ0TMFEcmirVI7kgjb2HmyC9s3RURs6UYk62cFoI+wMsisllEtgAvhZZFrZmLP+QL+YULvcW56Rq7Bq3JO/+pN4jDLhevfHGX01GMyZGcnlD2o6qeD9QF6qhqfVX9MbzRwufwkYO8uOpJSvqV/7V7z+k4poC5rHFnGqYUYo5uZNvuzU7HMSZbOf3VUIKI3EBwErkBIvKQiETt1+hh47qzJR56lb+eyuWjfqjDRKDu59/DIbeLV6dZq8BEvpx2DU0meJlJH3A43S3qfLHwPWa4NnGxtwS92toFyE14XNGkKw1SEpmt69mxZ4vTcYzJUk4LQSVV7aqqw1X12WO3sCYLg4OH9/PSz8Mp6Vce7PC+03FMAdetzgAOul28Mu1up6MYk6WcFoJFIlInrEnywbDx/+G3eLjpjO5UOj3J6TimgGt9UXfqpSQwO7CW3/dlvDifMZEjy0IgIj+JyEqgKfC9iKwTkZXplkeN6QveZaZrMxd7S9LjqvudjmNiRLdad/CX28XLnw9wOooxJ5XdXENX50uKfLBq6wJO98GDHexXQib/XNW0Bx+ufoFvPD/T/88dlC1VwelIxpwgu66hg9ncosbgbqOZcP086xIy+a7ruX054Hbx8hQbKzCRKbtCsBxYFvqb8Rbe60WGQYmiBfKiaibCXdPsJuqmxPO1/yf27d/ldBxjTpBlIVDVqqpaLfQ3481+gG9MDl1X4zb2W6vARKjsBotrhv42yOyWPxGNiX7tW/SmttfDV74f+fPAHqfjGPMP2XUNHfv6kv4KZSPS3YwxOXTdOb350+3ipSl2trGJLNkVgjEiUl5VLw1dpWwscAhYBXQOdzhjCpKOl/ahljeOr1J/YP/BvU7HMea47ArBa0AqgIg0I3i94neAA8Do8EYzpuDpVO1m/ohz8fJku4qZiRzZFQK3qv4Rut8VGK2qn6rq/4CzwxvNmIKnS8t+nOt186V3GQcO/ZH9Dsbkg2wLgYgcO+nscuCbdOtydOF7Y8w/XZvUk31xLl6xVoGJENkVgo+AuSIymeAVyeYDiMjZBLuHjDGn6LrL76Cm182XKd9x8PB+p+MYk+15BI8D9xAcJG6qqppuv/7hjWZMweRyu+lY5Ub2xLl4ZbJd29g4L9vZR1V1iapOUtXD6ZatV9XvwxvNmILr+pYDqO51MevoYg4fiarZWkwBlNNpqI0xecjldtOx8g3stl8QmQgQ1kIgIq1DU1dvFJEhmazvJSJ7RGRF6HZLOPMYE0luaDWQc7zCrMMLOZISlRf8MwVE2AqBiLiBl4E2wHlANxE5L5NNx6tqvdBtTLjyGBNpXG437St25XePi1c/s7EC45xwtggaAxtVdZOqpgLjCF732BgTcmPrIZyVKsw4NN9aBcYx4SwEFYGt6R5vCy3LqFPoqmcTRKRyZk8kIr1FZJmILNuzxybsMgWHy+2m/Rld2OURXpt8r9NxTIxyerB4KpCkqnWBLwlOX3ECVR2tqsmqmly2bNl8DWhMuPVscz/VUmHGwTmkeI84HcfEoHAWgu1A+m/4lULLjlPVfarqDT0cAzQMYx5jIpLL7eaactey0yO8NvmE31QYE3bhLARLgXNEpKqIxAPXA1PSbyAiZ6R72A5YE8Y8xkSsm9o+RFIqfPHXN9YqMPkubIVAVX1AP2AmwQ/4j1V1tYg8KiLtQpvdISKrReRH4A6gV7jyGBPJXG437ctdyw6P8PyE/zodx8QY+XvWiOiQnJysy5ZF3eWSjclWwO+n+5uN2Bzn5b2W4zn7zNpORzIFiIgsV9XkzNY5PVhsjAlxud30bfwYKS5hxIzbnY5jYogVAmMiSNN6V9HSfyYLE/Yzea6dX2nyhxUCYyLM4GvHUNYX4K31L5Ca6s1+B2P+JSsExkSYsqUq0KXU1WyKh+c+sS4iE35WCIyJQLe1f4Ja3jimeL9l09bVTscxBZwVAmMikMvtpl+jYRx1Cc980cfpOKaAs0JgTIRqWv9qLvdVZkHCfqbMe9PpOKYAs0JgTAQb1HEMpX0B3lw30gaOTdhYITAmgpUrXZEupa4KDhzbGccmTKwQGBPhbm//VHDgOGUJv25f63QcUwBZITAmwrncbvomPxIcOJ52m9NxTAFkhcCYKHBJg3Zc5qvIgvh9TJ33ltNxTAFjhcCYKDG441uc5lfeXGsDxyZvWSEwJkqUK12RziXb8EuCMnJCP6fjmALECoExUeS/HZ7mXK+bySmL2LJjvdNxTAFhhcCYKOJyu/lvg4c57BKGf97b6TimgLBCYEyUaZHckUt9FZgfv5fpC951Oo4pAKwQGBOF7u3wJqX8yhs/j8DnS3M6jolyVgiMiULly1Smc/FWbExQnv/EBo7Nv2OFwJgo1ffaEZzrdfPZ0QU2cGz+FSsExkQpl9vN7fX/x2GX8Mw0Gzg2uWeFwJgodmmjTlzqq8A8z16+WPie03FMlLJCYEyUG9T+DUr6lTdWP2MDxyZXrBAYE+UqlK1Cp+It2ZCgjJzQ3+k4JgpZITCmAOh/7XPU9Lr57Mh8tu7c4HQcE2WsEBhTALjcbm6v9yCH7IxjkwtWCIwpIC5r3JkWaeWZ69nDjEUfOB3HRBErBMYUIAPbj6FkQBm96mkbODY5ZoXAmAKk0ulJXFv0MjYkKKM+vdPpOCZKWCEwpoDpd+1z1PC6mHh4Llt3bXI6jokCYS0EItJaRNaJyEYRGZLFdp1EREUkOZx5jIkFcXEe+pz/IAddwjNTb3E6jokCYSsEIuIGXgbaAOcB3UTkvEy2KwbcCXwbrizGxJqWF3ShRVo55np2M2vxR07HMREunC2CxsBGVd2kqqnAOKB9JtsNA54GUsKYxZiYM6j9mxQPKK//9JQNHJsshbMQVAS2pnu8LbTsOBFpAFRW1WlZPZGI9BaRZSKybM+ePXmf1JgCqNLpSXQscinrEwKM+vQup+OYCObYYLGIuIDngHuy21ZVR6tqsqomly1bNvzhjCkg7uj0PNW9LiYdnm0Dx+akwlkItgOV0z2uFFp2TDGgNjBHRDYDTYApNmBsTN6Ji/NwW50h/OUSRky91ek4JkKFsxAsBc4RkaoiEg9cD0w5tlJVD6hqGVVNUtUkYAnQTlWXhTGTMTGn1YXdaJ52OnM8v/PlkvFOxzERKGyFQFV9QD9gJrAG+FhVV4vIoyLSLlyva4w50aBrxlAsoLy+8gkbODYnCOsYgapOV9XqqnqWqj4eWvaQqk7JZNsW1howJjwql6/GtUWasy4hwEsT73Y6jokwdmaxMTHijk4vcI5XmHjoG7bt3ux0HBNBrBAYEyPi4jz0rn0v+13CiMl2xrH5mxUCY2JI64u60zytLLM9u/jq20+cjmMihBUCY2LM4KtHBweOf3ycgN/vdBwTAawQGBNjKp9xDh0KX8LaBD8v2sCxwQqBMTFpQOcXOccrfPrXV+zYs8XpOMZhVgiMiUFxcR5urTWI/W5huA0cxzwrBMbEqDYX30iztDLMidvJ7KWfOh3HOMgKgTExbFDb0RQJKK/8MMwGjmOYFQJjYliVCtVpX+hi1ib4eXniQKfjGIdYITAmxg3o9CJne4UJf81i196t2e9gChwrBMbEuPj4BG49byB/uoWnP7vZ6TjGAVYIjDFc1bQHl6SVZnbcDuYsm+R0HJPPrBAYYwAYeNXrwYHj7x+xgeMYY4XAGANA1Yo1aZ94EWsS/Lw08R4rBjFEVNXpDKckOTlZly2zyxYYEw6pqV6uG9uIXxKCnwvxASVeFQ/gUfCoHL+5ceFRF3HiJk7dwb/E4ZE44sSDxxVPnCv4N96dgMedSLw7EU9cIRLiCpEYX4gETxEKxRclMb4whRKLUiSxOIUTi1O0cAmKFCqG2+3haMpBjqamkOo9jDcthaOpR0hNO0paWgreNG/wvi+FVF8qaX4vPr+XVJ8Xvz+VtEAaPn8qvkAqvkAa/oAPfyANn4buqx+/+vCpj4D68eMPLiOAnwABDeCXAMUoQoXCSZxTrgGNzmtF1Yo1nf2HygURWa6qmV4K2AqBMeYfVv+yjPELhpMW8JIW+gD1EfywTMOPT334COCTAD4CpEmANFHSUHwCqQKpIqQKqIjTh5MtjypxqsQpuCH4V8GNHP+7zx3goPvvDpTTfAEq+BMo7ypD5WJnU6NiY5rUbk3pkuWdO5BsWCEwxuS7gN/PUe8RDh39i8NH9nMo5SBHUv7iaMpBUlKPkJJ6mKOph/GmHSE17QipvhRS/cFbmt9LasCLqhLn8uB2xeEWDx6Xhzi3B7fLQ5w7Ho87njhXAh53PJ64eDxxiXjiEoiPSyQ+LoH4+MIkeBJI8BQiwVOIxIQiJMQXIjGhEInxhYmPS8DldufoWNZtWcH367/ml90r2JGylV0cYJsngNf1d7E7I00p7y/EGZ7ynFmyJrWrNKVRrZYUTiwSzrc6R6wQGGNMGKSmelmxbj4rNs1lyx+r2Zm6g12uQ+zwgD/UGopTpWKaUD5QlDMSKlG1dB3qndWcutUvIi7Ok29ZrRAYY0w+Onh4P9+u+pI1vy3it7/Wscu3m53uo/zu+bt7qXAgQMU0N+UpSYVCVTi7XH0a1GhJ9Sp1w5LJCoExxkSAXXu38u3qmazb8R3bD23id93HtrhUDqQbfyjpD1DRF085KU2lomdRvUIjLqh1JeXLVP5Xr22FwBhjIlTA72fjttUsW/slm3avYMfRLexiP9s8fo66/i4Q5dICdCjVhn6dRuTqdbIqBHG5i26MMSYvuNxuqlepe0KXkM+Xxsr1i1jxyxx+3beKnYFtlClWMSwZrBAYY0wEiovz0OC85jQ4r3nYX8vOLDbGmBhnhcAYY2KcFQJjjIlxVgiMMSbGWSEwxpgYZ4XAGGNinBUCY4yJcVYIjDEmxkXdFBMisgfYksvdywB78zBOtLP345/s/fibvRf/VBDejyqqWjazFVFXCP4NEVl2srk2YpG9H/9k78ff7L34p4L+fljXkDHGxDgrBMYYE+NirRCMdjpAhLH345/s/fibvRf/VKDfj5gaIzDGGHOiWGsRGGOMycAKgTHGxLiYKAQiUllEZovIzyKyWkTudDqT00TELSI/iMjnTmdxmoiUFJEJIrJWRNaIyIVOZ3KSiNwV+v9klYh8JCKJTmfKTyLylojsFpFV6ZadJiJfisiG0N9STmbMazFRCAAfcI+qngc0AfqKyHkOZ3LancAap0NEiBeAGapaEzifGH5fRKQicAeQrKq1ATdwvbOp8t1YoHWGZUOAr1X1HODr0OMCIyYKgaruVNXvQ/cPEvwfPTwX/4wCIlIJaAuMcTqL00SkBNAMeBNAVVNVdb+zqRwXBxQSkTigMLDD4Tz5SlXnAX9kWNweeCd0/x2gQ76GCrOYKATpiUgSUB/41tkkjhoJDAYCTgeJAFWBPcDboa6yMSJSxOlQTlHV7cAI4DdgJ3BAVWc5myoilFPVnaH7u4ByTobJazFVCESkKPApMEBV/3I6jxNE5Gpgt6oudzpLhIgDGgCvqmp94DAFrNl/KkJ93+0JFsgKQBER+Y+zqSKLBn9zX6B+dx8zhUBEPASLwAeqOtHpPA66GGgnIpuBccBlIvK+s5EctQ3YpqrHWogTCBaGWNUS+FVV96hqGjARuMjhTJHgdxE5AyD0d7fDefJUTBQCERGCfcBrVPU5p/M4SVXvU9VKqppEcBDwG1WN2W98qroL2CoiNUKLLgd+djCS034DmohI4dD/N5cTw4Pn6UwBeobu9wQmO5glz8VEISD4LfhGgt9+V4RuVzkdykSM/sAHIrISqAc84XAex4RaRhOA74GfCH5GFOjpFTISkY+AxUANEdkmIjcDTwFXiMgGgq2mp5zMmNdsigljjIlxsdIiMMYYcxJWCIwxJsZZITDGmBhnhcAYY2KcFQJjjIlxVgiMI0REReTZdI8HisjQPHrusSLSOS+eK5vX6RKarXR2OHOJSJKI3HDqCU/5dYaKyMDQ/cTQLJtDw/26xnlWCIxTvMC1IlLG6SDphSZay6mbgVtV9dJw5QlJAk6pEJzicWTcN57gWfjLVXVobp/HRA8rBMYpPoInKt2VcUXGb84icij0t4WIzBWRySKySUSeEpHuIvKdiPwkImele5qWIrJMRNaH5lc6dg2GZ0RkqYisFJHb0j3vfBGZQiZnFYtIt9DzrxKRp0PLHgKaAm+KyDOZ7HNvaJ8fReSEk49EZPOxIigiySIyJ3S/ebqTHn8QkWIET166JLTsrpweh4gUEZFpoQyrRKRrDv5d4oDxwAZVjdk5l2JNrr81GJMHXgZWisjwU9jnfOBcgtMEbwLGqGpjCV5sqD8wILRdEtAYOAuYLSJnAz0IzqbZSEQSgIUicmxmzQZAbVX9Nf2LiUgF4GmgIfAnMEtEOqjqoyJyGTBQVZdl2KcNwYnbLlDVIyJy2ikc30Cgr6ouDE2SmEJwEryBqnqsoPXOyXGISCdgh6q2De1XIgevPxj4UlUHZLulKTCsRWAcE5oB9l2CF0LJqaWh60t4gV+AYx+APxH88D/mY1UNqOoGggWjJtAK6CEiKwhOQ14aOCe0/XcZi0BII2BOaBI2H/ABwesXZKUl8LaqHgkdZ8a57bOyEHhORO4ASoZeM6OcHsdPBKdFeFpELlHVAzl4/QXARSJS/RQymyhnhcA4bSTBvvb01wDwEfpvU0RcQHy6dd509wPpHgf4Zws349wpCgjQX1XrhW5V0821f/hfHcWpO36MwPFLQarqU8AtQCGC3/RrZrJvjo5DVdcTbCH8BDwW6s7KzjyCraovjs22aQo+KwTGUaFvyx8TLAbHbCbYFQPQDvDk4qm7iIgrNG5QDVgHzARuD01JjohUl+wvQvMd0FxEyoiIG+gGzM1mny+B/xORwqHXyaxraDN/H2OnYwtF5CxV/UlVnwaWEmzJHASKpds3R8cR6tY6oqrvA88Qml5bRJ4UkY4nC6+qnxK8OM0MESmZzbGaAsDGCEwkeBbol+7xG8BkEfkRmEHuvq3/RvBDvDjQR1VTRGQMwe6j70VECF6ZLMtLDqrqThEZAswm+E18mqpmOQWxqs4QkXrAMhFJBaYD92fY7BGCA83DgDnplg8QkUsJtnBWA1+E7vtD78dYgtdYzslx1AGeEZEAkAbcnm75lGyO4VURKQdMEZFWqpqS1fYmutnso8bEGBGZqapXOp3DRA4rBMYYE+NsjMAYY2KcFQJjjIlxVgiMMSbGWSEwxpgYZ4XAGGNinBUCY4yJcf8P204RtbyiZlIAAAAASUVORK5CYII=\n",
            "text/plain": [
              "<Figure size 432x288 with 1 Axes>"
            ]
          },
          "metadata": {
            "needs_background": "light",
            "tags": []
          },
          "output_type": "display_data"
        }
      ],
      "source": [
        "algorithm = ['auto','full','elkan']\n",
        "k = [2, 3, 4, 5, 6, 7, 8, 9, 10, 11]\n",
        "\n",
        "ss = np.zeros((len(k), len(algorithm)))\n",
        "\n",
        "for i, k_ in enumerate(k):\n",
        "    for j, algo in enumerate(algorithm):\n",
        "        kmeans = KMeans(n_clusters=k_, algorithm=algo, random_state=20).fit(df_two)\n",
        "        ss[i, j] = silhouette_score(df_two, kmeans.labels_, metric='euclidean')\n",
        "    \n",
        "\n",
        "plt.figure()\n",
        "for i in range(len(algorithm)):\n",
        "    plt.plot(k, ss[:, i], label=\"algorithm = {}\".format(algorithm[i]))\n",
        "#plt.plot(epss, ss[:, 1])\n",
        "plt.title('K-Means, Elbow Method')\n",
        "plt.xlabel(\"Number of clusters, K\")\n",
        "plt.ylabel(\"Silhouette\")\n",
        "plt.legend()"
      ]
    },
    {
      "cell_type": "code",
      "execution_count": null,
      "metadata": {
        "colab": {
          "base_uri": "https://localhost:8080/",
          "height": 312
        },
        "id": "RXeg-rSnZp8b",
        "outputId": "9ef8eeb4-e874-4864-b2d4-8be7b5ea0d8e"
      },
      "outputs": [
        {
          "data": {
            "text/plain": [
              "<matplotlib.legend.Legend at 0x7fbdb76b5f50>"
            ]
          },
          "execution_count": 14,
          "metadata": {
            "tags": []
          },
          "output_type": "execute_result"
        },
        {
          "data": {
            "image/png": "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\n",
            "text/plain": [
              "<Figure size 432x288 with 1 Axes>"
            ]
          },
          "metadata": {
            "needs_background": "light",
            "tags": []
          },
          "output_type": "display_data"
        }
      ],
      "source": [
        "init = [1,2,3,4,5]\n",
        "k = [2, 3, 4, 5, 6, 7, 8, 9, 10, 11]\n",
        "\n",
        "ss = np.zeros((len(k), len(init)))\n",
        "\n",
        "for i, k_ in enumerate(k):\n",
        "    for j, init_ in enumerate(init):\n",
        "        kmeans = KMeans(n_clusters=k_, n_init=init_, random_state=20).fit(df_two)\n",
        "        ss[i, j] = silhouette_score(df_two, kmeans.labels_, metric='euclidean')\n",
        "    \n",
        "\n",
        "plt.figure()\n",
        "for i in range(len(init)):\n",
        "    plt.plot(k, ss[:, i], label=\"init = {}\".format(init[i]))\n",
        "#plt.plot(epss, ss[:, 1])\n",
        "plt.title('K-Means, Elbow Method')\n",
        "plt.xlabel(\"Number of clusters, K\")\n",
        "plt.ylabel(\"Silhouette\")\n",
        "plt.legend()"
      ]
    },
    {
      "cell_type": "code",
      "execution_count": null,
      "metadata": {
        "colab": {
          "base_uri": "https://localhost:8080/",
          "height": 590
        },
        "id": "qVHprvEnZtBB",
        "outputId": "e8403426-050a-4e6f-cf0d-6f3ba124e981"
      },
      "outputs": [
        {
          "data": {
            "text/plain": [
              "Text(0, 0.5, 'Silhouette')"
            ]
          },
          "execution_count": 15,
          "metadata": {
            "tags": []
          },
          "output_type": "execute_result"
        },
        {
          "data": {
            "image/png": "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\n",
            "text/plain": [
              "<Figure size 432x288 with 1 Axes>"
            ]
          },
          "metadata": {
            "needs_background": "light",
            "tags": []
          },
          "output_type": "display_data"
        },
        {
          "data": {
            "image/png": "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\n",
            "text/plain": [
              "<Figure size 432x288 with 1 Axes>"
            ]
          },
          "metadata": {
            "needs_background": "light",
            "tags": []
          },
          "output_type": "display_data"
        }
      ],
      "source": [
        "inertias = {}\n",
        "silhouettes = {}\n",
        "for k in range(2, 11):\n",
        "    kmeans = KMeans(n_clusters=k, random_state=20).fit(df_two)\n",
        "    inertias[k] = kmeans.inertia_ \n",
        "    silhouettes[k] = silhouette_score(df_two, kmeans.labels_, metric='euclidean')\n",
        "    \n",
        "\n",
        "plt.figure()\n",
        "plt.plot(list(inertias.keys()), list(inertias.values()))\n",
        "plt.title('K-Means, Elbow Method')\n",
        "plt.xlabel(\"Number of clusters, K\")\n",
        "plt.ylabel(\"Inertia\")\n",
        "\n",
        "plt.figure()\n",
        "plt.plot(list(silhouettes.keys()), list(silhouettes.values()))\n",
        "plt.title('K-Means, Elbow Method')\n",
        "plt.xlabel(\"Number of clusters, K\")\n",
        "plt.ylabel(\"Silhouette\")"
      ]
    },
    {
      "cell_type": "markdown",
      "metadata": {
        "id": "nsHlSqi9Z0lB"
      },
      "source": [
        "When K-Value is equal to 5, silhouette score is the highest. Thus, I set the number of clusters is five in the below model."
      ]
    },
    {
      "cell_type": "code",
      "execution_count": null,
      "metadata": {
        "colab": {
          "base_uri": "https://localhost:8080/",
          "height": 312
        },
        "id": "fxXw_lQeZy8j",
        "outputId": "6562bb04-fe05-4ea7-db34-910945ca5894"
      },
      "outputs": [
        {
          "data": {
            "text/plain": [
              "Text(0, 0.5, 'Age')"
            ]
          },
          "execution_count": 16,
          "metadata": {
            "tags": []
          },
          "output_type": "execute_result"
        },
        {
          "data": {
            "image/png": "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\n",
            "text/plain": [
              "<Figure size 432x288 with 1 Axes>"
            ]
          },
          "metadata": {
            "needs_background": "light",
            "tags": []
          },
          "output_type": "display_data"
        }
      ],
      "source": [
        "k_means = KMeans(n_clusters=5, random_state=42)\n",
        "k_means.fit(df_two)\n",
        "\n",
        "plt.figure();\n",
        "\n",
        "plt.scatter(df_two.iloc[:, 0], df_two.iloc[:, 1], c=k_means.labels_)\n",
        "plt.scatter(k_means.cluster_centers_[:, 0], k_means.cluster_centers_[:, 1], marker='x', c=\"black\")\n",
        "\n",
        "plt.title(\"K-Means\");\n",
        "plt.xlabel('SpendingScore and Income')\n",
        "plt.ylabel('Age')"
      ]
    },
    {
      "cell_type": "code",
      "execution_count": null,
      "metadata": {
        "colab": {
          "base_uri": "https://localhost:8080/",
          "height": 1000
        },
        "id": "eYxtQN1raCbw",
        "outputId": "dea6c336-a869-4c83-aa01-18c5b199dfa8"
      },
      "outputs": [
        {
          "name": "stdout",
          "output_type": "stream",
          "text": [
            "All Data:\n",
            "Number of Instances: 505\n"
          ]
        },
        {
          "data": {
            "text/html": [
              "<div>\n",
              "<style scoped>\n",
              "    .dataframe tbody tr th:only-of-type {\n",
              "        vertical-align: middle;\n",
              "    }\n",
              "\n",
              "    .dataframe tbody tr th {\n",
              "        vertical-align: top;\n",
              "    }\n",
              "\n",
              "    .dataframe thead th {\n",
              "        text-align: right;\n",
              "    }\n",
              "</style>\n",
              "<table border=\"1\" class=\"dataframe\">\n",
              "  <thead>\n",
              "    <tr style=\"text-align: right;\">\n",
              "      <th></th>\n",
              "      <th>Min</th>\n",
              "      <th>Mean</th>\n",
              "      <th>Max</th>\n",
              "      <th>Variance</th>\n",
              "      <th>Skewness</th>\n",
              "      <th>Kurtosis</th>\n",
              "    </tr>\n",
              "  </thead>\n",
              "  <tbody>\n",
              "    <tr>\n",
              "      <th>Age</th>\n",
              "      <td>17.00</td>\n",
              "      <td>59.02</td>\n",
              "      <td>97.00</td>\n",
              "      <td>83.18</td>\n",
              "      <td>57.56</td>\n",
              "      <td>24.79</td>\n",
              "    </tr>\n",
              "    <tr>\n",
              "      <th>Income</th>\n",
              "      <td>12000.00</td>\n",
              "      <td>75513.29</td>\n",
              "      <td>142000.00</td>\n",
              "      <td>111541.90</td>\n",
              "      <td>70425.76</td>\n",
              "      <td>30539.63</td>\n",
              "    </tr>\n",
              "    <tr>\n",
              "      <th>SpendingScore</th>\n",
              "      <td>0.00</td>\n",
              "      <td>0.51</td>\n",
              "      <td>1.00</td>\n",
              "      <td>0.76</td>\n",
              "      <td>0.57</td>\n",
              "      <td>0.14</td>\n",
              "    </tr>\n",
              "  </tbody>\n",
              "</table>\n",
              "</div>"
            ],
            "text/plain": [
              "                   Min     Mean       Max  Variance  Skewness  Kurtosis\n",
              "Age              17.00    59.02     97.00     83.18     57.56     24.79\n",
              "Income        12000.00 75513.29 142000.00 111541.90  70425.76  30539.63\n",
              "SpendingScore     0.00     0.51      1.00      0.76      0.57      0.14"
            ]
          },
          "metadata": {
            "tags": []
          },
          "output_type": "display_data"
        },
        {
          "name": "stdout",
          "output_type": "stream",
          "text": [
            "\n",
            "Cluster 0:\n",
            "Number of Instances: 147\n"
          ]
        },
        {
          "data": {
            "text/html": [
              "<div>\n",
              "<style scoped>\n",
              "    .dataframe tbody tr th:only-of-type {\n",
              "        vertical-align: middle;\n",
              "    }\n",
              "\n",
              "    .dataframe tbody tr th {\n",
              "        vertical-align: top;\n",
              "    }\n",
              "\n",
              "    .dataframe thead th {\n",
              "        text-align: right;\n",
              "    }\n",
              "</style>\n",
              "<table border=\"1\" class=\"dataframe\">\n",
              "  <thead>\n",
              "    <tr style=\"text-align: right;\">\n",
              "      <th></th>\n",
              "      <th>Min</th>\n",
              "      <th>Mean</th>\n",
              "      <th>Max</th>\n",
              "      <th>Variance</th>\n",
              "      <th>Skewness</th>\n",
              "      <th>Kurtosis</th>\n",
              "    </tr>\n",
              "  </thead>\n",
              "  <tbody>\n",
              "    <tr>\n",
              "      <th>Age</th>\n",
              "      <td>79.00</td>\n",
              "      <td>87.78</td>\n",
              "      <td>97.00</td>\n",
              "      <td>59.53</td>\n",
              "      <td>58.71</td>\n",
              "      <td>47.69</td>\n",
              "    </tr>\n",
              "    <tr>\n",
              "      <th>Income</th>\n",
              "      <td>12000.00</td>\n",
              "      <td>27866.10</td>\n",
              "      <td>46977.00</td>\n",
              "      <td>76669.86</td>\n",
              "      <td>80132.22</td>\n",
              "      <td>81449.08</td>\n",
              "    </tr>\n",
              "    <tr>\n",
              "      <th>SpendingScore</th>\n",
              "      <td>0.20</td>\n",
              "      <td>0.33</td>\n",
              "      <td>0.47</td>\n",
              "      <td>0.51</td>\n",
              "      <td>0.59</td>\n",
              "      <td>0.63</td>\n",
              "    </tr>\n",
              "  </tbody>\n",
              "</table>\n",
              "</div>"
            ],
            "text/plain": [
              "                   Min     Mean      Max  Variance  Skewness  Kurtosis\n",
              "Age              79.00    87.78    97.00     59.53     58.71     47.69\n",
              "Income        12000.00 27866.10 46977.00  76669.86  80132.22  81449.08\n",
              "SpendingScore     0.20     0.33     0.47      0.51      0.59      0.63"
            ]
          },
          "metadata": {
            "tags": []
          },
          "output_type": "display_data"
        },
        {
          "name": "stdout",
          "output_type": "stream",
          "text": [
            "\n",
            "Cluster 1:\n",
            "Number of Instances: 157\n"
          ]
        },
        {
          "data": {
            "text/html": [
              "<div>\n",
              "<style scoped>\n",
              "    .dataframe tbody tr th:only-of-type {\n",
              "        vertical-align: middle;\n",
              "    }\n",
              "\n",
              "    .dataframe tbody tr th {\n",
              "        vertical-align: top;\n",
              "    }\n",
              "\n",
              "    .dataframe thead th {\n",
              "        text-align: right;\n",
              "    }\n",
              "</style>\n",
              "<table border=\"1\" class=\"dataframe\">\n",
              "  <thead>\n",
              "    <tr style=\"text-align: right;\">\n",
              "      <th></th>\n",
              "      <th>Min</th>\n",
              "      <th>Mean</th>\n",
              "      <th>Max</th>\n",
              "      <th>Variance</th>\n",
              "      <th>Skewness</th>\n",
              "      <th>Kurtosis</th>\n",
              "    </tr>\n",
              "  </thead>\n",
              "  <tbody>\n",
              "    <tr>\n",
              "      <th>Age</th>\n",
              "      <td>51.00</td>\n",
              "      <td>59.96</td>\n",
              "      <td>68.00</td>\n",
              "      <td>59.49</td>\n",
              "      <td>63.48</td>\n",
              "      <td>52.66</td>\n",
              "    </tr>\n",
              "    <tr>\n",
              "      <th>Income</th>\n",
              "      <td>56321.00</td>\n",
              "      <td>72448.06</td>\n",
              "      <td>90422.00</td>\n",
              "      <td>76596.27</td>\n",
              "      <td>80762.80</td>\n",
              "      <td>76774.09</td>\n",
              "    </tr>\n",
              "    <tr>\n",
              "      <th>SpendingScore</th>\n",
              "      <td>0.66</td>\n",
              "      <td>0.77</td>\n",
              "      <td>0.91</td>\n",
              "      <td>0.51</td>\n",
              "      <td>0.61</td>\n",
              "      <td>0.58</td>\n",
              "    </tr>\n",
              "  </tbody>\n",
              "</table>\n",
              "</div>"
            ],
            "text/plain": [
              "                   Min     Mean      Max  Variance  Skewness  Kurtosis\n",
              "Age              51.00    59.96    68.00     59.49     63.48     52.66\n",
              "Income        56321.00 72448.06 90422.00  76596.27  80762.80  76774.09\n",
              "SpendingScore     0.66     0.77     0.91      0.51      0.61      0.58"
            ]
          },
          "metadata": {
            "tags": []
          },
          "output_type": "display_data"
        },
        {
          "name": "stdout",
          "output_type": "stream",
          "text": [
            "\n",
            "Cluster 2:\n",
            "Number of Instances: 126\n"
          ]
        },
        {
          "data": {
            "text/html": [
              "<div>\n",
              "<style scoped>\n",
              "    .dataframe tbody tr th:only-of-type {\n",
              "        vertical-align: middle;\n",
              "    }\n",
              "\n",
              "    .dataframe tbody tr th {\n",
              "        vertical-align: top;\n",
              "    }\n",
              "\n",
              "    .dataframe thead th {\n",
              "        text-align: right;\n",
              "    }\n",
              "</style>\n",
              "<table border=\"1\" class=\"dataframe\">\n",
              "  <thead>\n",
              "    <tr style=\"text-align: right;\">\n",
              "      <th></th>\n",
              "      <th>Min</th>\n",
              "      <th>Mean</th>\n",
              "      <th>Max</th>\n",
              "      <th>Variance</th>\n",
              "      <th>Skewness</th>\n",
              "      <th>Kurtosis</th>\n",
              "    </tr>\n",
              "  </thead>\n",
              "  <tbody>\n",
              "    <tr>\n",
              "      <th>Age</th>\n",
              "      <td>22.00</td>\n",
              "      <td>32.78</td>\n",
              "      <td>44.00</td>\n",
              "      <td>59.62</td>\n",
              "      <td>62.86</td>\n",
              "      <td>66.99</td>\n",
              "    </tr>\n",
              "    <tr>\n",
              "      <th>Income</th>\n",
              "      <td>89598.00</td>\n",
              "      <td>105265.81</td>\n",
              "      <td>119877.00</td>\n",
              "      <td>76541.57</td>\n",
              "      <td>76634.13</td>\n",
              "      <td>64585.25</td>\n",
              "    </tr>\n",
              "    <tr>\n",
              "      <th>SpendingScore</th>\n",
              "      <td>0.17</td>\n",
              "      <td>0.31</td>\n",
              "      <td>0.41</td>\n",
              "      <td>0.51</td>\n",
              "      <td>0.45</td>\n",
              "      <td>0.51</td>\n",
              "    </tr>\n",
              "  </tbody>\n",
              "</table>\n",
              "</div>"
            ],
            "text/plain": [
              "                   Min      Mean       Max  Variance  Skewness  Kurtosis\n",
              "Age              22.00     32.78     44.00     59.62     62.86     66.99\n",
              "Income        89598.00 105265.81 119877.00  76541.57  76634.13  64585.25\n",
              "SpendingScore     0.17      0.31      0.41      0.51      0.45      0.51"
            ]
          },
          "metadata": {
            "tags": []
          },
          "output_type": "display_data"
        },
        {
          "name": "stdout",
          "output_type": "stream",
          "text": [
            "\n",
            "Cluster 3:\n",
            "Number of Instances: 50\n"
          ]
        },
        {
          "data": {
            "text/html": [
              "<div>\n",
              "<style scoped>\n",
              "    .dataframe tbody tr th:only-of-type {\n",
              "        vertical-align: middle;\n",
              "    }\n",
              "\n",
              "    .dataframe tbody tr th {\n",
              "        vertical-align: top;\n",
              "    }\n",
              "\n",
              "    .dataframe thead th {\n",
              "        text-align: right;\n",
              "    }\n",
              "</style>\n",
              "<table border=\"1\" class=\"dataframe\">\n",
              "  <thead>\n",
              "    <tr style=\"text-align: right;\">\n",
              "      <th></th>\n",
              "      <th>Min</th>\n",
              "      <th>Mean</th>\n",
              "      <th>Max</th>\n",
              "      <th>Variance</th>\n",
              "      <th>Skewness</th>\n",
              "      <th>Kurtosis</th>\n",
              "    </tr>\n",
              "  </thead>\n",
              "  <tbody>\n",
              "    <tr>\n",
              "      <th>Age</th>\n",
              "      <td>17.00</td>\n",
              "      <td>24.18</td>\n",
              "      <td>31.00</td>\n",
              "      <td>59.58</td>\n",
              "      <td>49.02</td>\n",
              "      <td>45.82</td>\n",
              "    </tr>\n",
              "    <tr>\n",
              "      <th>Income</th>\n",
              "      <td>117108.00</td>\n",
              "      <td>128029.12</td>\n",
              "      <td>142000.00</td>\n",
              "      <td>76413.35</td>\n",
              "      <td>86686.66</td>\n",
              "      <td>52197.55</td>\n",
              "    </tr>\n",
              "    <tr>\n",
              "      <th>SpendingScore</th>\n",
              "      <td>0.81</td>\n",
              "      <td>0.90</td>\n",
              "      <td>1.00</td>\n",
              "      <td>0.51</td>\n",
              "      <td>0.55</td>\n",
              "      <td>0.44</td>\n",
              "    </tr>\n",
              "  </tbody>\n",
              "</table>\n",
              "</div>"
            ],
            "text/plain": [
              "                    Min      Mean       Max  Variance  Skewness  Kurtosis\n",
              "Age               17.00     24.18     31.00     59.58     49.02     45.82\n",
              "Income        117108.00 128029.12 142000.00  76413.35  86686.66  52197.55\n",
              "SpendingScore      0.81      0.90      1.00      0.51      0.55      0.44"
            ]
          },
          "metadata": {
            "tags": []
          },
          "output_type": "display_data"
        },
        {
          "name": "stdout",
          "output_type": "stream",
          "text": [
            "\n",
            "Cluster 4:\n",
            "Number of Instances: 25\n"
          ]
        },
        {
          "data": {
            "text/html": [
              "<div>\n",
              "<style scoped>\n",
              "    .dataframe tbody tr th:only-of-type {\n",
              "        vertical-align: middle;\n",
              "    }\n",
              "\n",
              "    .dataframe tbody tr th {\n",
              "        vertical-align: top;\n",
              "    }\n",
              "\n",
              "    .dataframe thead th {\n",
              "        text-align: right;\n",
              "    }\n",
              "</style>\n",
              "<table border=\"1\" class=\"dataframe\">\n",
              "  <thead>\n",
              "    <tr style=\"text-align: right;\">\n",
              "      <th></th>\n",
              "      <th>Min</th>\n",
              "      <th>Mean</th>\n",
              "      <th>Max</th>\n",
              "      <th>Variance</th>\n",
              "      <th>Skewness</th>\n",
              "      <th>Kurtosis</th>\n",
              "    </tr>\n",
              "  </thead>\n",
              "  <tbody>\n",
              "    <tr>\n",
              "      <th>Age</th>\n",
              "      <td>77.00</td>\n",
              "      <td>86.00</td>\n",
              "      <td>93.00</td>\n",
              "      <td>59.58</td>\n",
              "      <td>56.77</td>\n",
              "      <td>58.46</td>\n",
              "    </tr>\n",
              "    <tr>\n",
              "      <th>Income</th>\n",
              "      <td>110582.00</td>\n",
              "      <td>119944.04</td>\n",
              "      <td>128596.00</td>\n",
              "      <td>76192.26</td>\n",
              "      <td>76326.08</td>\n",
              "      <td>48538.51</td>\n",
              "    </tr>\n",
              "    <tr>\n",
              "      <th>SpendingScore</th>\n",
              "      <td>0.00</td>\n",
              "      <td>0.07</td>\n",
              "      <td>0.16</td>\n",
              "      <td>0.51</td>\n",
              "      <td>0.62</td>\n",
              "      <td>0.36</td>\n",
              "    </tr>\n",
              "  </tbody>\n",
              "</table>\n",
              "</div>"
            ],
            "text/plain": [
              "                    Min      Mean       Max  Variance  Skewness  Kurtosis\n",
              "Age               77.00     86.00     93.00     59.58     56.77     58.46\n",
              "Income        110582.00 119944.04 128596.00  76192.26  76326.08  48538.51\n",
              "SpendingScore      0.00      0.07      0.16      0.51      0.62      0.36"
            ]
          },
          "metadata": {
            "tags": []
          },
          "output_type": "display_data"
        }
      ],
      "source": [
        "from scipy import stats\n",
        "\n",
        "pd.set_option(\"display.precision\", 3)\n",
        "pd.set_option('display.float_format', lambda x: '%.2f' % x)\n",
        "labels=k_means.labels_\n",
        "col_names=df_two.columns\n",
        "def stats_to_df(d, scaler):\n",
        "    tmp_df = pd.DataFrame(columns=col_names)\n",
        "    \n",
        "    tmp_df.loc[0] = scaler.inverse_transform(d.minmax[0])\n",
        "    tmp_df.loc[1] = scaler.inverse_transform(d.mean)\n",
        "    tmp_df.loc[2] = scaler.inverse_transform(d.minmax[1])\n",
        "    tmp_df.loc[3] = scaler.inverse_transform(d.variance)\n",
        "    tmp_df.loc[4] = scaler.inverse_transform(d.skewness)\n",
        "    tmp_df.loc[5] = scaler.inverse_transform(d.kurtosis)\n",
        "    tmp_df.index = ['Min', 'Mean', 'Max', 'Variance', 'Skewness', 'Kurtosis'] \n",
        "    return tmp_df.T\n",
        "\n",
        "print('All Data:')\n",
        "print('Number of Instances: {}'.format(df_two.shape[0]))\n",
        "d = stats.describe(df_two, axis=0)\n",
        "display(stats_to_df(d, scaler))\n",
        "\n",
        "for i, label in enumerate(set(labels)):\n",
        "    d = stats.describe(df_two[labels==label], axis=0)\n",
        "    print('\\nCluster {}:'.format(label))\n",
        "    print('Number of Instances: {}'.format(d.nobs))\n",
        "    display(stats_to_df(d, scaler))"
      ]
    },
    {
      "cell_type": "code",
      "execution_count": null,
      "metadata": {
        "colab": {
          "base_uri": "https://localhost:8080/",
          "height": 336
        },
        "id": "GtofG-P6aVNm",
        "outputId": "86f971ba-d530-46ca-e58a-9fc1698ea0f7"
      },
      "outputs": [
        {
          "data": {
            "image/png": "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\n",
            "text/plain": [
              "<Figure size 576x360 with 2 Axes>"
            ]
          },
          "metadata": {
            "needs_background": "light",
            "tags": []
          },
          "output_type": "display_data"
        }
      ],
      "source": [
        "import seaborn as sns\n",
        "\n",
        "X = df1[['Age','Income','SpendingScore']]\n",
        "X = scaler.fit_transform(X)\n",
        "K = 5\n",
        "means = np.zeros((K, X.shape[1]))\n",
        "for i, label in enumerate(set(labels)):\n",
        "    means[i,:] = X[labels==label].mean(axis=0)\n",
        "all_means = X.mean(axis=0)\n",
        "\n",
        "relative_imp = means - all_means\n",
        "\n",
        "plt.figure(figsize=(8, 5));\n",
        "plt.title('Relative importance of features');\n",
        "sns.heatmap(data=relative_imp, \n",
        "            annot=scaler.inverse_transform(relative_imp), \n",
        "            fmt='.2f', \n",
        "            cmap='PuBuGn', \n",
        "            robust=True, \n",
        "            square=False,\n",
        "            xticklabels=col_names, \n",
        "            yticklabels=['Cluster {}'.format(x) for x in range(K)]);"
      ]
    },
    {
      "cell_type": "code",
      "execution_count": null,
      "metadata": {
        "colab": {
          "base_uri": "https://localhost:8080/",
          "height": 502
        },
        "id": "8QdeqVyMaYCN",
        "outputId": "548d815a-4d27-4671-cc17-c813f775f35c"
      },
      "outputs": [
        {
          "name": "stdout",
          "output_type": "stream",
          "text": [
            "\n",
            "Cluster 0:\n"
          ]
        },
        {
          "data": {
            "text/html": [
              "<div>\n",
              "<style scoped>\n",
              "    .dataframe tbody tr th:only-of-type {\n",
              "        vertical-align: middle;\n",
              "    }\n",
              "\n",
              "    .dataframe tbody tr th {\n",
              "        vertical-align: top;\n",
              "    }\n",
              "\n",
              "    .dataframe thead th {\n",
              "        text-align: right;\n",
              "    }\n",
              "</style>\n",
              "<table border=\"1\" class=\"dataframe\">\n",
              "  <thead>\n",
              "    <tr style=\"text-align: right;\">\n",
              "      <th></th>\n",
              "      <th>Age</th>\n",
              "      <th>Income</th>\n",
              "    </tr>\n",
              "  </thead>\n",
              "  <tbody>\n",
              "    <tr>\n",
              "      <th>335</th>\n",
              "      <td>89</td>\n",
              "      <td>26940</td>\n",
              "    </tr>\n",
              "  </tbody>\n",
              "</table>\n",
              "</div>"
            ],
            "text/plain": [
              "     Age  Income\n",
              "335   89   26940"
            ]
          },
          "metadata": {
            "tags": []
          },
          "output_type": "display_data"
        },
        {
          "name": "stdout",
          "output_type": "stream",
          "text": [
            "\n",
            "Cluster 1:\n"
          ]
        },
        {
          "data": {
            "text/html": [
              "<div>\n",
              "<style scoped>\n",
              "    .dataframe tbody tr th:only-of-type {\n",
              "        vertical-align: middle;\n",
              "    }\n",
              "\n",
              "    .dataframe tbody tr th {\n",
              "        vertical-align: top;\n",
              "    }\n",
              "\n",
              "    .dataframe thead th {\n",
              "        text-align: right;\n",
              "    }\n",
              "</style>\n",
              "<table border=\"1\" class=\"dataframe\">\n",
              "  <thead>\n",
              "    <tr style=\"text-align: right;\">\n",
              "      <th></th>\n",
              "      <th>Age</th>\n",
              "      <th>Income</th>\n",
              "    </tr>\n",
              "  </thead>\n",
              "  <tbody>\n",
              "    <tr>\n",
              "      <th>271</th>\n",
              "      <td>61</td>\n",
              "      <td>73495</td>\n",
              "    </tr>\n",
              "  </tbody>\n",
              "</table>\n",
              "</div>"
            ],
            "text/plain": [
              "     Age  Income\n",
              "271   61   73495"
            ]
          },
          "metadata": {
            "tags": []
          },
          "output_type": "display_data"
        },
        {
          "name": "stdout",
          "output_type": "stream",
          "text": [
            "\n",
            "Cluster 2:\n"
          ]
        },
        {
          "data": {
            "text/html": [
              "<div>\n",
              "<style scoped>\n",
              "    .dataframe tbody tr th:only-of-type {\n",
              "        vertical-align: middle;\n",
              "    }\n",
              "\n",
              "    .dataframe tbody tr th {\n",
              "        vertical-align: top;\n",
              "    }\n",
              "\n",
              "    .dataframe thead th {\n",
              "        text-align: right;\n",
              "    }\n",
              "</style>\n",
              "<table border=\"1\" class=\"dataframe\">\n",
              "  <thead>\n",
              "    <tr style=\"text-align: right;\">\n",
              "      <th></th>\n",
              "      <th>Age</th>\n",
              "      <th>Income</th>\n",
              "    </tr>\n",
              "  </thead>\n",
              "  <tbody>\n",
              "    <tr>\n",
              "      <th>197</th>\n",
              "      <td>32</td>\n",
              "      <td>106543</td>\n",
              "    </tr>\n",
              "  </tbody>\n",
              "</table>\n",
              "</div>"
            ],
            "text/plain": [
              "     Age  Income\n",
              "197   32  106543"
            ]
          },
          "metadata": {
            "tags": []
          },
          "output_type": "display_data"
        },
        {
          "name": "stdout",
          "output_type": "stream",
          "text": [
            "\n",
            "Cluster 3:\n"
          ]
        },
        {
          "data": {
            "text/html": [
              "<div>\n",
              "<style scoped>\n",
              "    .dataframe tbody tr th:only-of-type {\n",
              "        vertical-align: middle;\n",
              "    }\n",
              "\n",
              "    .dataframe tbody tr th {\n",
              "        vertical-align: top;\n",
              "    }\n",
              "\n",
              "    .dataframe thead th {\n",
              "        text-align: right;\n",
              "    }\n",
              "</style>\n",
              "<table border=\"1\" class=\"dataframe\">\n",
              "  <thead>\n",
              "    <tr style=\"text-align: right;\">\n",
              "      <th></th>\n",
              "      <th>Age</th>\n",
              "      <th>Income</th>\n",
              "    </tr>\n",
              "  </thead>\n",
              "  <tbody>\n",
              "    <tr>\n",
              "      <th>134</th>\n",
              "      <td>24</td>\n",
              "      <td>127352</td>\n",
              "    </tr>\n",
              "  </tbody>\n",
              "</table>\n",
              "</div>"
            ],
            "text/plain": [
              "     Age  Income\n",
              "134   24  127352"
            ]
          },
          "metadata": {
            "tags": []
          },
          "output_type": "display_data"
        },
        {
          "name": "stdout",
          "output_type": "stream",
          "text": [
            "\n",
            "Cluster 4:\n"
          ]
        },
        {
          "data": {
            "text/html": [
              "<div>\n",
              "<style scoped>\n",
              "    .dataframe tbody tr th:only-of-type {\n",
              "        vertical-align: middle;\n",
              "    }\n",
              "\n",
              "    .dataframe tbody tr th {\n",
              "        vertical-align: top;\n",
              "    }\n",
              "\n",
              "    .dataframe thead th {\n",
              "        text-align: right;\n",
              "    }\n",
              "</style>\n",
              "<table border=\"1\" class=\"dataframe\">\n",
              "  <thead>\n",
              "    <tr style=\"text-align: right;\">\n",
              "      <th></th>\n",
              "      <th>Age</th>\n",
              "      <th>Income</th>\n",
              "    </tr>\n",
              "  </thead>\n",
              "  <tbody>\n",
              "    <tr>\n",
              "      <th>19</th>\n",
              "      <td>88</td>\n",
              "      <td>120678</td>\n",
              "    </tr>\n",
              "  </tbody>\n",
              "</table>\n",
              "</div>"
            ],
            "text/plain": [
              "    Age  Income\n",
              "19   88  120678"
            ]
          },
          "metadata": {
            "tags": []
          },
          "output_type": "display_data"
        }
      ],
      "source": [
        "from scipy.spatial import distance\n",
        "\n",
        "for i, label in enumerate(set(labels)):\n",
        "    X_tmp= X\n",
        "    exemplar_idx = distance.cdist([means[i]], X).argmin()\n",
        "   \n",
        "    print('\\nCluster {}:'.format(label))\n",
        "    df2 = df1[['Age','Income']]\n",
        "    display(df2.iloc[[exemplar_idx]])"
      ]
    },
    {
      "cell_type": "code",
      "execution_count": null,
      "metadata": {
        "colab": {
          "base_uri": "https://localhost:8080/"
        },
        "id": "ej6jFOagabGb",
        "outputId": "fa84dd57-1ec7-4bfa-dc41-b655422fcd87"
      },
      "outputs": [
        {
          "name": "stdout",
          "output_type": "stream",
          "text": [
            "0.8347896680258566\n"
          ]
        }
      ],
      "source": [
        "score_scaled = metrics.silhouette_score(df_two, k_means.labels_)\n",
        "print(score_scaled)"
      ]
    },
    {
      "cell_type": "markdown",
      "metadata": {
        "id": "ihVtYBWg1NM6"
      },
      "source": [
        "## 1.2: Clustering Algorithm #2\n",
        "\n",
        "\n",
        "\n",
        "\n",
        "\n"
      ]
    },
    {
      "cell_type": "markdown",
      "metadata": {
        "id": "XiVwvxwDanBs"
      },
      "source": [
        "## DBSCAN Method #"
      ]
    },
    {
      "cell_type": "code",
      "execution_count": null,
      "metadata": {
        "colab": {
          "base_uri": "https://localhost:8080/",
          "height": 312
        },
        "id": "AKOhkwwJYvxQ",
        "outputId": "65478ee5-dc69-45ca-c51d-daddb37b877d"
      },
      "outputs": [
        {
          "data": {
            "text/plain": [
              "<matplotlib.legend.Legend at 0x7fbdb6a6f9d0>"
            ]
          },
          "execution_count": 21,
          "metadata": {
            "tags": []
          },
          "output_type": "execute_result"
        },
        {
          "data": {
            "image/png": "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\n",
            "text/plain": [
              "<Figure size 432x288 with 1 Axes>"
            ]
          },
          "metadata": {
            "needs_background": "light",
            "tags": []
          },
          "output_type": "display_data"
        }
      ],
      "source": [
        "silhouettes = {}\n",
        "\n",
        "epss = np.arange(0.1, 0.9, 0.1)\n",
        "minss = [3, 4, 5, 6, 7, 8, 9, 10]\n",
        "\n",
        "ss = np.zeros((len(epss), len(minss)))\n",
        "\n",
        "for i, eps in enumerate(epss):\n",
        "    for j, mins in enumerate(minss):\n",
        "        db = DBSCAN(eps=eps, min_samples=mins).fit(df_two)\n",
        "        if len(set(db.labels_)) == 1:\n",
        "            ss[i, j] = -1\n",
        "        else:\n",
        "            ss[i, j] = silhouette_score(df_two, db.labels_, metric='euclidean')\n",
        "    \n",
        "\n",
        "plt.figure()\n",
        "for i in range(len(minss)):\n",
        "    plt.plot(epss, ss[:, i], label=\"MinPts = {}\".format(minss[i]))\n",
        "#plt.plot(epss, ss[:, 1])\n",
        "plt.title('DBSCAN, Elbow Method')\n",
        "plt.xlabel(\"Eps\")\n",
        "plt.ylabel(\"Silhouette\")\n",
        "plt.legend()"
      ]
    },
    {
      "cell_type": "markdown",
      "metadata": {
        "id": "mtfXg-2Da5H3"
      },
      "source": [
        "When eps=0.4, min_samples=3, the silhouette score is the highset. Thus, I will set the eps value is 0.4 and minmum sample amount is 3 in the below model."
      ]
    },
    {
      "cell_type": "code",
      "execution_count": null,
      "metadata": {
        "colab": {
          "base_uri": "https://localhost:8080/",
          "height": 312
        },
        "id": "-1stG7jgYvsW",
        "outputId": "dc70ac06-3db8-42c4-db6f-72cd3eb9b4dd"
      },
      "outputs": [
        {
          "data": {
            "text/plain": [
              "Text(0, 0.5, 'Age')"
            ]
          },
          "execution_count": 22,
          "metadata": {
            "tags": []
          },
          "output_type": "execute_result"
        },
        {
          "data": {
            "image/png": "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\n",
            "text/plain": [
              "<Figure size 432x288 with 1 Axes>"
            ]
          },
          "metadata": {
            "needs_background": "light",
            "tags": []
          },
          "output_type": "display_data"
        }
      ],
      "source": [
        "db = DBSCAN(eps=0.4, min_samples=3)\n",
        "db.fit(df_two)\n",
        "\n",
        "plt.figure();\n",
        "\n",
        "plt.scatter(df_two.iloc[:, 0], df_two.iloc[:, 1], c=db.labels_)\n",
        "\n",
        "plt.title(\"DBSCAN\");\n",
        "plt.xlabel('SpendingScore and Income')\n",
        "plt.ylabel('Age')"
      ]
    },
    {
      "cell_type": "code",
      "execution_count": null,
      "metadata": {
        "colab": {
          "base_uri": "https://localhost:8080/",
          "height": 1000
        },
        "id": "Pu2xugQj1Mci",
        "outputId": "cb2d82ae-94d9-453f-cf55-9972b8bc9b13"
      },
      "outputs": [
        {
          "name": "stdout",
          "output_type": "stream",
          "text": [
            "All Data:\n",
            "Number of Instances: 505\n"
          ]
        },
        {
          "data": {
            "text/html": [
              "<div>\n",
              "<style scoped>\n",
              "    .dataframe tbody tr th:only-of-type {\n",
              "        vertical-align: middle;\n",
              "    }\n",
              "\n",
              "    .dataframe tbody tr th {\n",
              "        vertical-align: top;\n",
              "    }\n",
              "\n",
              "    .dataframe thead th {\n",
              "        text-align: right;\n",
              "    }\n",
              "</style>\n",
              "<table border=\"1\" class=\"dataframe\">\n",
              "  <thead>\n",
              "    <tr style=\"text-align: right;\">\n",
              "      <th></th>\n",
              "      <th>Min</th>\n",
              "      <th>Mean</th>\n",
              "      <th>Max</th>\n",
              "      <th>Variance</th>\n",
              "      <th>Skewness</th>\n",
              "      <th>Kurtosis</th>\n",
              "    </tr>\n",
              "  </thead>\n",
              "  <tbody>\n",
              "    <tr>\n",
              "      <th>Age</th>\n",
              "      <td>17.00</td>\n",
              "      <td>59.02</td>\n",
              "      <td>97.00</td>\n",
              "      <td>83.18</td>\n",
              "      <td>57.56</td>\n",
              "      <td>24.79</td>\n",
              "    </tr>\n",
              "    <tr>\n",
              "      <th>Income</th>\n",
              "      <td>12000.00</td>\n",
              "      <td>75513.29</td>\n",
              "      <td>142000.00</td>\n",
              "      <td>111541.90</td>\n",
              "      <td>70425.76</td>\n",
              "      <td>30539.63</td>\n",
              "    </tr>\n",
              "    <tr>\n",
              "      <th>SpendingScore</th>\n",
              "      <td>0.00</td>\n",
              "      <td>0.51</td>\n",
              "      <td>1.00</td>\n",
              "      <td>0.76</td>\n",
              "      <td>0.57</td>\n",
              "      <td>0.14</td>\n",
              "    </tr>\n",
              "  </tbody>\n",
              "</table>\n",
              "</div>"
            ],
            "text/plain": [
              "                   Min     Mean       Max  Variance  Skewness  Kurtosis\n",
              "Age              17.00    59.02     97.00     83.18     57.56     24.79\n",
              "Income        12000.00 75513.29 142000.00 111541.90  70425.76  30539.63\n",
              "SpendingScore     0.00     0.51      1.00      0.76      0.57      0.14"
            ]
          },
          "metadata": {
            "tags": []
          },
          "output_type": "display_data"
        },
        {
          "name": "stdout",
          "output_type": "stream",
          "text": [
            "\n",
            "Cluster 0:\n",
            "Number of Instances: 157\n"
          ]
        },
        {
          "data": {
            "text/html": [
              "<div>\n",
              "<style scoped>\n",
              "    .dataframe tbody tr th:only-of-type {\n",
              "        vertical-align: middle;\n",
              "    }\n",
              "\n",
              "    .dataframe tbody tr th {\n",
              "        vertical-align: top;\n",
              "    }\n",
              "\n",
              "    .dataframe thead th {\n",
              "        text-align: right;\n",
              "    }\n",
              "</style>\n",
              "<table border=\"1\" class=\"dataframe\">\n",
              "  <thead>\n",
              "    <tr style=\"text-align: right;\">\n",
              "      <th></th>\n",
              "      <th>Min</th>\n",
              "      <th>Mean</th>\n",
              "      <th>Max</th>\n",
              "      <th>Variance</th>\n",
              "      <th>Skewness</th>\n",
              "      <th>Kurtosis</th>\n",
              "    </tr>\n",
              "  </thead>\n",
              "  <tbody>\n",
              "    <tr>\n",
              "      <th>Age</th>\n",
              "      <td>51.00</td>\n",
              "      <td>59.96</td>\n",
              "      <td>68.00</td>\n",
              "      <td>59.49</td>\n",
              "      <td>63.48</td>\n",
              "      <td>52.66</td>\n",
              "    </tr>\n",
              "    <tr>\n",
              "      <th>Income</th>\n",
              "      <td>56321.00</td>\n",
              "      <td>72448.06</td>\n",
              "      <td>90422.00</td>\n",
              "      <td>76596.27</td>\n",
              "      <td>80762.80</td>\n",
              "      <td>76774.09</td>\n",
              "    </tr>\n",
              "    <tr>\n",
              "      <th>SpendingScore</th>\n",
              "      <td>0.66</td>\n",
              "      <td>0.77</td>\n",
              "      <td>0.91</td>\n",
              "      <td>0.51</td>\n",
              "      <td>0.61</td>\n",
              "      <td>0.58</td>\n",
              "    </tr>\n",
              "  </tbody>\n",
              "</table>\n",
              "</div>"
            ],
            "text/plain": [
              "                   Min     Mean      Max  Variance  Skewness  Kurtosis\n",
              "Age              51.00    59.96    68.00     59.49     63.48     52.66\n",
              "Income        56321.00 72448.06 90422.00  76596.27  80762.80  76774.09\n",
              "SpendingScore     0.66     0.77     0.91      0.51      0.61      0.58"
            ]
          },
          "metadata": {
            "tags": []
          },
          "output_type": "display_data"
        },
        {
          "name": "stdout",
          "output_type": "stream",
          "text": [
            "\n",
            "Cluster 1:\n",
            "Number of Instances: 147\n"
          ]
        },
        {
          "data": {
            "text/html": [
              "<div>\n",
              "<style scoped>\n",
              "    .dataframe tbody tr th:only-of-type {\n",
              "        vertical-align: middle;\n",
              "    }\n",
              "\n",
              "    .dataframe tbody tr th {\n",
              "        vertical-align: top;\n",
              "    }\n",
              "\n",
              "    .dataframe thead th {\n",
              "        text-align: right;\n",
              "    }\n",
              "</style>\n",
              "<table border=\"1\" class=\"dataframe\">\n",
              "  <thead>\n",
              "    <tr style=\"text-align: right;\">\n",
              "      <th></th>\n",
              "      <th>Min</th>\n",
              "      <th>Mean</th>\n",
              "      <th>Max</th>\n",
              "      <th>Variance</th>\n",
              "      <th>Skewness</th>\n",
              "      <th>Kurtosis</th>\n",
              "    </tr>\n",
              "  </thead>\n",
              "  <tbody>\n",
              "    <tr>\n",
              "      <th>Age</th>\n",
              "      <td>79.00</td>\n",
              "      <td>87.78</td>\n",
              "      <td>97.00</td>\n",
              "      <td>59.53</td>\n",
              "      <td>58.71</td>\n",
              "      <td>47.69</td>\n",
              "    </tr>\n",
              "    <tr>\n",
              "      <th>Income</th>\n",
              "      <td>12000.00</td>\n",
              "      <td>27866.10</td>\n",
              "      <td>46977.00</td>\n",
              "      <td>76669.86</td>\n",
              "      <td>80132.22</td>\n",
              "      <td>81449.08</td>\n",
              "    </tr>\n",
              "    <tr>\n",
              "      <th>SpendingScore</th>\n",
              "      <td>0.20</td>\n",
              "      <td>0.33</td>\n",
              "      <td>0.47</td>\n",
              "      <td>0.51</td>\n",
              "      <td>0.59</td>\n",
              "      <td>0.63</td>\n",
              "    </tr>\n",
              "  </tbody>\n",
              "</table>\n",
              "</div>"
            ],
            "text/plain": [
              "                   Min     Mean      Max  Variance  Skewness  Kurtosis\n",
              "Age              79.00    87.78    97.00     59.53     58.71     47.69\n",
              "Income        12000.00 27866.10 46977.00  76669.86  80132.22  81449.08\n",
              "SpendingScore     0.20     0.33     0.47      0.51      0.59      0.63"
            ]
          },
          "metadata": {
            "tags": []
          },
          "output_type": "display_data"
        },
        {
          "name": "stdout",
          "output_type": "stream",
          "text": [
            "\n",
            "Cluster 2:\n",
            "Number of Instances: 50\n"
          ]
        },
        {
          "data": {
            "text/html": [
              "<div>\n",
              "<style scoped>\n",
              "    .dataframe tbody tr th:only-of-type {\n",
              "        vertical-align: middle;\n",
              "    }\n",
              "\n",
              "    .dataframe tbody tr th {\n",
              "        vertical-align: top;\n",
              "    }\n",
              "\n",
              "    .dataframe thead th {\n",
              "        text-align: right;\n",
              "    }\n",
              "</style>\n",
              "<table border=\"1\" class=\"dataframe\">\n",
              "  <thead>\n",
              "    <tr style=\"text-align: right;\">\n",
              "      <th></th>\n",
              "      <th>Min</th>\n",
              "      <th>Mean</th>\n",
              "      <th>Max</th>\n",
              "      <th>Variance</th>\n",
              "      <th>Skewness</th>\n",
              "      <th>Kurtosis</th>\n",
              "    </tr>\n",
              "  </thead>\n",
              "  <tbody>\n",
              "    <tr>\n",
              "      <th>Age</th>\n",
              "      <td>17.00</td>\n",
              "      <td>24.18</td>\n",
              "      <td>31.00</td>\n",
              "      <td>59.58</td>\n",
              "      <td>49.02</td>\n",
              "      <td>45.82</td>\n",
              "    </tr>\n",
              "    <tr>\n",
              "      <th>Income</th>\n",
              "      <td>117108.00</td>\n",
              "      <td>128029.12</td>\n",
              "      <td>142000.00</td>\n",
              "      <td>76413.35</td>\n",
              "      <td>86686.66</td>\n",
              "      <td>52197.55</td>\n",
              "    </tr>\n",
              "    <tr>\n",
              "      <th>SpendingScore</th>\n",
              "      <td>0.81</td>\n",
              "      <td>0.90</td>\n",
              "      <td>1.00</td>\n",
              "      <td>0.51</td>\n",
              "      <td>0.55</td>\n",
              "      <td>0.44</td>\n",
              "    </tr>\n",
              "  </tbody>\n",
              "</table>\n",
              "</div>"
            ],
            "text/plain": [
              "                    Min      Mean       Max  Variance  Skewness  Kurtosis\n",
              "Age               17.00     24.18     31.00     59.58     49.02     45.82\n",
              "Income        117108.00 128029.12 142000.00  76413.35  86686.66  52197.55\n",
              "SpendingScore      0.81      0.90      1.00      0.51      0.55      0.44"
            ]
          },
          "metadata": {
            "tags": []
          },
          "output_type": "display_data"
        },
        {
          "name": "stdout",
          "output_type": "stream",
          "text": [
            "\n",
            "Cluster 3:\n",
            "Number of Instances: 25\n"
          ]
        },
        {
          "data": {
            "text/html": [
              "<div>\n",
              "<style scoped>\n",
              "    .dataframe tbody tr th:only-of-type {\n",
              "        vertical-align: middle;\n",
              "    }\n",
              "\n",
              "    .dataframe tbody tr th {\n",
              "        vertical-align: top;\n",
              "    }\n",
              "\n",
              "    .dataframe thead th {\n",
              "        text-align: right;\n",
              "    }\n",
              "</style>\n",
              "<table border=\"1\" class=\"dataframe\">\n",
              "  <thead>\n",
              "    <tr style=\"text-align: right;\">\n",
              "      <th></th>\n",
              "      <th>Min</th>\n",
              "      <th>Mean</th>\n",
              "      <th>Max</th>\n",
              "      <th>Variance</th>\n",
              "      <th>Skewness</th>\n",
              "      <th>Kurtosis</th>\n",
              "    </tr>\n",
              "  </thead>\n",
              "  <tbody>\n",
              "    <tr>\n",
              "      <th>Age</th>\n",
              "      <td>77.00</td>\n",
              "      <td>86.00</td>\n",
              "      <td>93.00</td>\n",
              "      <td>59.58</td>\n",
              "      <td>56.77</td>\n",
              "      <td>58.46</td>\n",
              "    </tr>\n",
              "    <tr>\n",
              "      <th>Income</th>\n",
              "      <td>110582.00</td>\n",
              "      <td>119944.04</td>\n",
              "      <td>128596.00</td>\n",
              "      <td>76192.26</td>\n",
              "      <td>76326.08</td>\n",
              "      <td>48538.51</td>\n",
              "    </tr>\n",
              "    <tr>\n",
              "      <th>SpendingScore</th>\n",
              "      <td>0.00</td>\n",
              "      <td>0.07</td>\n",
              "      <td>0.16</td>\n",
              "      <td>0.51</td>\n",
              "      <td>0.62</td>\n",
              "      <td>0.36</td>\n",
              "    </tr>\n",
              "  </tbody>\n",
              "</table>\n",
              "</div>"
            ],
            "text/plain": [
              "                    Min      Mean       Max  Variance  Skewness  Kurtosis\n",
              "Age               77.00     86.00     93.00     59.58     56.77     58.46\n",
              "Income        110582.00 119944.04 128596.00  76192.26  76326.08  48538.51\n",
              "SpendingScore      0.00      0.07      0.16      0.51      0.62      0.36"
            ]
          },
          "metadata": {
            "tags": []
          },
          "output_type": "display_data"
        },
        {
          "name": "stdout",
          "output_type": "stream",
          "text": [
            "\n",
            "Cluster 4:\n",
            "Number of Instances: 126\n"
          ]
        },
        {
          "data": {
            "text/html": [
              "<div>\n",
              "<style scoped>\n",
              "    .dataframe tbody tr th:only-of-type {\n",
              "        vertical-align: middle;\n",
              "    }\n",
              "\n",
              "    .dataframe tbody tr th {\n",
              "        vertical-align: top;\n",
              "    }\n",
              "\n",
              "    .dataframe thead th {\n",
              "        text-align: right;\n",
              "    }\n",
              "</style>\n",
              "<table border=\"1\" class=\"dataframe\">\n",
              "  <thead>\n",
              "    <tr style=\"text-align: right;\">\n",
              "      <th></th>\n",
              "      <th>Min</th>\n",
              "      <th>Mean</th>\n",
              "      <th>Max</th>\n",
              "      <th>Variance</th>\n",
              "      <th>Skewness</th>\n",
              "      <th>Kurtosis</th>\n",
              "    </tr>\n",
              "  </thead>\n",
              "  <tbody>\n",
              "    <tr>\n",
              "      <th>Age</th>\n",
              "      <td>22.00</td>\n",
              "      <td>32.78</td>\n",
              "      <td>44.00</td>\n",
              "      <td>59.62</td>\n",
              "      <td>62.86</td>\n",
              "      <td>66.99</td>\n",
              "    </tr>\n",
              "    <tr>\n",
              "      <th>Income</th>\n",
              "      <td>89598.00</td>\n",
              "      <td>105265.81</td>\n",
              "      <td>119877.00</td>\n",
              "      <td>76541.57</td>\n",
              "      <td>76634.13</td>\n",
              "      <td>64585.25</td>\n",
              "    </tr>\n",
              "    <tr>\n",
              "      <th>SpendingScore</th>\n",
              "      <td>0.17</td>\n",
              "      <td>0.31</td>\n",
              "      <td>0.41</td>\n",
              "      <td>0.51</td>\n",
              "      <td>0.45</td>\n",
              "      <td>0.51</td>\n",
              "    </tr>\n",
              "  </tbody>\n",
              "</table>\n",
              "</div>"
            ],
            "text/plain": [
              "                   Min      Mean       Max  Variance  Skewness  Kurtosis\n",
              "Age              22.00     32.78     44.00     59.62     62.86     66.99\n",
              "Income        89598.00 105265.81 119877.00  76541.57  76634.13  64585.25\n",
              "SpendingScore     0.17      0.31      0.41      0.51      0.45      0.51"
            ]
          },
          "metadata": {
            "tags": []
          },
          "output_type": "display_data"
        }
      ],
      "source": [
        "from scipy import stats\n",
        "\n",
        "pd.set_option(\"display.precision\", 2)\n",
        "pd.set_option('display.float_format', lambda x: '%.2f' % x)\n",
        "labels=db.labels_\n",
        "col_names=df_two.columns\n",
        "def stats_to_df(d, scaler):\n",
        "    tmp_df = pd.DataFrame(columns=col_names)\n",
        "    \n",
        "    tmp_df.loc[0] = scaler.inverse_transform(d.minmax[0])\n",
        "    tmp_df.loc[1] = scaler.inverse_transform(d.mean)\n",
        "    tmp_df.loc[2] = scaler.inverse_transform(d.minmax[1])\n",
        "    tmp_df.loc[3] = scaler.inverse_transform(d.variance)\n",
        "    tmp_df.loc[4] = scaler.inverse_transform(d.skewness)\n",
        "    tmp_df.loc[5] = scaler.inverse_transform(d.kurtosis)\n",
        "    tmp_df.index = ['Min', 'Mean', 'Max', 'Variance', 'Skewness', 'Kurtosis'] \n",
        "    return tmp_df.T\n",
        "\n",
        "print('All Data:')\n",
        "print('Number of Instances: {}'.format(df_two.shape[0]))\n",
        "d = stats.describe(df_two, axis=0)\n",
        "display(stats_to_df(d, scaler))\n",
        "\n",
        "for i, label in enumerate(set(labels)):\n",
        "    d = stats.describe(df_two[labels==label], axis=0)\n",
        "    print('\\nCluster {}:'.format(label))\n",
        "    print('Number of Instances: {}'.format(d.nobs))\n",
        "    display(stats_to_df(d, scaler))"
      ]
    },
    {
      "cell_type": "code",
      "execution_count": null,
      "metadata": {
        "colab": {
          "base_uri": "https://localhost:8080/",
          "height": 281
        },
        "id": "DDyTlZU_bYGG",
        "outputId": "e0e6982b-e067-4bcc-98e3-c57173562683"
      },
      "outputs": [
        {
          "data": {
            "image/png": "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\n",
            "text/plain": [
              "<Figure size 576x288 with 2 Axes>"
            ]
          },
          "metadata": {
            "needs_background": "light",
            "tags": []
          },
          "output_type": "display_data"
        }
      ],
      "source": [
        "import seaborn as sns\n",
        "\n",
        "X = df1[['Age','Income','SpendingScore']]\n",
        "X = scaler.fit_transform(X)\n",
        "K = 5\n",
        "means = np.zeros((K, X.shape[1]))\n",
        "for i, label in enumerate(set(labels)):\n",
        "    means[i,:] = X[labels==label].mean(axis=0)\n",
        "all_means = X.mean(axis=0)\n",
        "\n",
        "relative_imp = means - all_means\n",
        "\n",
        "plt.figure(figsize=(8, 4));\n",
        "plt.title('Relative importance of features');\n",
        "sns.heatmap(data=relative_imp, \n",
        "            annot=scaler.inverse_transform(relative_imp), \n",
        "            fmt='.2f', \n",
        "            cmap='PuBuGn', \n",
        "            robust=True, \n",
        "            square=False,\n",
        "            xticklabels=col_names, \n",
        "            yticklabels=['Cluster {}'.format(x) for x in range(K)]);"
      ]
    },
    {
      "cell_type": "code",
      "execution_count": null,
      "metadata": {
        "colab": {
          "base_uri": "https://localhost:8080/",
          "height": 502
        },
        "id": "aWaTyPGpbbxJ",
        "outputId": "ef07e5d7-ae9f-431c-f806-27aa9c26f035"
      },
      "outputs": [
        {
          "name": "stdout",
          "output_type": "stream",
          "text": [
            "\n",
            "Cluster 0:\n"
          ]
        },
        {
          "data": {
            "text/html": [
              "<div>\n",
              "<style scoped>\n",
              "    .dataframe tbody tr th:only-of-type {\n",
              "        vertical-align: middle;\n",
              "    }\n",
              "\n",
              "    .dataframe tbody tr th {\n",
              "        vertical-align: top;\n",
              "    }\n",
              "\n",
              "    .dataframe thead th {\n",
              "        text-align: right;\n",
              "    }\n",
              "</style>\n",
              "<table border=\"1\" class=\"dataframe\">\n",
              "  <thead>\n",
              "    <tr style=\"text-align: right;\">\n",
              "      <th></th>\n",
              "      <th>Age</th>\n",
              "      <th>Income</th>\n",
              "      <th>SpendingScore</th>\n",
              "    </tr>\n",
              "  </thead>\n",
              "  <tbody>\n",
              "    <tr>\n",
              "      <th>271</th>\n",
              "      <td>61</td>\n",
              "      <td>73495</td>\n",
              "      <td>0.77</td>\n",
              "    </tr>\n",
              "  </tbody>\n",
              "</table>\n",
              "</div>"
            ],
            "text/plain": [
              "     Age  Income  SpendingScore\n",
              "271   61   73495           0.77"
            ]
          },
          "metadata": {
            "tags": []
          },
          "output_type": "display_data"
        },
        {
          "name": "stdout",
          "output_type": "stream",
          "text": [
            "\n",
            "Cluster 1:\n"
          ]
        },
        {
          "data": {
            "text/html": [
              "<div>\n",
              "<style scoped>\n",
              "    .dataframe tbody tr th:only-of-type {\n",
              "        vertical-align: middle;\n",
              "    }\n",
              "\n",
              "    .dataframe tbody tr th {\n",
              "        vertical-align: top;\n",
              "    }\n",
              "\n",
              "    .dataframe thead th {\n",
              "        text-align: right;\n",
              "    }\n",
              "</style>\n",
              "<table border=\"1\" class=\"dataframe\">\n",
              "  <thead>\n",
              "    <tr style=\"text-align: right;\">\n",
              "      <th></th>\n",
              "      <th>Age</th>\n",
              "      <th>Income</th>\n",
              "      <th>SpendingScore</th>\n",
              "    </tr>\n",
              "  </thead>\n",
              "  <tbody>\n",
              "    <tr>\n",
              "      <th>335</th>\n",
              "      <td>89</td>\n",
              "      <td>26940</td>\n",
              "      <td>0.33</td>\n",
              "    </tr>\n",
              "  </tbody>\n",
              "</table>\n",
              "</div>"
            ],
            "text/plain": [
              "     Age  Income  SpendingScore\n",
              "335   89   26940           0.33"
            ]
          },
          "metadata": {
            "tags": []
          },
          "output_type": "display_data"
        },
        {
          "name": "stdout",
          "output_type": "stream",
          "text": [
            "\n",
            "Cluster 2:\n"
          ]
        },
        {
          "data": {
            "text/html": [
              "<div>\n",
              "<style scoped>\n",
              "    .dataframe tbody tr th:only-of-type {\n",
              "        vertical-align: middle;\n",
              "    }\n",
              "\n",
              "    .dataframe tbody tr th {\n",
              "        vertical-align: top;\n",
              "    }\n",
              "\n",
              "    .dataframe thead th {\n",
              "        text-align: right;\n",
              "    }\n",
              "</style>\n",
              "<table border=\"1\" class=\"dataframe\">\n",
              "  <thead>\n",
              "    <tr style=\"text-align: right;\">\n",
              "      <th></th>\n",
              "      <th>Age</th>\n",
              "      <th>Income</th>\n",
              "      <th>SpendingScore</th>\n",
              "    </tr>\n",
              "  </thead>\n",
              "  <tbody>\n",
              "    <tr>\n",
              "      <th>134</th>\n",
              "      <td>24</td>\n",
              "      <td>127352</td>\n",
              "      <td>0.91</td>\n",
              "    </tr>\n",
              "  </tbody>\n",
              "</table>\n",
              "</div>"
            ],
            "text/plain": [
              "     Age  Income  SpendingScore\n",
              "134   24  127352           0.91"
            ]
          },
          "metadata": {
            "tags": []
          },
          "output_type": "display_data"
        },
        {
          "name": "stdout",
          "output_type": "stream",
          "text": [
            "\n",
            "Cluster 3:\n"
          ]
        },
        {
          "data": {
            "text/html": [
              "<div>\n",
              "<style scoped>\n",
              "    .dataframe tbody tr th:only-of-type {\n",
              "        vertical-align: middle;\n",
              "    }\n",
              "\n",
              "    .dataframe tbody tr th {\n",
              "        vertical-align: top;\n",
              "    }\n",
              "\n",
              "    .dataframe thead th {\n",
              "        text-align: right;\n",
              "    }\n",
              "</style>\n",
              "<table border=\"1\" class=\"dataframe\">\n",
              "  <thead>\n",
              "    <tr style=\"text-align: right;\">\n",
              "      <th></th>\n",
              "      <th>Age</th>\n",
              "      <th>Income</th>\n",
              "      <th>SpendingScore</th>\n",
              "    </tr>\n",
              "  </thead>\n",
              "  <tbody>\n",
              "    <tr>\n",
              "      <th>19</th>\n",
              "      <td>88</td>\n",
              "      <td>120678</td>\n",
              "      <td>0.06</td>\n",
              "    </tr>\n",
              "  </tbody>\n",
              "</table>\n",
              "</div>"
            ],
            "text/plain": [
              "    Age  Income  SpendingScore\n",
              "19   88  120678           0.06"
            ]
          },
          "metadata": {
            "tags": []
          },
          "output_type": "display_data"
        },
        {
          "name": "stdout",
          "output_type": "stream",
          "text": [
            "\n",
            "Cluster 4:\n"
          ]
        },
        {
          "data": {
            "text/html": [
              "<div>\n",
              "<style scoped>\n",
              "    .dataframe tbody tr th:only-of-type {\n",
              "        vertical-align: middle;\n",
              "    }\n",
              "\n",
              "    .dataframe tbody tr th {\n",
              "        vertical-align: top;\n",
              "    }\n",
              "\n",
              "    .dataframe thead th {\n",
              "        text-align: right;\n",
              "    }\n",
              "</style>\n",
              "<table border=\"1\" class=\"dataframe\">\n",
              "  <thead>\n",
              "    <tr style=\"text-align: right;\">\n",
              "      <th></th>\n",
              "      <th>Age</th>\n",
              "      <th>Income</th>\n",
              "      <th>SpendingScore</th>\n",
              "    </tr>\n",
              "  </thead>\n",
              "  <tbody>\n",
              "    <tr>\n",
              "      <th>197</th>\n",
              "      <td>32</td>\n",
              "      <td>106543</td>\n",
              "      <td>0.31</td>\n",
              "    </tr>\n",
              "  </tbody>\n",
              "</table>\n",
              "</div>"
            ],
            "text/plain": [
              "     Age  Income  SpendingScore\n",
              "197   32  106543           0.31"
            ]
          },
          "metadata": {
            "tags": []
          },
          "output_type": "display_data"
        }
      ],
      "source": [
        "from scipy.spatial import distance\n",
        "\n",
        "for i, label in enumerate(set(labels)):\n",
        "    X_tmp= X\n",
        "    exemplar_idx = distance.cdist([means[i]], X).argmin()\n",
        "   \n",
        "    print('\\nCluster {}:'.format(label))\n",
        "    df2 = df1[['Age','Income','SpendingScore']]\n",
        "    display(df2.iloc[[exemplar_idx]])"
      ]
    },
    {
      "cell_type": "code",
      "execution_count": null,
      "metadata": {
        "colab": {
          "base_uri": "https://localhost:8080/"
        },
        "id": "8zP24ajYbfAO",
        "outputId": "2bd96352-2d44-43f0-cb7a-9327d08308e2"
      },
      "outputs": [
        {
          "name": "stdout",
          "output_type": "stream",
          "text": [
            "0.8347896680258566\n"
          ]
        }
      ],
      "source": [
        "score = metrics.silhouette_score(df_two,db.labels_)\n",
        "print(score)"
      ]
    },
    {
      "cell_type": "markdown",
      "metadata": {
        "id": "6ySJIgNr1Sfy"
      },
      "source": [
        "## 1.3 Model Comparison"
      ]
    },
    {
      "cell_type": "markdown",
      "metadata": {
        "id": "gwQembOT1L6U"
      },
      "source": [
        "After the above two clustering experiments, I find that the K-Means clustering algorithm is better than DBSCAN method even though they had the same silhouette score. Firstly, DBSCAN needs ahead of process parameter settings, such as Eps and MinPts value, which are difficult to determine accurately. Also, these two parameters have a significant influence on the clustering results. On the flip side, the adjustable parameter in K-Means is the K-value solely, which can be more convenient to use than DBSCAN clustering. Secondly, the algorithm of K-Means clustering is simple to understand and easy to apply. More specifically, the principle is that the given sample set is divided into K clusters according to the distance between the samples. And we need to make the points in the cluster as close as possible, and the distance between the clusters as large as possible. Thus, the result has relatively strong interpretability and the audiences are easy to understand, based on this simple principle. \n",
        "\n",
        "As a result, I believed K-Means clustering algorithm could be more effective in this case and provide a more accurate result to Uncle Steve.\n"
      ]
    },
    {
      "cell_type": "markdown",
      "metadata": {
        "id": "MP2EAnCJ1Xta"
      },
      "source": [
        "## 1.4 Personas"
      ]
    },
    {
      "cell_type": "markdown",
      "metadata": {
        "id": "dVewu2TZ1XhK"
      },
      "source": [
        "In this case, we have 505 instances in our K-Means model, and the mean of age, income and spending score are 59 years old, \\$75,000 and 51% respectively. Besides, this sample is divided into five clusters based on their age, income level and spending score. In cluster 0, the second-largest cluster, the mean age is 88 years old but with the lowest income level, \\$27,000 since they retired. Thus, its avg spending score is less than the mean. Cluster 1 has the greatest number of customers, and I think it is the most significant and representative in this model. Although its average salary is \\$72,000, which is closed to the total average of wages, it has the second-highest average spending score of 77%. Since in this group, the mean age is 60-year-old and most of the customers have a stable income source and less family responsibility, they began to enjoy their life and can afford luxury products. For cluster 2, the size is still huge, but people in this group are younger and have a higher income level of around \\$30,000 greater than the average annual income. However, their spending score is relatively lower, which is only 31%. Thus,  I believe these customers are rational consumers because they have their own families to raise and reduce unnecessary expenses. For cluster 3, the average age is lowest among these five groups, but they have the highest income and consumption ability. Even though there are only 50 customers in this sample, they have twice more substantial purchasing power than the mean of the entire sample set. So they are more likely to be impulse spenders. In cluster 4, they share almost the same income level as cluster 3, but their spending score is  13 times less than in cluster 3.  According to age, the youngest one in the group is 77 years old. Older persons have lower demand of jewelry or other high-end products because they would like to enjoy their family life or trips after their retirement.\n",
        "\n",
        "In summary, I believe uncle steve should the results on clusters 1 and 3. For cluster 1, the sample size is the largest and the spending power is second highest; for cluster 3, these customers have the highest income and spending level. In the future, we need to collect more data from these two groups so that we can design more suitable jewelry products for them, which can boost their brand loyalty and increase purchasing frequency and amount.\n"
      ]
    },
    {
      "cell_type": "markdown",
      "metadata": {
        "id": "DYwuYIgczYSv"
      },
      "source": [
        "# Question 2: Uncle Steve's Fine Foods"
      ]
    },
    {
      "cell_type": "markdown",
      "metadata": {
        "id": "4oCr-mTfNG-H"
      },
      "source": [
        "## Instructions\n",
        "\n",
        "Uncle Steve runs a small, local grocery store in Ontario. The store sells all the normal food staples (e.g., bread, milk, cheese, eggs, more cheese, fruits, vegatables, meat, fish, waffles, ice cream, pasta, cereals, drinks), personal care products (e.g., toothpaste, shampoo, hair goo), medicine, and cakes. There's even a little section with flowers and greeting cards! Normal people shop here, and buy normal things in the normal way.\n",
        "\n",
        "Business is OK but Uncle Steve wants more. He's thus on the hunt for customer insights. Given your success at the jewelry store, he has asked you to help him out. \n",
        "\n",
        "He has given you a few years' worth of customer transactions, i.e., sets of items that customers have purchased. You have applied an association rules learning algorithm (like Apriori) to the data, and the algorithm has generated a large set of association rules of the form `{X} -> {Y}`, where `{X}` and `{Y}` are item-sets.\n",
        "\n",
        "Now comes a thought experiment. For each of the following scenarios, state what one of the discovered association rules might be that would meet the stated condition. (Just make up the rule, using your human experience and intuition.) Also, describe whether and why each rule would be considered interesting or uninteresting for Uncle Steve (i.e., is this insight new to him? Would he be able to use it somehow?).\n",
        "\n",
        "Keep each answer to 600 characters or less (including spaces).\n",
        "\n",
        "To get those brain juices going, an example condition and answer is provided below:\n",
        "\n",
        "> Condition: A rule that has high support.\n",
        "\n",
        "> Answer: The rule `{milk} -> {bread}` would have high support, since milk and bread are household staples and a high percentage of transactions would include both `{milk}` and `{bread}`. Uncle Steve would likely not find this rule interesting, because these items are so common, he would have surely already noticed that so many transactions contain them.\n",
        "\n",
        "**Marking**\n",
        "\n",
        "Your responses will be marked as follows:\n",
        "\n",
        "- *Correctness*. Rule meets the specificed condition, and seems plausible in an Ontario grocery store.\n",
        "- *Justification of interestness*. Response clearly describes whether and why the rule would be considered interesting to Uncle Steve.\n",
        "\n",
        "**Tips**\n",
        "\n",
        "- There is no actual data for this question. This question is just a thought exercise. You need to use your intuition, creatitivty, and understanding of the real world. I assume you are familiar with what happens inside of normal grocery stores. We are not using actual data and you do not need to create/generate/find any data. I repeat: there is no data for this question.\n",
        "- The reason this question is having you do a thought experiment, rather than writing and running code to find actual association rules on an actual dataset, is because writing code to find association rules is actually pretty easy. But using your brain to come up with rules that meet certain criteria, on the other hand, is a true test of whether you understand how the algorithm works, what support and confidence mean, and the applicability of rules. The question uses the grocery store context because most, if not all, students should be familiar from personal experience.\n",
        "\n"
      ]
    },
    {
      "cell_type": "markdown",
      "metadata": {
        "id": "3YQsOb6CzYVq"
      },
      "source": [
        "## 2.1: A rule that might have high support and high confidence. "
      ]
    },
    {
      "cell_type": "markdown",
      "metadata": {
        "id": "DzXu1IvK-MEg"
      },
      "source": [
        "The rule {milk} -> {cereals} has high support and confidence. People who buy cereals need milk to ward off moisture it and these items are always a popular combination which like they are made for each other. Therefore, this rule is too obvious and uninteresting for uncle steve and he should realize it before and will not put that much promotion on it.\n"
      ]
    },
    {
      "cell_type": "markdown",
      "metadata": {
        "id": "VNIrAgJk-L4l"
      },
      "source": [
        "## 2.2: A rule that might have reasonably high support but low confidence."
      ]
    },
    {
      "cell_type": "markdown",
      "metadata": {
        "id": "svdzYW3S-LvF"
      },
      "source": [
        "The rule {bread} -> {meat} has high support and low confidence. Although the sale of meat and bread would be higher than the support threshold because they are non-durable goods, not all transactions contain both bread and meat. More specifically, customers who buy bread are less likely to purchase meat. Uncle Steve would think this rule is uninteresting since these products are high-sales groceries already and do not have a strong association."
      ]
    },
    {
      "cell_type": "markdown",
      "metadata": {
        "id": "loe--LMz-Ll8"
      },
      "source": [
        "## 2.3: A rule that might have low support and low confidence."
      ]
    },
    {
      "cell_type": "markdown",
      "metadata": {
        "id": "HdyOB5fe-Zgy"
      },
      "source": [
        "The rule {medicine} -> {shampoo} would have low support value since the customer requirement of medicine is low. Also, people who buy medicine would be less likely to shop for shampoo. Due to low support and confidence, this rule tends to be uninteresting to uncle Steve."
      ]
    },
    {
      "cell_type": "markdown",
      "metadata": {
        "id": "St2eI3We-ZYs"
      },
      "source": [
        "## 2.4: A rule that might have low support and high confidence."
      ]
    },
    {
      "cell_type": "markdown",
      "metadata": {
        "id": "LcdZc-B1-fE7"
      },
      "source": [
        "The rule {flowers, greeting cards} -> {cakes} would have low support value since customers only purchase these when they celebrate special anniversaries or festivals. However, it would produce high confidence because people would like to buy them all together as a gift to their families and friends. Thus, we should display and sell them in the same store section to boost the sales. I think uncle steve would find this rule is interesting.\n",
        "\n"
      ]
    },
    {
      "cell_type": "markdown",
      "metadata": {
        "id": "B_IHoz7f2yIV"
      },
      "source": [
        "# Question 3: Uncle Steve's Credit Union"
      ]
    },
    {
      "cell_type": "markdown",
      "metadata": {
        "id": "WhERdkp_zYBY"
      },
      "source": [
        "## Instructions\n",
        "\n",
        "Uncle Steve has recently opened a new credit union in Kingston, named *Uncle Steve's Credit Union*. He plans to disrupt the local market by instaneously providing credit to customers.\n",
        "\n",
        "The first step in Uncle Steve's master plan is to create a model to predict whether an application has *good risk* or *bad risk*. He has outsourced the creation of this model to you.\n",
        "\n",
        "You are to create a classification model to predict whether a loan applicant has good risk or bad risk. You will use data  that Uncle Steve bought from another credit union (somewhere in Europe, he thinks?) that has around 6000 instances and a number of demographics features (e.g., `Sex`, `DateOfBirth`, `Married`), loan details (e.g., `Amount`, `Purpose`), credit history (e.g., number of loans), as well as an indicator (called `BadCredit` in the dataset) as to whether that person was a bad risk.\n",
        "\n",
        "\n",
        "**Your tasks**\n",
        "\n",
        "To examine the effects of the various ML stages, you are to create the model several times, each time adding more sophistication, and measuring how much the model improved (or not). In particular, you will:\n",
        "\n",
        "0. Split the data in training and testing. Don't touch the testing data again, for any reason, until step 5. We are pretending that the testing data is \"future, unseen data that our model won't see until production.\" I'm serious, don't touch it. I'm watching you!\n",
        "1. Build a baseline model - no feature engineering, no feature selection, no hyperparameter tuning (just use the default settings), nothing fancy. (You may need to do some basic feature transformations, e.g., encoding of categorical features, or dropping of features you do not think will help or do not want to deal with yet.) Measure the performance using K-fold cross validation (recommended: [`sklearn.model_selection.cross_val_score`](https://scikit-learn.org/stable/modules/generated/sklearn.model_selection.cross_val_score.html#sklearn.model_selection.cross_val_score)) on the training data. Use at least 5 folds, but more are better. Choose a [`scoring` parameter](https://scikit-learn.org/stable/modules/model_evaluation.html#scoring-parameter) (i.e., classification metric) that you feel is appropriate for this task. Don't use accuracy. Print the mean score of your model.\n",
        "2. Add a bit of feature engineering. The [`sklearn.preprocessing`](https://scikit-learn.org/stable/modules/classes.html#module-sklearn.preprocessing) module contains many useful transformations. Engineer at least three new features. They don't need to be especially ground-breaking or complicated. Dimensionality reduction techniques like [`sklearn.decomposition.PCA`](https://scikit-learn.org/stable/modules/generated/sklearn.decomposition.PCA.html) are fair game but not required. (If you do use dimensionality reduction techniques, it would only count as \"one\" new feature for the purposes of this assignment, even though I realize that PCA creates many new \"features\" (i.e., principal componentns).) Re-train your baseline model. Measure performance. Compare to step 1.\n",
        "3. Add feature selection. The [`sklearn.feature_selection`](https://scikit-learn.org/stable/modules/classes.html#module-sklearn.feature_selection) has some algorithms for you to choose from. After selecting features, re-train your model, measure performance, and compare to step 2.\n",
        "4. Add hyperparameter tuning. Make reasonable choices and try to find the best (or at least, better) hyperparameters for your estimator and/or transformers. It's probably a good idea to stop using `cross_val_score` at this point and start using [`sklearn.model_selection.GridSearchCV`](https://scikit-learn.org/stable/modules/generated/sklearn.model_selection.GridSearchCV.html#sklearn.model_selection.GridSearchCV) as it is specifically built for this purpose and is more convienient to use. Measure performance and compare to step 3.\n",
        "5. Finally, estimate how well your model will work in production. Use the testing data (our \"future, unseen data\") from step 0. Transform the data as appropriate (easy if you've built a pipeline, a little more difficult if not), use the model from step 4 to get predictions, and measure the performance. How well did we do? \n",
        "\n",
        "\n",
        "**Marking**\n",
        "\n",
        "Each part will be marked for:\n",
        "- *Correctness*. Code clearly and fully performs the task specified.\n",
        "- *Reproducibility*. Code is fully reproducible. I.e., you (and I) should be able to run this Notebook again and again, from top to bottom, and get the same results each and every time.\n",
        "- *Style*. Code is organized. All parts commented with clear reasoning and rationale. No old code laying around. Code easy to follow. \n",
        "\n",
        "\n",
        "**Tips**\n",
        "- The origins of the dataset are a bit of a mystery. Assume the data set is recent (circa 2021) and up-to-date. Assume that column names are correct and accurate.\n",
        "- You don't need to experiment with more than one algorithm/estimator. Just choose one (e.g., [`sklearn.tree.DecisionTreeClassifier`](https://scikit-learn.org/stable/modules/generated/sklearn.tree.DecisionTreeClassifier.html#sklearn.tree.DecisionTreeClassifier), [`sklearn.ensemble.RandomForestClassifier`](https://scikit-learn.org/stable/modules/generated/sklearn.ensemble.RandomForestClassifier.html#sklearn.ensemble.RandomForestClassifier), [`sklearn.linear_model.LogisticRegression`](https://scikit-learn.org/stable/modules/generated/sklearn.linear_model.LogisticRegression.html#sklearn.linear_model.LogisticRegression), [`sklearn.svm.LinearSVC`](https://scikit-learn.org/stable/modules/generated/sklearn.svm.LinearSVC.html#sklearn.svm.LinearSVC), whatever) and stick with it for this question. \n",
        "- There is no minimum accuracy/precision/recall for this question. I.e., your mark will not be based on how good your model is. Rather, you mark will be based on good your process is.\n",
        "- Watch out for data leakage and overfitting. In particular, be sure to `fit()` any estimators and transformers (collectively, *objects*) only to the training data, and then use the objects' `transform()` methods on both the training and testing data. [Data School](https://www.youtube.com/c/dataschool/featured) has a [helpful video](https://www.youtube.com/watch?v=g2XsZdwbCCs) about this. [Pipelines](https://www.youtube.com/watch?v=1Y6O9nCo0-I) are very helpful here and make your code shorter and more robust (at the expense of making it harder to understand), and I recommend using them, but they are not required for this assignment.\n",
        "- Create as many code cells as you need. In general, each cell should do one \"thing.\"\n",
        "-\tDon't print large volumes of output. E.g., don't do: `df.head(100)`\n",
        "\n",
        "\n"
      ]
    },
    {
      "cell_type": "markdown",
      "metadata": {
        "id": "jqm_REd4oouz"
      },
      "source": [
        "## 3.0: Load data and split"
      ]
    },
    {
      "cell_type": "code",
      "execution_count": null,
      "metadata": {
        "colab": {
          "base_uri": "https://localhost:8080/"
        },
        "id": "X6b_BM0Nz9sF",
        "outputId": "688af884-084d-4887-86d0-f8f18d79f270"
      },
      "outputs": [
        {
          "name": "stdout",
          "output_type": "stream",
          "text": [
            "<class 'pandas.core.frame.DataFrame'>\n",
            "RangeIndex: 6000 entries, 0 to 5999\n",
            "Data columns (total 17 columns):\n",
            " #   Column             Non-Null Count  Dtype \n",
            "---  ------             --------------  ----- \n",
            " 0   UserID             6000 non-null   object\n",
            " 1   Sex                6000 non-null   object\n",
            " 2   PreviousDefault    6000 non-null   int64 \n",
            " 3   FirstName          6000 non-null   object\n",
            " 4   LastName           6000 non-null   object\n",
            " 5   NumberPets         6000 non-null   int64 \n",
            " 6   PreviousAccounts   6000 non-null   int64 \n",
            " 7   ResidenceDuration  6000 non-null   int64 \n",
            " 8   Street             6000 non-null   object\n",
            " 9   LicensePlate       6000 non-null   object\n",
            " 10  BadCredit          6000 non-null   int64 \n",
            " 11  Amount             6000 non-null   int64 \n",
            " 12  Married            6000 non-null   int64 \n",
            " 13  Duration           6000 non-null   int64 \n",
            " 14  City               6000 non-null   object\n",
            " 15  Purpose            6000 non-null   object\n",
            " 16  DateOfBirth        6000 non-null   object\n",
            "dtypes: int64(8), object(9)\n",
            "memory usage: 797.0+ KB\n"
          ]
        }
      ],
      "source": [
        "# DO NOT MODIFY THIS CELL\n",
        "\n",
        "# First, we'll read the provided labeled training data\n",
        "df3 = pd.read_csv(\"https://drive.google.com/uc?export=download&id=1wOhyCnvGeY4jplxI8lZ-bbYN3zLtickf\")\n",
        "df3.info()\n",
        "\n",
        "from sklearn.model_selection import train_test_split\n",
        "\n",
        "X = df3.drop('BadCredit', axis=1) #.select_dtypes(['number'])\n",
        "y = df3['BadCredit']\n",
        "\n",
        "X_train, X_test, y_train, y_test = train_test_split(X, y, test_size=0.2, random_state=42)"
      ]
    },
    {
      "cell_type": "code",
      "execution_count": null,
      "metadata": {
        "colab": {
          "base_uri": "https://localhost:8080/",
          "height": 253
        },
        "id": "2UTMz44UctTk",
        "outputId": "f19b39d7-0e0c-4757-fac3-f874e74bbd99"
      },
      "outputs": [
        {
          "data": {
            "text/html": [
              "<div>\n",
              "<style scoped>\n",
              "    .dataframe tbody tr th:only-of-type {\n",
              "        vertical-align: middle;\n",
              "    }\n",
              "\n",
              "    .dataframe tbody tr th {\n",
              "        vertical-align: top;\n",
              "    }\n",
              "\n",
              "    .dataframe thead th {\n",
              "        text-align: right;\n",
              "    }\n",
              "</style>\n",
              "<table border=\"1\" class=\"dataframe\">\n",
              "  <thead>\n",
              "    <tr style=\"text-align: right;\">\n",
              "      <th></th>\n",
              "      <th>UserID</th>\n",
              "      <th>Sex</th>\n",
              "      <th>PreviousDefault</th>\n",
              "      <th>FirstName</th>\n",
              "      <th>LastName</th>\n",
              "      <th>NumberPets</th>\n",
              "      <th>PreviousAccounts</th>\n",
              "      <th>ResidenceDuration</th>\n",
              "      <th>Street</th>\n",
              "      <th>LicensePlate</th>\n",
              "      <th>BadCredit</th>\n",
              "      <th>Amount</th>\n",
              "      <th>Married</th>\n",
              "      <th>Duration</th>\n",
              "      <th>City</th>\n",
              "      <th>Purpose</th>\n",
              "      <th>DateOfBirth</th>\n",
              "    </tr>\n",
              "  </thead>\n",
              "  <tbody>\n",
              "    <tr>\n",
              "      <th>0</th>\n",
              "      <td>218-84-8180</td>\n",
              "      <td>F</td>\n",
              "      <td>0</td>\n",
              "      <td>Debra</td>\n",
              "      <td>Schaefer</td>\n",
              "      <td>2</td>\n",
              "      <td>3</td>\n",
              "      <td>1</td>\n",
              "      <td>503 Linda Locks</td>\n",
              "      <td>395C</td>\n",
              "      <td>0</td>\n",
              "      <td>3907</td>\n",
              "      <td>0</td>\n",
              "      <td>24</td>\n",
              "      <td>Port Keith</td>\n",
              "      <td>Vacation</td>\n",
              "      <td>1964-04-07</td>\n",
              "    </tr>\n",
              "    <tr>\n",
              "      <th>1</th>\n",
              "      <td>395-49-9764</td>\n",
              "      <td>M</td>\n",
              "      <td>0</td>\n",
              "      <td>Derek</td>\n",
              "      <td>Wright</td>\n",
              "      <td>0</td>\n",
              "      <td>1</td>\n",
              "      <td>1</td>\n",
              "      <td>969 Cox Dam Suite 101</td>\n",
              "      <td>UFZ 691</td>\n",
              "      <td>0</td>\n",
              "      <td>3235</td>\n",
              "      <td>0</td>\n",
              "      <td>12</td>\n",
              "      <td>Lake Debra</td>\n",
              "      <td>NewCar</td>\n",
              "      <td>1978-06-02</td>\n",
              "    </tr>\n",
              "  </tbody>\n",
              "</table>\n",
              "</div>"
            ],
            "text/plain": [
              "        UserID Sex  PreviousDefault  ...        City   Purpose  DateOfBirth\n",
              "0  218-84-8180   F                0  ...  Port Keith  Vacation   1964-04-07\n",
              "1  395-49-9764   M                0  ...  Lake Debra    NewCar   1978-06-02\n",
              "\n",
              "[2 rows x 17 columns]"
            ]
          },
          "execution_count": 28,
          "metadata": {
            "tags": []
          },
          "output_type": "execute_result"
        }
      ],
      "source": [
        "df3[:2]"
      ]
    },
    {
      "cell_type": "markdown",
      "metadata": {
        "id": "sdiKKblCo53S"
      },
      "source": [
        "## 3.1: Baseline model"
      ]
    },
    {
      "cell_type": "code",
      "execution_count": null,
      "metadata": {
        "id": "mSumAZUAo9O6"
      },
      "outputs": [],
      "source": [
        "# remove the unnecessary columns, which do not affecte the result effectively\n",
        "X_train1 = X_train.drop(['UserID', 'FirstName','LastName', 'Street','LicensePlate', 'DateOfBirth'], axis=1)"
      ]
    },
    {
      "cell_type": "code",
      "execution_count": null,
      "metadata": {
        "id": "qNA6pO-Tc2D_"
      },
      "outputs": [],
      "source": [
        "# One Hot encoding\n",
        "X_train_dummies = pd.get_dummies(X_train1)"
      ]
    },
    {
      "cell_type": "code",
      "execution_count": null,
      "metadata": {
        "id": "aogfqgVYc4x8"
      },
      "outputs": [],
      "source": [
        "clf_cv = DecisionTreeClassifier(random_state=10)\n",
        "scores = cross_val_score(clf_cv, X_train_dummies, y_train, cv=10, scoring=\"f1_macro\")"
      ]
    },
    {
      "cell_type": "code",
      "execution_count": null,
      "metadata": {
        "colab": {
          "base_uri": "https://localhost:8080/"
        },
        "id": "CAXjT_0yc7T4",
        "outputId": "90a5ff26-e966-4759-fbb9-3c6597b155e3"
      },
      "outputs": [
        {
          "name": "stdout",
          "output_type": "stream",
          "text": [
            "[0.59477888 0.6373402  0.53670793 0.66907709 0.62118873 0.65367965\n",
            " 0.59647495 0.64585055 0.62309891 0.63635216]\n",
            "f1_macro: 0.62 (+/- 0.07)\n"
          ]
        }
      ],
      "source": [
        "print(scores)\n",
        "print(\"f1_macro: %0.2f (+/- %0.2f)\" % (scores.mean(), scores.std() * 2))"
      ]
    },
    {
      "cell_type": "markdown",
      "metadata": {
        "id": "ugyTS51Ko5vz"
      },
      "source": [
        "## 3.2: Feature engineering"
      ]
    },
    {
      "cell_type": "code",
      "execution_count": null,
      "metadata": {
        "id": "742aYkYbprVD"
      },
      "outputs": [],
      "source": [
        "standard_scaler = preprocessing.StandardScaler().fit(X_train_dummies[['Amount']])\n",
        "X_train_dummies['Amount_Scaled'] = standard_scaler.transform(X_train_dummies[['Amount']])   \n",
        "\n",
        "power_transformer = preprocessing.PowerTransformer(method='box-cox').fit(X_train_dummies[['Amount']])\n",
        "X_train_dummies['Amount_BoxCox'] = power_transformer.transform(X_train_dummies[['Amount']])     \n",
        "\n",
        "quantile_transformer = preprocessing.QuantileTransformer(random_state=0).fit(X_train_dummies[['Amount']])\n",
        "X_train_dummies['Amount_Uniform'] = quantile_transformer.transform(X_train_dummies[['Amount']])  \n",
        "\n",
        "function_transformer = preprocessing.FunctionTransformer(np.log1p, validate=True).fit(X_train_dummies[['Amount']])\n",
        "X_train_dummies['Amount_Log'] = function_transformer.transform(X_train_dummies[['Amount']])  \n"
      ]
    },
    {
      "cell_type": "code",
      "execution_count": null,
      "metadata": {
        "id": "q1MZ2uUWdFaM"
      },
      "outputs": [],
      "source": [
        "clf_cv = DecisionTreeClassifier(random_state=10)\n",
        "scores = cross_val_score(clf_cv, X_train_dummies, y_train, cv=10, scoring=\"f1_macro\")"
      ]
    },
    {
      "cell_type": "code",
      "execution_count": null,
      "metadata": {
        "colab": {
          "base_uri": "https://localhost:8080/"
        },
        "id": "BmPxXrExdIWc",
        "outputId": "36351ae7-68a5-41fc-8692-8862134ca95a"
      },
      "outputs": [
        {
          "name": "stdout",
          "output_type": "stream",
          "text": [
            "[0.61399851 0.60861467 0.54113684 0.66700972 0.6295888  0.63634002\n",
            " 0.55931282 0.6176002  0.64259121 0.60465242]\n",
            "f1_macro: 0.61 (+/- 0.07)\n"
          ]
        }
      ],
      "source": [
        "print(scores)\n",
        "print(\"f1_macro: %0.2f (+/- %0.2f)\" % (scores.mean(), scores.std() * 2))"
      ]
    },
    {
      "cell_type": "markdown",
      "metadata": {
        "id": "PsdD0clko5pz"
      },
      "source": [
        "## 3.3: Feature selection"
      ]
    },
    {
      "cell_type": "code",
      "execution_count": null,
      "metadata": {
        "id": "rxX2ERqzpqxi"
      },
      "outputs": [],
      "source": [
        "selection = VarianceThreshold(threshold=(0.02));\n",
        "selection = selection.fit(X_train_dummies);\n",
        "\n",
        "X_train_dummies_new = selection.transform(X_train_dummies)"
      ]
    },
    {
      "cell_type": "code",
      "execution_count": null,
      "metadata": {
        "colab": {
          "base_uri": "https://localhost:8080/"
        },
        "id": "8BZ7HE-ydjeL",
        "outputId": "d29c1dea-aa21-47d3-f4ea-b431a6abf239"
      },
      "outputs": [
        {
          "data": {
            "text/plain": [
              "(4800, 30)"
            ]
          },
          "execution_count": 38,
          "metadata": {
            "tags": []
          },
          "output_type": "execute_result"
        }
      ],
      "source": [
        "X_train_dummies_new.shape"
      ]
    },
    {
      "cell_type": "code",
      "execution_count": null,
      "metadata": {
        "colab": {
          "base_uri": "https://localhost:8080/"
        },
        "id": "e0hTtrnndmJs",
        "outputId": "0cb6c3ae-3dd6-4dbf-f4f2-dc5b72ffd1a3"
      },
      "outputs": [
        {
          "name": "stdout",
          "output_type": "stream",
          "text": [
            "[0.6016993  0.61201439 0.55301619 0.62644253 0.63141037 0.64392815\n",
            " 0.60335261 0.64067329 0.63230788 0.61729812]\n",
            "f1_macro: 0.62 (+/- 0.05)\n"
          ]
        }
      ],
      "source": [
        "clf_cv = DecisionTreeClassifier(random_state=10)\n",
        "scores = cross_val_score(clf_cv, X_train_dummies_new, y_train, cv=10, scoring=\"f1_macro\")\n",
        "print(scores)\n",
        "print(\"f1_macro: %0.2f (+/- %0.2f)\" % (scores.mean(), scores.std() * 2))"
      ]
    },
    {
      "cell_type": "code",
      "execution_count": null,
      "metadata": {
        "colab": {
          "base_uri": "https://localhost:8080/"
        },
        "id": "LMXQ8n5Ddrdj",
        "outputId": "a5394aa9-5fa3-40ab-b59c-cdb67e755716"
      },
      "outputs": [
        {
          "data": {
            "text/plain": [
              "DecisionTreeClassifier(ccp_alpha=0.0, class_weight=None, criterion='gini',\n",
              "                       max_depth=None, max_features=None, max_leaf_nodes=None,\n",
              "                       min_impurity_decrease=0.0, min_impurity_split=None,\n",
              "                       min_samples_leaf=1, min_samples_split=2,\n",
              "                       min_weight_fraction_leaf=0.0, presort='deprecated',\n",
              "                       random_state=10, splitter='best')"
            ]
          },
          "execution_count": 40,
          "metadata": {
            "tags": []
          },
          "output_type": "execute_result"
        }
      ],
      "source": [
        "clf_cv"
      ]
    },
    {
      "cell_type": "markdown",
      "metadata": {
        "id": "Ff4l2aNKo5fr"
      },
      "source": [
        "## 3.4: Hyperparameter tuning"
      ]
    },
    {
      "cell_type": "code",
      "execution_count": null,
      "metadata": {
        "colab": {
          "base_uri": "https://localhost:8080/"
        },
        "id": "7XaxtTWMpIpP",
        "outputId": "83a1ddaa-9fb4-481d-d5de-fcee1c9b0e57"
      },
      "outputs": [
        {
          "name": "stdout",
          "output_type": "stream",
          "text": [
            "Fitting 10 folds for each of 3192 candidates, totalling 31920 fits\n"
          ]
        },
        {
          "name": "stderr",
          "output_type": "stream",
          "text": [
            "[Parallel(n_jobs=1)]: Using backend SequentialBackend with 1 concurrent workers.\n",
            "[Parallel(n_jobs=1)]: Done 31920 out of 31920 | elapsed:  6.6min finished\n"
          ]
        }
      ],
      "source": [
        "clf = DecisionTreeClassifier(random_state=10)\n",
        "\n",
        "params = {'criterion': ['gini', 'entropy'], \n",
        "      'splitter': ['best', 'random'], \n",
        "      'max_features':[None,'log2','sqrt',0.25, 0.5, 0.75, 1.0],\n",
        "      'class_weight': ('balanced', None), \n",
        "      'max_depth': [i for i in range(2,21)], \n",
        "      'min_samples_leaf': [1, 5, 10],\n",
        "      }\n",
        "\n",
        "search = GridSearchCV(clf, params, scoring='f1_macro', cv=10, verbose=1)\n",
        "search = search.fit(X_train_dummies_new, y_train)"
      ]
    },
    {
      "cell_type": "code",
      "execution_count": null,
      "metadata": {
        "colab": {
          "base_uri": "https://localhost:8080/"
        },
        "id": "7H-FbCrId16W",
        "outputId": "fba44609-e632-41ba-d934-434815141573"
      },
      "outputs": [
        {
          "data": {
            "text/plain": [
              "{'class_weight': None,\n",
              " 'criterion': 'gini',\n",
              " 'max_depth': 3,\n",
              " 'max_features': None,\n",
              " 'min_samples_leaf': 1,\n",
              " 'splitter': 'best'}"
            ]
          },
          "execution_count": 42,
          "metadata": {
            "tags": []
          },
          "output_type": "execute_result"
        }
      ],
      "source": [
        "search.best_params_"
      ]
    },
    {
      "cell_type": "code",
      "execution_count": null,
      "metadata": {
        "colab": {
          "base_uri": "https://localhost:8080/",
          "height": 459
        },
        "id": "ub3Cu5YRd4-u",
        "outputId": "0b514f86-67cd-4aba-afa5-53c577e3e5bb"
      },
      "outputs": [
        {
          "data": {
            "text/html": [
              "<div>\n",
              "<style scoped>\n",
              "    .dataframe tbody tr th:only-of-type {\n",
              "        vertical-align: middle;\n",
              "    }\n",
              "\n",
              "    .dataframe tbody tr th {\n",
              "        vertical-align: top;\n",
              "    }\n",
              "\n",
              "    .dataframe thead th {\n",
              "        text-align: right;\n",
              "    }\n",
              "</style>\n",
              "<table border=\"1\" class=\"dataframe\">\n",
              "  <thead>\n",
              "    <tr style=\"text-align: right;\">\n",
              "      <th></th>\n",
              "      <th>class_weight</th>\n",
              "      <th>criterion</th>\n",
              "      <th>max_depth</th>\n",
              "      <th>max_features</th>\n",
              "      <th>min_samples_leaf</th>\n",
              "      <th>splitter</th>\n",
              "      <th>mean_val_score</th>\n",
              "      <th>rank_val_score</th>\n",
              "    </tr>\n",
              "  </thead>\n",
              "  <tbody>\n",
              "    <tr>\n",
              "      <th>2472</th>\n",
              "      <td>None</td>\n",
              "      <td>entropy</td>\n",
              "      <td>3</td>\n",
              "      <td>1.00</td>\n",
              "      <td>1</td>\n",
              "      <td>best</td>\n",
              "      <td>0.69</td>\n",
              "      <td>1</td>\n",
              "    </tr>\n",
              "    <tr>\n",
              "      <th>2464</th>\n",
              "      <td>None</td>\n",
              "      <td>entropy</td>\n",
              "      <td>3</td>\n",
              "      <td>0.50</td>\n",
              "      <td>10</td>\n",
              "      <td>best</td>\n",
              "      <td>0.69</td>\n",
              "      <td>1</td>\n",
              "    </tr>\n",
              "    <tr>\n",
              "      <th>2462</th>\n",
              "      <td>None</td>\n",
              "      <td>entropy</td>\n",
              "      <td>3</td>\n",
              "      <td>0.50</td>\n",
              "      <td>5</td>\n",
              "      <td>best</td>\n",
              "      <td>0.69</td>\n",
              "      <td>1</td>\n",
              "    </tr>\n",
              "    <tr>\n",
              "      <th>1640</th>\n",
              "      <td>None</td>\n",
              "      <td>gini</td>\n",
              "      <td>3</td>\n",
              "      <td>None</td>\n",
              "      <td>5</td>\n",
              "      <td>best</td>\n",
              "      <td>0.69</td>\n",
              "      <td>1</td>\n",
              "    </tr>\n",
              "    <tr>\n",
              "      <th>1674</th>\n",
              "      <td>None</td>\n",
              "      <td>gini</td>\n",
              "      <td>3</td>\n",
              "      <td>1.00</td>\n",
              "      <td>1</td>\n",
              "      <td>best</td>\n",
              "      <td>0.69</td>\n",
              "      <td>1</td>\n",
              "    </tr>\n",
              "    <tr>\n",
              "      <th>...</th>\n",
              "      <td>...</td>\n",
              "      <td>...</td>\n",
              "      <td>...</td>\n",
              "      <td>...</td>\n",
              "      <td>...</td>\n",
              "      <td>...</td>\n",
              "      <td>...</td>\n",
              "      <td>...</td>\n",
              "    </tr>\n",
              "    <tr>\n",
              "      <th>893</th>\n",
              "      <td>balanced</td>\n",
              "      <td>entropy</td>\n",
              "      <td>4</td>\n",
              "      <td>log2</td>\n",
              "      <td>10</td>\n",
              "      <td>random</td>\n",
              "      <td>0.44</td>\n",
              "      <td>3187</td>\n",
              "    </tr>\n",
              "    <tr>\n",
              "      <th>93</th>\n",
              "      <td>balanced</td>\n",
              "      <td>gini</td>\n",
              "      <td>4</td>\n",
              "      <td>log2</td>\n",
              "      <td>5</td>\n",
              "      <td>random</td>\n",
              "      <td>0.43</td>\n",
              "      <td>3189</td>\n",
              "    </tr>\n",
              "    <tr>\n",
              "      <th>891</th>\n",
              "      <td>balanced</td>\n",
              "      <td>entropy</td>\n",
              "      <td>4</td>\n",
              "      <td>log2</td>\n",
              "      <td>5</td>\n",
              "      <td>random</td>\n",
              "      <td>0.43</td>\n",
              "      <td>3189</td>\n",
              "    </tr>\n",
              "    <tr>\n",
              "      <th>91</th>\n",
              "      <td>balanced</td>\n",
              "      <td>gini</td>\n",
              "      <td>4</td>\n",
              "      <td>log2</td>\n",
              "      <td>1</td>\n",
              "      <td>random</td>\n",
              "      <td>0.42</td>\n",
              "      <td>3191</td>\n",
              "    </tr>\n",
              "    <tr>\n",
              "      <th>889</th>\n",
              "      <td>balanced</td>\n",
              "      <td>entropy</td>\n",
              "      <td>4</td>\n",
              "      <td>log2</td>\n",
              "      <td>1</td>\n",
              "      <td>random</td>\n",
              "      <td>0.42</td>\n",
              "      <td>3192</td>\n",
              "    </tr>\n",
              "  </tbody>\n",
              "</table>\n",
              "<p>3192 rows × 8 columns</p>\n",
              "</div>"
            ],
            "text/plain": [
              "     class_weight criterion  max_depth  ... splitter  mean_val_score rank_val_score\n",
              "2472         None   entropy          3  ...     best            0.69              1\n",
              "2464         None   entropy          3  ...     best            0.69              1\n",
              "2462         None   entropy          3  ...     best            0.69              1\n",
              "1640         None      gini          3  ...     best            0.69              1\n",
              "1674         None      gini          3  ...     best            0.69              1\n",
              "...           ...       ...        ...  ...      ...             ...            ...\n",
              "893      balanced   entropy          4  ...   random            0.44           3187\n",
              "93       balanced      gini          4  ...   random            0.43           3189\n",
              "891      balanced   entropy          4  ...   random            0.43           3189\n",
              "91       balanced      gini          4  ...   random            0.42           3191\n",
              "889      balanced   entropy          4  ...   random            0.42           3192\n",
              "\n",
              "[3192 rows x 8 columns]"
            ]
          },
          "execution_count": 43,
          "metadata": {
            "tags": []
          },
          "output_type": "execute_result"
        }
      ],
      "source": [
        "def cv_results_to_df(cv_results):\n",
        "    results = pd.DataFrame(list(cv_results['params']))\n",
        "    results['mean_val_score'] = cv_results['mean_test_score']\n",
        "    results['rank_val_score'] = cv_results['rank_test_score']\n",
        "    results = results.sort_values(['mean_val_score'], ascending=False)\n",
        "    return results\n",
        "cv_results_to_df(search.cv_results_)"
      ]
    },
    {
      "cell_type": "markdown",
      "metadata": {
        "id": "TAvmU8aud7eQ"
      },
      "source": [
        "Training the model after hyperparameter tuning"
      ]
    },
    {
      "cell_type": "code",
      "execution_count": null,
      "metadata": {
        "colab": {
          "base_uri": "https://localhost:8080/"
        },
        "id": "3vt5ZCb9eEam",
        "outputId": "4b6bf005-4f05-456f-e72f-03f7c0b1bd4a"
      },
      "outputs": [
        {
          "name": "stdout",
          "output_type": "stream",
          "text": [
            "[0.68548027 0.69472122 0.66880953 0.69609297 0.68834848 0.7069248\n",
            " 0.70453613 0.7550708  0.65352857 0.68718347]\n",
            "f1_macro: 0.69 (+/- 0.05)\n"
          ]
        }
      ],
      "source": [
        "clf = DecisionTreeClassifier(class_weight=None,criterion='gini',max_depth=3,max_features=None,min_samples_leaf=1,splitter='best',random_state=10)\n",
        "scores = cross_val_score(clf, X_train_dummies_new, y_train, cv=10, scoring=\"f1_macro\")\n",
        "print(scores)\n",
        "print(\"f1_macro: %0.2f (+/- %0.2f)\" % (scores.mean(), scores.std() * 2))"
      ]
    },
    {
      "cell_type": "markdown",
      "metadata": {
        "id": "Te9gGGLEpXRG"
      },
      "source": [
        "## 3.5: Performance estimation"
      ]
    },
    {
      "cell_type": "code",
      "execution_count": null,
      "metadata": {
        "id": "YV_35bEupbfs"
      },
      "outputs": [],
      "source": [
        "X_test1 = X_test.drop(['UserID', 'FirstName','LastName', 'Street','LicensePlate', 'DateOfBirth'], axis=1)\n",
        "X_test_dummies = pd.get_dummies(X_test1)\n",
        "X_test_dummies['Amount_Scaled'] = standard_scaler.transform(X_test_dummies[['Amount']])   \n",
        "X_test_dummies['Amount_BoxCox'] = power_transformer.transform(X_test_dummies[['Amount']])     \n",
        "X_test_dummies['Amount_Uniform'] = quantile_transformer.transform(X_test_dummies[['Amount']])  \n",
        "X_test_dummies['Amount_Log'] = function_transformer.transform(X_test_dummies[['Amount']])  \n",
        "X_test_dummies_new = selection.transform(X_test_dummies)"
      ]
    },
    {
      "cell_type": "code",
      "execution_count": null,
      "metadata": {
        "colab": {
          "base_uri": "https://localhost:8080/"
        },
        "id": "KDB_wzzveIzz",
        "outputId": "2da64b7b-a0f8-4602-94d4-86a74c2c83f1"
      },
      "outputs": [
        {
          "data": {
            "text/plain": [
              "(1200, 30)"
            ]
          },
          "execution_count": 47,
          "metadata": {
            "tags": []
          },
          "output_type": "execute_result"
        }
      ],
      "source": [
        "X_test_dummies_new.shape"
      ]
    },
    {
      "cell_type": "code",
      "execution_count": null,
      "metadata": {
        "colab": {
          "base_uri": "https://localhost:8080/"
        },
        "id": "8DJXlxpPeMpf",
        "outputId": "30e84452-21f9-4d0b-9d28-74c7b4a92de9"
      },
      "outputs": [
        {
          "name": "stdout",
          "output_type": "stream",
          "text": [
            "              precision    recall  f1-score   support\n",
            "\n",
            "           0       0.89      0.91      0.90       991\n",
            "           1       0.51      0.44      0.48       209\n",
            "\n",
            "    accuracy                           0.83      1200\n",
            "   macro avg       0.70      0.68      0.69      1200\n",
            "weighted avg       0.82      0.83      0.82      1200\n",
            "\n"
          ]
        }
      ],
      "source": [
        "clf.fit(X_train_dummies_new, y_train)\n",
        "y_pred = clf.predict(X_test_dummies_new)\n",
        "print(classification_report(y_test, y_pred))"
      ]
    },
    {
      "cell_type": "markdown",
      "metadata": {
        "id": "bPiErnUaTQSk"
      },

        
