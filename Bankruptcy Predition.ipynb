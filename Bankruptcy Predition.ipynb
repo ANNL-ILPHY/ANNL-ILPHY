{
 "cells": [
  {
   "cell_type": "markdown",
   "id": "8304fb5b",
   "metadata": {},
   "source": [
    "# Setting Environment"
   ]
  },
  {
   "cell_type": "code",
   "execution_count": 1,
   "id": "ef42965d",
   "metadata": {},
   "outputs": [],
   "source": [
    "import numpy as np\n",
    "import pandas as pd\n",
    "import matplotlib.pyplot as plt\n",
    "import seaborn as sns\n",
    "\n",
    "from sklearn.model_selection import train_test_split # train-test split\n",
    "from sklearn.metrics import confusion_matrix, classification_report # classification metrics\n",
    "from imblearn.over_sampling import SMOTE # SMOTE\n",
    "from sklearn.preprocessing import OneHotEncoder, MinMaxScaler, StandardScaler # scaling methods\n",
    "from sklearn.model_selection import GridSearchCV # grid search cross validation\n",
    "from sklearn.model_selection import RandomizedSearchCV # randomized search cross validation\n",
    "from sklearn.impute import SimpleImputer\n",
    "from imblearn.pipeline import Pipeline\n",
    "from sklearn.model_selection import cross_val_score\n",
    "from sklearn import preprocessing\n",
    "\n",
    "from sklearn.linear_model import LogisticRegression\n",
    "from catboost import CatBoostClassifier\n",
    "from sklearn.naive_bayes import GaussianNB\n",
    "from sklearn.ensemble import RandomForestClassifier \n",
    "from sklearn.discriminant_analysis import LinearDiscriminantAnalysis\n",
    "from sklearn.metrics import roc_curve, auc, roc_auc_score, classification_report, confusion_matrix, make_scorer\n",
    "from pandas_profiling import ProfileReport"
   ]
  },
  {
   "cell_type": "markdown",
   "id": "aa7abbe0",
   "metadata": {},
   "source": [
    "# Loading Data"
   ]
  },
  {
   "cell_type": "code",
   "execution_count": 2,
   "id": "48a1c893",
   "metadata": {},
   "outputs": [
    {
     "name": "stdout",
     "output_type": "stream",
     "text": [
      "<class 'pandas.core.frame.DataFrame'>\n",
      "RangeIndex: 92872 entries, 0 to 92871\n",
      "Data columns (total 13 columns):\n",
      " #   Column              Non-Null Count  Dtype  \n",
      "---  ------              --------------  -----  \n",
      " 0   EPS                 92867 non-null  float64\n",
      " 1   Liquidity           92625 non-null  float64\n",
      " 2   Profitability       92625 non-null  float64\n",
      " 3   Productivity        92625 non-null  float64\n",
      " 4   Leverage Ratio      92846 non-null  float64\n",
      " 5   Asset Turnover      92625 non-null  float64\n",
      " 6   Operational Margin  87315 non-null  float64\n",
      " 7   Return on Equity    92864 non-null  float64\n",
      " 8   Market Book Ratio   92815 non-null  float64\n",
      " 9   Assets Growth       86171 non-null  float64\n",
      " 10  Sales Growth        86171 non-null  float64\n",
      " 11  Employee Growth     85862 non-null  float64\n",
      " 12  BK                  92872 non-null  int64  \n",
      "dtypes: float64(12), int64(1)\n",
      "memory usage: 9.2 MB\n"
     ]
    }
   ],
   "source": [
    "df = pd.read_excel(\"/Users/annli/Downloads/Bankruptcy_data_Final.xlsx\")\n",
    "df.info()"
   ]
  },
  {
   "cell_type": "code",
   "execution_count": 3,
   "id": "a8e372f5",
   "metadata": {},
   "outputs": [
    {
     "data": {
      "text/html": [
       "<div>\n",
       "<style scoped>\n",
       "    .dataframe tbody tr th:only-of-type {\n",
       "        vertical-align: middle;\n",
       "    }\n",
       "\n",
       "    .dataframe tbody tr th {\n",
       "        vertical-align: top;\n",
       "    }\n",
       "\n",
       "    .dataframe thead th {\n",
       "        text-align: right;\n",
       "    }\n",
       "</style>\n",
       "<table border=\"1\" class=\"dataframe\">\n",
       "  <thead>\n",
       "    <tr style=\"text-align: right;\">\n",
       "      <th></th>\n",
       "      <th>EPS</th>\n",
       "      <th>Liquidity</th>\n",
       "      <th>Profitability</th>\n",
       "      <th>Productivity</th>\n",
       "      <th>Leverage Ratio</th>\n",
       "      <th>Asset Turnover</th>\n",
       "      <th>Operational Margin</th>\n",
       "      <th>Return on Equity</th>\n",
       "      <th>Market Book Ratio</th>\n",
       "      <th>Assets Growth</th>\n",
       "      <th>Sales Growth</th>\n",
       "      <th>Employee Growth</th>\n",
       "      <th>BK</th>\n",
       "    </tr>\n",
       "  </thead>\n",
       "  <tbody>\n",
       "    <tr>\n",
       "      <th>0</th>\n",
       "      <td>1.58</td>\n",
       "      <td>0.36</td>\n",
       "      <td>0.18</td>\n",
       "      <td>0.13</td>\n",
       "      <td>1.33</td>\n",
       "      <td>1.77</td>\n",
       "      <td>0.07</td>\n",
       "      <td>0.15</td>\n",
       "      <td>2.22</td>\n",
       "      <td>NaN</td>\n",
       "      <td>NaN</td>\n",
       "      <td>NaN</td>\n",
       "      <td>0</td>\n",
       "    </tr>\n",
       "    <tr>\n",
       "      <th>1</th>\n",
       "      <td>1.41</td>\n",
       "      <td>0.36</td>\n",
       "      <td>0.19</td>\n",
       "      <td>0.12</td>\n",
       "      <td>1.31</td>\n",
       "      <td>1.59</td>\n",
       "      <td>0.07</td>\n",
       "      <td>0.13</td>\n",
       "      <td>2.41</td>\n",
       "      <td>0.126319</td>\n",
       "      <td>0.014278</td>\n",
       "      <td>0.040179</td>\n",
       "      <td>0</td>\n",
       "    </tr>\n",
       "    <tr>\n",
       "      <th>2</th>\n",
       "      <td>0.31</td>\n",
       "      <td>0.32</td>\n",
       "      <td>0.13</td>\n",
       "      <td>0.08</td>\n",
       "      <td>1.03</td>\n",
       "      <td>1.55</td>\n",
       "      <td>0.05</td>\n",
       "      <td>0.04</td>\n",
       "      <td>2.56</td>\n",
       "      <td>0.368077</td>\n",
       "      <td>0.327909</td>\n",
       "      <td>0.566524</td>\n",
       "      <td>0</td>\n",
       "    </tr>\n",
       "    <tr>\n",
       "      <th>3</th>\n",
       "      <td>0.71</td>\n",
       "      <td>0.28</td>\n",
       "      <td>0.14</td>\n",
       "      <td>0.08</td>\n",
       "      <td>0.80</td>\n",
       "      <td>1.39</td>\n",
       "      <td>0.06</td>\n",
       "      <td>0.05</td>\n",
       "      <td>5.28</td>\n",
       "      <td>-0.020809</td>\n",
       "      <td>-0.118904</td>\n",
       "      <td>-0.095890</td>\n",
       "      <td>0</td>\n",
       "    </tr>\n",
       "    <tr>\n",
       "      <th>4</th>\n",
       "      <td>0.75</td>\n",
       "      <td>0.41</td>\n",
       "      <td>0.13</td>\n",
       "      <td>0.08</td>\n",
       "      <td>0.20</td>\n",
       "      <td>1.30</td>\n",
       "      <td>0.06</td>\n",
       "      <td>0.04</td>\n",
       "      <td>8.68</td>\n",
       "      <td>0.233089</td>\n",
       "      <td>0.146807</td>\n",
       "      <td>0.053030</td>\n",
       "      <td>0</td>\n",
       "    </tr>\n",
       "  </tbody>\n",
       "</table>\n",
       "</div>"
      ],
      "text/plain": [
       "    EPS  Liquidity  Profitability  Productivity  Leverage Ratio  \\\n",
       "0  1.58       0.36           0.18          0.13            1.33   \n",
       "1  1.41       0.36           0.19          0.12            1.31   \n",
       "2  0.31       0.32           0.13          0.08            1.03   \n",
       "3  0.71       0.28           0.14          0.08            0.80   \n",
       "4  0.75       0.41           0.13          0.08            0.20   \n",
       "\n",
       "   Asset Turnover  Operational Margin  Return on Equity  Market Book Ratio  \\\n",
       "0            1.77                0.07              0.15               2.22   \n",
       "1            1.59                0.07              0.13               2.41   \n",
       "2            1.55                0.05              0.04               2.56   \n",
       "3            1.39                0.06              0.05               5.28   \n",
       "4            1.30                0.06              0.04               8.68   \n",
       "\n",
       "   Assets Growth  Sales Growth  Employee Growth  BK  \n",
       "0            NaN           NaN              NaN   0  \n",
       "1       0.126319      0.014278         0.040179   0  \n",
       "2       0.368077      0.327909         0.566524   0  \n",
       "3      -0.020809     -0.118904        -0.095890   0  \n",
       "4       0.233089      0.146807         0.053030   0  "
      ]
     },
     "execution_count": 3,
     "metadata": {},
     "output_type": "execute_result"
    }
   ],
   "source": [
    "df.head()"
   ]
  },
  {
   "cell_type": "code",
   "execution_count": 4,
   "id": "d00d923e",
   "metadata": {},
   "outputs": [
    {
     "name": "stdout",
     "output_type": "stream",
     "text": [
      "1: 558\n",
      "0: 92314\n"
     ]
    }
   ],
   "source": [
    "# check the column “BK” in the data \n",
    "print('1:', df['BK'][df['BK']==1].count())\n",
    "print('0:', df['BK'][df['BK']==0].count())"
   ]
  },
  {
   "cell_type": "code",
   "execution_count": 5,
   "id": "8d4f3c42",
   "metadata": {},
   "outputs": [
    {
     "data": {
      "text/plain": [
       "<AxesSubplot:title={'center':'Bankruptcy Distribution'}, ylabel='BK'>"
      ]
     },
     "execution_count": 5,
     "metadata": {},
     "output_type": "execute_result"
    },
    {
     "data": {
      "image/png": "[encoded data removed]",
      "text/plain": [
       "<Figure size 432x648 with 1 Axes>"
      ]
     },
     "metadata": {},
     "output_type": "display_data"
    }
   ],
   "source": [
    "#Target Distribution\n",
    "plt.figure(figsize=(6,9))\n",
    "labels = [u'Not Bankruptcy',u'Bankruptcy']\n",
    "colors = ['yellowgreen','lightskyblue']\n",
    "explode = (0.05,0)\n",
    "df['BK'].value_counts().plot.pie(explode=explode,labels=labels,colors=colors,title='Bankruptcy Distribution',\n",
    "                                labeldistance = 1.1,autopct = '%3.1f%%',shadow = True,\n",
    "                                startangle = 90,pctdistance = 0.6)\n"
   ]
  },
  {
   "cell_type": "code",
   "execution_count": 6,
   "id": "303f7b3a",
   "metadata": {},
   "outputs": [
    {
     "data": {
      "text/html": [
       "<div>\n",
       "<style scoped>\n",
       "    .dataframe tbody tr th:only-of-type {\n",
       "        vertical-align: middle;\n",
       "    }\n",
       "\n",
       "    .dataframe tbody tr th {\n",
       "        vertical-align: top;\n",
       "    }\n",
       "\n",
       "    .dataframe thead th {\n",
       "        text-align: right;\n",
       "    }\n",
       "</style>\n",
       "<table border=\"1\" class=\"dataframe\">\n",
       "  <thead>\n",
       "    <tr style=\"text-align: right;\">\n",
       "      <th></th>\n",
       "      <th>count</th>\n",
       "      <th>mean</th>\n",
       "      <th>std</th>\n",
       "      <th>min</th>\n",
       "      <th>25%</th>\n",
       "      <th>50%</th>\n",
       "      <th>75%</th>\n",
       "      <th>max</th>\n",
       "    </tr>\n",
       "  </thead>\n",
       "  <tbody>\n",
       "    <tr>\n",
       "      <th>EPS</th>\n",
       "      <td>92867.0</td>\n",
       "      <td>-14.461355</td>\n",
       "      <td>2195.467288</td>\n",
       "      <td>-3.840000e+05</td>\n",
       "      <td>-0.140000</td>\n",
       "      <td>0.330000</td>\n",
       "      <td>1.530000</td>\n",
       "      <td>55339.00</td>\n",
       "    </tr>\n",
       "    <tr>\n",
       "      <th>Liquidity</th>\n",
       "      <td>92625.0</td>\n",
       "      <td>-2.631237</td>\n",
       "      <td>121.610921</td>\n",
       "      <td>-2.596852e+04</td>\n",
       "      <td>0.020000</td>\n",
       "      <td>0.190000</td>\n",
       "      <td>0.400000</td>\n",
       "      <td>1.00</td>\n",
       "    </tr>\n",
       "    <tr>\n",
       "      <th>Profitability</th>\n",
       "      <td>92625.0</td>\n",
       "      <td>-29.537274</td>\n",
       "      <td>677.230667</td>\n",
       "      <td>-7.968200e+04</td>\n",
       "      <td>-0.640000</td>\n",
       "      <td>0.070000</td>\n",
       "      <td>0.310000</td>\n",
       "      <td>140.58</td>\n",
       "    </tr>\n",
       "    <tr>\n",
       "      <th>Productivity</th>\n",
       "      <td>92625.0</td>\n",
       "      <td>-1.222870</td>\n",
       "      <td>35.885556</td>\n",
       "      <td>-5.093000e+03</td>\n",
       "      <td>-0.060000</td>\n",
       "      <td>0.060000</td>\n",
       "      <td>0.110000</td>\n",
       "      <td>1102.00</td>\n",
       "    </tr>\n",
       "    <tr>\n",
       "      <th>Leverage Ratio</th>\n",
       "      <td>92846.0</td>\n",
       "      <td>1.345316</td>\n",
       "      <td>253.038093</td>\n",
       "      <td>-7.811000e+03</td>\n",
       "      <td>0.000000</td>\n",
       "      <td>0.280000</td>\n",
       "      <td>0.820000</td>\n",
       "      <td>75970.38</td>\n",
       "    </tr>\n",
       "    <tr>\n",
       "      <th>Asset Turnover</th>\n",
       "      <td>92625.0</td>\n",
       "      <td>1.053613</td>\n",
       "      <td>2.115945</td>\n",
       "      <td>-3.159000e+01</td>\n",
       "      <td>0.390000</td>\n",
       "      <td>0.830000</td>\n",
       "      <td>1.390000</td>\n",
       "      <td>276.38</td>\n",
       "    </tr>\n",
       "    <tr>\n",
       "      <th>Operational Margin</th>\n",
       "      <td>87315.0</td>\n",
       "      <td>-7.915485</td>\n",
       "      <td>214.460079</td>\n",
       "      <td>-3.017570e+04</td>\n",
       "      <td>-0.030000</td>\n",
       "      <td>0.060000</td>\n",
       "      <td>0.140000</td>\n",
       "      <td>394.47</td>\n",
       "    </tr>\n",
       "    <tr>\n",
       "      <th>Return on Equity</th>\n",
       "      <td>92864.0</td>\n",
       "      <td>-2.112382</td>\n",
       "      <td>352.596902</td>\n",
       "      <td>-8.887514e+04</td>\n",
       "      <td>-0.080000</td>\n",
       "      <td>0.030000</td>\n",
       "      <td>0.070000</td>\n",
       "      <td>39500.00</td>\n",
       "    </tr>\n",
       "    <tr>\n",
       "      <th>Market Book Ratio</th>\n",
       "      <td>92815.0</td>\n",
       "      <td>358.506265</td>\n",
       "      <td>26063.637981</td>\n",
       "      <td>-3.151500e+06</td>\n",
       "      <td>11.200000</td>\n",
       "      <td>58.280000</td>\n",
       "      <td>240.140000</td>\n",
       "      <td>3455419.33</td>\n",
       "    </tr>\n",
       "    <tr>\n",
       "      <th>Assets Growth</th>\n",
       "      <td>86171.0</td>\n",
       "      <td>1.294075</td>\n",
       "      <td>73.769522</td>\n",
       "      <td>-1.000000e+00</td>\n",
       "      <td>-0.052596</td>\n",
       "      <td>0.051844</td>\n",
       "      <td>0.192062</td>\n",
       "      <td>14231.00</td>\n",
       "    </tr>\n",
       "    <tr>\n",
       "      <th>Sales Growth</th>\n",
       "      <td>86171.0</td>\n",
       "      <td>1.900108</td>\n",
       "      <td>177.632638</td>\n",
       "      <td>-2.743103e+01</td>\n",
       "      <td>-0.033522</td>\n",
       "      <td>0.059733</td>\n",
       "      <td>0.204231</td>\n",
       "      <td>39850.00</td>\n",
       "    </tr>\n",
       "    <tr>\n",
       "      <th>Employee Growth</th>\n",
       "      <td>85862.0</td>\n",
       "      <td>0.343322</td>\n",
       "      <td>14.074156</td>\n",
       "      <td>-1.000000e+00</td>\n",
       "      <td>-0.048107</td>\n",
       "      <td>0.017241</td>\n",
       "      <td>0.130944</td>\n",
       "      <td>2699.00</td>\n",
       "    </tr>\n",
       "    <tr>\n",
       "      <th>BK</th>\n",
       "      <td>92872.0</td>\n",
       "      <td>0.006008</td>\n",
       "      <td>0.077280</td>\n",
       "      <td>0.000000e+00</td>\n",
       "      <td>0.000000</td>\n",
       "      <td>0.000000</td>\n",
       "      <td>0.000000</td>\n",
       "      <td>1.00</td>\n",
       "    </tr>\n",
       "  </tbody>\n",
       "</table>\n",
       "</div>"
      ],
      "text/plain": [
       "                      count        mean           std           min  \\\n",
       "EPS                 92867.0  -14.461355   2195.467288 -3.840000e+05   \n",
       "Liquidity           92625.0   -2.631237    121.610921 -2.596852e+04   \n",
       "Profitability       92625.0  -29.537274    677.230667 -7.968200e+04   \n",
       "Productivity        92625.0   -1.222870     35.885556 -5.093000e+03   \n",
       "Leverage Ratio      92846.0    1.345316    253.038093 -7.811000e+03   \n",
       "Asset Turnover      92625.0    1.053613      2.115945 -3.159000e+01   \n",
       "Operational Margin  87315.0   -7.915485    214.460079 -3.017570e+04   \n",
       "Return on Equity    92864.0   -2.112382    352.596902 -8.887514e+04   \n",
       "Market Book Ratio   92815.0  358.506265  26063.637981 -3.151500e+06   \n",
       "Assets Growth       86171.0    1.294075     73.769522 -1.000000e+00   \n",
       "Sales Growth        86171.0    1.900108    177.632638 -2.743103e+01   \n",
       "Employee Growth     85862.0    0.343322     14.074156 -1.000000e+00   \n",
       "BK                  92872.0    0.006008      0.077280  0.000000e+00   \n",
       "\n",
       "                          25%        50%         75%         max  \n",
       "EPS                 -0.140000   0.330000    1.530000    55339.00  \n",
       "Liquidity            0.020000   0.190000    0.400000        1.00  \n",
       "Profitability       -0.640000   0.070000    0.310000      140.58  \n",
       "Productivity        -0.060000   0.060000    0.110000     1102.00  \n",
       "Leverage Ratio       0.000000   0.280000    0.820000    75970.38  \n",
       "Asset Turnover       0.390000   0.830000    1.390000      276.38  \n",
       "Operational Margin  -0.030000   0.060000    0.140000      394.47  \n",
       "Return on Equity    -0.080000   0.030000    0.070000    39500.00  \n",
       "Market Book Ratio   11.200000  58.280000  240.140000  3455419.33  \n",
       "Assets Growth       -0.052596   0.051844    0.192062    14231.00  \n",
       "Sales Growth        -0.033522   0.059733    0.204231    39850.00  \n",
       "Employee Growth     -0.048107   0.017241    0.130944     2699.00  \n",
       "BK                   0.000000   0.000000    0.000000        1.00  "
      ]
     },
     "metadata": {},
     "output_type": "display_data"
    }
   ],
   "source": [
    "with pd.option_context('display.max_rows', None, 'display.max_columns', None):\n",
    "    display(df.describe().T)"
   ]
  },
  {
   "cell_type": "code",
   "execution_count": 7,
   "id": "47f0666d",
   "metadata": {},
   "outputs": [
    {
     "data": {
      "image/png": "[encoded data removed]",
      "text/plain": [
       "<Figure size 1440x1440 with 2 Axes>"
      ]
     },
     "metadata": {
      "needs_background": "light"
     },
     "output_type": "display_data"
    }
   ],
   "source": [
    "# check correlation between target variable 'BK' and all other features \n",
    "corr = df[:].corr()\n",
    "\n",
    "fig, ax = plt.subplots(figsize=(20,20))\n",
    "sns.heatmap(corr, annot=True)\n",
    "plt.show()\n",
    "\n",
    "# don't see highly correlated pairs overall\n",
    "# Asset Turnover ratio has the highest positive correlation Bankruptcy RELATIVELY\n",
    "# EPS has the lowest negative correlation with Bankruptcy RELATIVELY"
   ]
  },
  {
   "cell_type": "code",
   "execution_count": 8,
   "id": "58995f5c",
   "metadata": {},
   "outputs": [
    {
     "name": "stdout",
     "output_type": "stream",
     "text": [
      "EPS                      5\n",
      "Liquidity              247\n",
      "Profitability          247\n",
      "Productivity           247\n",
      "Leverage Ratio          26\n",
      "Asset Turnover         247\n",
      "Operational Margin    5557\n",
      "Return on Equity         8\n",
      "Market Book Ratio       57\n",
      "Assets Growth         6701\n",
      "Sales Growth          6701\n",
      "Employee Growth       7010\n",
      "BK                       0\n",
      "dtype: int64\n"
     ]
    }
   ],
   "source": [
    "# check the missing data\n",
    "nan_list = df.isnull().sum()\n",
    "print(nan_list)"
   ]
  },
  {
   "cell_type": "code",
   "execution_count": null,
   "id": "77e50d83",
   "metadata": {},
   "outputs": [],
   "source": [
    "#df = df.fillna(0)"
   ]
  },
  {
   "cell_type": "markdown",
   "id": "40d79669",
   "metadata": {},
   "source": [
    "# Spliting Train and Test datasets"
   ]
  },
  {
   "cell_type": "code",
   "execution_count": 9,
   "id": "1be89d66",
   "metadata": {},
   "outputs": [],
   "source": [
    "X = df.drop(columns = ['BK'], axis=1)\n",
    "y = df['BK']\n"
   ]
  },
  {
   "cell_type": "code",
   "execution_count": null,
   "id": "2d4541c3",
   "metadata": {},
   "outputs": [],
   "source": [
    "#standard_scaler = StandardScaler()\n",
    "#numeric_cols = X.columns[X.dtypes !=\"object\"].values\n",
    "#function_transformer = preprocessing.FunctionTransformer()\n",
    "#power_transformer = preprocessing.PowerTransformer()"
   ]
  },
  {
   "cell_type": "code",
   "execution_count": null,
   "id": "c9f71c0a",
   "metadata": {},
   "outputs": [],
   "source": [
    "#X[numeric_cols] = standard_scaler.fit_transform(X[numeric_cols])\n",
    "#X[numeric_cols] = power_transformer.fit_transform(X[numeric_cols])\n",
    "#X[numeric_cols] = function_transformer.fit_transform(X[numeric_cols])"
   ]
  },
  {
   "cell_type": "code",
   "execution_count": 10,
   "id": "efdd70fd",
   "metadata": {},
   "outputs": [],
   "source": [
    "X = df.drop(columns = ['BK'], axis=1)\n",
    "y = df['BK']\n",
    "\n",
    "X_train, X_test, y_train, y_test = train_test_split(X, y, test_size=0.2)"
   ]
  },
  {
   "cell_type": "code",
   "execution_count": 11,
   "id": "c5b692ec",
   "metadata": {},
   "outputs": [
    {
     "name": "stdout",
     "output_type": "stream",
     "text": [
      "['EPS', 'Liquidity', 'Profitability', 'Productivity', 'Leverage Ratio', 'Asset Turnover', 'Operational Margin', 'Return on Equity', 'Market Book Ratio', 'Assets Growth', 'Sales Growth', 'Employee Growth']\n"
     ]
    }
   ],
   "source": [
    "numeric_features = X_train.select_dtypes(include='number').columns.tolist()\n",
    "print(numeric_features)"
   ]
  },
  {
   "cell_type": "code",
   "execution_count": 12,
   "id": "fffacd14",
   "metadata": {},
   "outputs": [],
   "source": [
    "from sklearn.impute import KNNImputer\n",
    "from sklearn.pipeline import Pipeline\n",
    "\n",
    "# build pipeline: replace NAs with KNNImputer\n",
    "# KNNImputer is a data transform that is first configured based on the method used to estimate the missing values, and we use the Euclidean distance meansure\n",
    "numeric_pipeline = Pipeline(steps=[('impute', KNNImputer(n_neighbors=5, weights='uniform', metric='nan_euclidean'))])\n"
   ]
  },
  {
   "cell_type": "code",
   "execution_count": 13,
   "id": "7f86894e",
   "metadata": {},
   "outputs": [
    {
     "data": {
      "text/plain": [
       "array([[ 2.36      ,  0.        ,  0.16      , ...,  0.06472706,\n",
       "        -0.00673241, -0.11599512],\n",
       "       [ 0.89      ,  0.88      , -0.95      , ...,  0.16448988,\n",
       "        -1.        , -0.68617021],\n",
       "       [ 1.73      ,  0.64      ,  0.36      , ...,  0.08672055,\n",
       "        -0.19238616, -0.125     ],\n",
       "       ...,\n",
       "       [ 0.66      ,  0.17      ,  0.34      , ...,  0.35312105,\n",
       "         0.62230187,  0.00972898],\n",
       "       [-0.16      ,  0.17      , -0.4       , ...,  0.04209255,\n",
       "        -0.00724795,  0.04255319],\n",
       "       [-2.95      ,  0.89      , -2.84      , ..., -0.38462866,\n",
       "         0.80966325, -0.61870504]])"
      ]
     },
     "execution_count": 13,
     "metadata": {},
     "output_type": "execute_result"
    }
   ],
   "source": [
    "# fit X_train data\n",
    "numeric_pipeline.fit_transform(X_train)"
   ]
  },
  {
   "cell_type": "code",
   "execution_count": 14,
   "id": "58729fb1",
   "metadata": {},
   "outputs": [],
   "source": [
    "from sklearn.compose import ColumnTransformer\n",
    "data_pipeline = ColumnTransformer(transformers=[('numeric', numeric_pipeline, numeric_features)])"
   ]
  },
  {
   "cell_type": "code",
   "execution_count": 15,
   "id": "00afdd1e",
   "metadata": {},
   "outputs": [
    {
     "data": {
      "text/plain": [
       "array([[ 2.36      ,  0.        ,  0.16      , ...,  0.06472706,\n",
       "        -0.00673241, -0.11599512],\n",
       "       [ 0.89      ,  0.88      , -0.95      , ...,  0.16448988,\n",
       "        -1.        , -0.68617021],\n",
       "       [ 1.73      ,  0.64      ,  0.36      , ...,  0.08672055,\n",
       "        -0.19238616, -0.125     ],\n",
       "       ...,\n",
       "       [ 0.66      ,  0.17      ,  0.34      , ...,  0.35312105,\n",
       "         0.62230187,  0.00972898],\n",
       "       [-0.16      ,  0.17      , -0.4       , ...,  0.04209255,\n",
       "        -0.00724795,  0.04255319],\n",
       "       [-2.95      ,  0.89      , -2.84      , ..., -0.38462866,\n",
       "         0.80966325, -0.61870504]])"
      ]
     },
     "execution_count": 15,
     "metadata": {},
     "output_type": "execute_result"
    }
   ],
   "source": [
    "# fit entire data pipeline\n",
    "data_pipeline.fit_transform(X_train)"
   ]
  },
  {
   "cell_type": "code",
   "execution_count": 16,
   "id": "8dab2c7b",
   "metadata": {},
   "outputs": [],
   "source": [
    "# use pipeline to transform X_train and X_test\n",
    "X_train_transformed = data_pipeline.transform(X_train)\n",
    "X_test_transformed = data_pipeline.transform(X_test)"
   ]
  },
  {
   "cell_type": "markdown",
   "id": "ada88668",
   "metadata": {},
   "source": [
    "# Data processing"
   ]
  },
  {
   "cell_type": "code",
   "execution_count": 17,
   "id": "740960af",
   "metadata": {},
   "outputs": [
    {
     "name": "stdout",
     "output_type": "stream",
     "text": [
      "Counter({0: 92314, 1: 558})\n"
     ]
    }
   ],
   "source": [
    "from collections import Counter\n",
    "# the ratio of 1 and 0 shown this is a imbalanced dataset\n",
    "print(Counter(y))"
   ]
  },
  {
   "cell_type": "code",
   "execution_count": 19,
   "id": "179fa4b1",
   "metadata": {},
   "outputs": [],
   "source": [
    "from imblearn.over_sampling import SMOTE\n",
    "# Define SMOTE model with random state\n",
    "smo = SMOTE(random_state=42)\n",
    "X_smo, y_smo = smo.fit_sample(X_train_transformed, y_train.ravel())"
   ]
  },
  {
   "cell_type": "code",
   "execution_count": 20,
   "id": "98ba8b31",
   "metadata": {},
   "outputs": [
    {
     "name": "stdout",
     "output_type": "stream",
     "text": [
      "Counter({0: 73854, 1: 73854})\n"
     ]
    }
   ],
   "source": [
    "print(Counter(y_smo))"
   ]
  },
  {
   "cell_type": "code",
   "execution_count": 22,
   "id": "7063d037",
   "metadata": {},
   "outputs": [
    {
     "data": {
      "text/plain": [
       "<AxesSubplot:title={'center':'After SMOTE'}, ylabel='None'>"
      ]
     },
     "execution_count": 22,
     "metadata": {},
     "output_type": "execute_result"
    },
    {
     "data": {
      "image/png": "[encoded data removed]",
      "text/plain": [
       "<Figure size 432x648 with 1 Axes>"
      ]
     },
     "metadata": {},
     "output_type": "display_data"
    }
   ],
   "source": [
    "plt.figure(figsize=(6,9))\n",
    "labels = [u'Not Bankruptcy',u'Bankruptcy']\n",
    "colors = ['purple','red']\n",
    "explode = (0.05,0)\n",
    "pd.Series(y_smo).value_counts().plot.pie(explode=explode,labels=labels,colors=colors,title = 'After SMOTE',\n",
    "                                labeldistance = 1.1,autopct = '%3.1f%%',shadow = True,\n",
    "                                startangle = 90,pctdistance = 0.6)"
   ]
  },
  {
   "cell_type": "code",
   "execution_count": 23,
   "id": "bf67d972",
   "metadata": {},
   "outputs": [
    {
     "name": "stdout",
     "output_type": "stream",
     "text": [
      "0.000000 0.000000 1.900000\n",
      "0.333333 0.000000 0.900000\n",
      "0.333333 0.666667 0.600000\n",
      "0.666667 0.666667 0.500000\n",
      "0.666667 1.000000 0.400000\n",
      "1.000000 1.000000 0.300000\n"
     ]
    },
    {
     "data": {
      "image/png": "[encoded data removed]",
      "text/plain": [
       "<Figure size 432x288 with 1 Axes>"
      ]
     },
     "metadata": {
      "needs_background": "light"
     },
     "output_type": "display_data"
    }
   ],
   "source": [
    "#ROC curve\n",
    "from sklearn.metrics import roc_curve, auc\n",
    "import matplotlib.pyplot as plt\n",
    " \n",
    "y_label = ([1, 1, 1, 2, 2, 2])  \n",
    "y_pre = ([0.3, 0.5, 0.9, 0.8, 0.4, 0.6])\n",
    "fpr, tpr, thersholds = roc_curve(y_label, y_pre, pos_label=2)\n",
    " \n",
    "for i, value in enumerate(thersholds):\n",
    "    print(\"%f %f %f\" % (fpr[i], tpr[i], value))\n",
    " \n",
    "roc_auc = auc(fpr, tpr)\n",
    " \n",
    "plt.plot(fpr, tpr, 'k--', label='ROC (area = {0:.2f})'.format(roc_auc), lw=2)\n",
    " \n",
    "plt.xlim([-0.05, 1.05])  \n",
    "plt.ylim([-0.05, 1.05])\n",
    "plt.xlabel('False Positive Rate')\n",
    "plt.ylabel('True Positive Rate') \n",
    "plt.title('ROC Curve')\n",
    "plt.legend(loc=\"lower right\")\n",
    "plt.show()\n",
    "\n",
    "#Confusion Matrix returns in the format: cm[0,0], cm[0,1], cm[1,0], cm[1,1]: tn, fp, fn, tp\n",
    "\n",
    "# Sensitivity\n",
    "def custom_sensitivity_score(y_test, y_pred):\n",
    "    cm = confusion_matrix(y_test, y_pred)\n",
    "    tn, fp, fn, tp = cm[0][0], cm[0][1], cm[1][0], cm[1][1]\n",
    "    return (tp/(tp+fn))\n",
    "\n",
    "# Specificity\n",
    "def custom_specificity_score(y_test, y_pred):\n",
    "    cm = confusion_matrix(y_test, y_pred)\n",
    "    tn, fp, fn, tp = cm[0][0], cm[0][1], cm[1][0], cm[1][1]\n",
    "    return (tn/(tn+fp))\n",
    "\n",
    "# Positive Predictive Value\n",
    "def custom_ppv_score(y_test, y_pred):\n",
    "    cm = confusion_matrix(y_test, y_pred)\n",
    "    tn, fp, fn, tp = cm[0][0], cm[0][1], cm[1][0], cm[1][1]\n",
    "    return (tp/(tp+fp))\n",
    "\n",
    "# Negative Predictive Value\n",
    "def custom_npv_score(y_test, y_pred):\n",
    "    cm = confusion_matrix(y_test, y_pred)\n",
    "    tn, fp, fn, tp = cm[0][0], cm[0][1], cm[1][0], cm[1][1]\n",
    "    return (tn/(tn+fn))\n",
    "\n",
    "# Accuracy\n",
    "def custom_accuracy_score(y_test, y_pred):\n",
    "    cm = confusion_matrix(y_test, y_pred)\n",
    "    tn, fp, fn, tp = cm[0][0], cm[0][1], cm[1][0], cm[1][1]\n",
    "    return ((tn+tp)/(tn+tp+fn+fp))\n",
    "\n"
   ]
  },
  {
   "cell_type": "markdown",
   "id": "56b51184",
   "metadata": {},
   "source": [
    "# Logistic Regression with tuning"
   ]
  },
  {
   "cell_type": "code",
   "execution_count": 24,
   "id": "11e7c39b",
   "metadata": {},
   "outputs": [],
   "source": [
    "from sklearn import linear_model, decomposition, datasets\n",
    "logistic = linear_model.LogisticRegression()\n",
    "logistic_param_grid = {\"penalty\": ['l1', 'l2'],\n",
    "                 'max_iter': [100,200,300],\n",
    "                 \"C\": [0.01, 0.1, 1, 10, 100],\n",
    "                 \"solver\": ['liblinear'],\n",
    "                 \"verbose\":[1],\n",
    "                 \"max_iter\": [100, 500, 1000, 1500]}\n",
    "logistic_gs = GridSearchCV(logistic, param_grid = logistic_param_grid, scoring = \"roc_auc\", n_jobs = 5,cv = 5)"
   ]
  },
  {
   "cell_type": "code",
   "execution_count": 25,
   "id": "5787145c",
   "metadata": {},
   "outputs": [
    {
     "name": "stdout",
     "output_type": "stream",
     "text": [
      "[LibLinear]"
     ]
    },
    {
     "data": {
      "text/plain": [
       "GridSearchCV(cv=5, estimator=LogisticRegression(), n_jobs=5,\n",
       "             param_grid={'C': [0.01, 0.1, 1, 10, 100],\n",
       "                         'max_iter': [100, 500, 1000, 1500],\n",
       "                         'penalty': ['l1', 'l2'], 'solver': ['liblinear'],\n",
       "                         'verbose': [1]},\n",
       "             scoring='roc_auc')"
      ]
     },
     "execution_count": 25,
     "metadata": {},
     "output_type": "execute_result"
    }
   ],
   "source": [
    "logistic_gs.fit(X_smo,y_smo)"
   ]
  },
  {
   "cell_type": "code",
   "execution_count": 26,
   "id": "833ce5e3",
   "metadata": {},
   "outputs": [
    {
     "name": "stdout",
     "output_type": "stream",
     "text": [
      "Best Estimator: LogisticRegression(C=0.01, max_iter=500, solver='liblinear', verbose=1)\n",
      "Best Parameters: {'C': 0.01, 'max_iter': 500, 'penalty': 'l2', 'solver': 'liblinear', 'verbose': 1}\n",
      "\n",
      "\n",
      "Best Score: 0.6928112450050347 \n",
      "\n"
     ]
    }
   ],
   "source": [
    "best_grid_logistic = logistic_gs.best_estimator_\n",
    "best_grid_logistic\n",
    "print('Best Estimator:', best_grid_logistic)\n",
    "print('Best Parameters:',logistic_gs.best_params_)\n",
    "print('\\n\\nBest Score:', logistic_gs.best_score_,'\\n')"
   ]
  },
  {
   "cell_type": "code",
   "execution_count": 72,
   "id": "bf3646cc",
   "metadata": {
    "scrolled": false
   },
   "outputs": [
    {
     "name": "stdout",
     "output_type": "stream",
     "text": [
      "              precision    recall  f1-score   support\n",
      "\n",
      "           0       1.00      0.69      0.82     18460\n",
      "           1       0.01      0.53      0.02       115\n",
      "\n",
      "    accuracy                           0.69     18575\n",
      "   macro avg       0.50      0.61      0.42     18575\n",
      "weighted avg       0.99      0.69      0.81     18575\n",
      "\n",
      "auc score:0.6295190541240755\n"
     ]
    }
   ],
   "source": [
    "#Predict\n",
    "\n",
    "y_pred = logistic_gs.predict(X_test_transformed)\n",
    "y_probs = logistic_gs.predict_proba(X_test_transformed)\n",
    "y_probs = y_probs[:, 1]\n",
    "\n",
    "print(classification_report(y_test, y_pred))\n",
    "print(f'auc score:{ roc_auc_score(y_test, y_probs)}')"
   ]
  },
  {
   "cell_type": "code",
   "execution_count": 73,
   "id": "916ec495",
   "metadata": {},
   "outputs": [
    {
     "name": "stdout",
     "output_type": "stream",
     "text": [
      "                                   Accuracy: 0.6922207267833109\n",
      "                   SENSITIVITY (aka RECALL): 0.5304347826086957\n",
      "                 SPECIFICITY (aka FALL-OUT): 0.693228602383532\n",
      " POSITIVE PREDICTIVE VALUE, (aka PRECISION): 0.010656883298392733\n",
      "                 NEGATIVE PREDICTIVE VALUE): 0.9957979923741344\n"
     ]
    },
    {
     "data": {
      "image/png": "[encoded data removed]",
      "text/plain": [
       "<Figure size 432x288 with 2 Axes>"
      ]
     },
     "metadata": {
      "needs_background": "light"
     },
     "output_type": "display_data"
    }
   ],
   "source": [
    "ax = plt.subplot()\n",
    "sns.heatmap(confusion_matrix(y_test, y_pred), annot=True, fmt='g', ax=ax)\n",
    "\n",
    "ax.set_xlabel('Predicted label');ax.set_ylabel('True label');\n",
    "ax.set_title('Confusion Matrix');\n",
    "ax.xaxis.set_ticklabels(['No_Bankruptcy', 'Bankruptcy']); \n",
    "ax.yaxis.set_ticklabels(['No_Bankruptcy', 'Bankruptcy'])\n",
    "\n",
    "print(\"                                   Accuracy: \" + str(custom_accuracy_score(y_test, y_pred))) \n",
    "print(\"                   SENSITIVITY (aka RECALL): \" + str(custom_sensitivity_score(y_test, y_pred)))\n",
    "print(\"                 SPECIFICITY (aka FALL-OUT): \" + str(custom_specificity_score(y_test, y_pred)))\n",
    "print(\" POSITIVE PREDICTIVE VALUE, (aka PRECISION): \" + str(custom_ppv_score(y_test, y_pred)))\n",
    "print(\"                 NEGATIVE PREDICTIVE VALUE): \" + str(custom_npv_score(y_test, y_pred)))"
   ]
  },
  {
   "cell_type": "markdown",
   "id": "14f9f4e6",
   "metadata": {},
   "source": [
    "# Random Forest with tuning"
   ]
  },
  {
   "cell_type": "code",
   "execution_count": 35,
   "id": "094074b5",
   "metadata": {},
   "outputs": [],
   "source": [
    "rf = RandomForestClassifier()\n",
    "rf_param_grid = {'max_depth':np.arange(1, 20, 1)}\n",
    "rf_gs = GridSearchCV(rf, param_grid = rf_param_grid, scoring = \"roc_auc\",cv = 5)"
   ]
  },
  {
   "cell_type": "code",
   "execution_count": 32,
   "id": "1cf4e7cd",
   "metadata": {},
   "outputs": [
    {
     "data": {
      "text/plain": [
       "({'mean_fit_time': array([ 1.83804035,  3.60784407,  5.33175788,  7.16855054,  8.92809405,\n",
       "         10.67024484]),\n",
       "  'std_fit_time': array([0.06346324, 0.04673401, 0.03929984, 0.07097272, 0.06864486,\n",
       "         0.10970716]),\n",
       "  'mean_score_time': array([0.02989326, 0.0420146 , 0.05750837, 0.07389297, 0.08911581,\n",
       "         0.10467858]),\n",
       "  'std_score_time': array([0.00737116, 0.00063031, 0.00024961, 0.00045271, 0.00091299,\n",
       "         0.00015441]),\n",
       "  'param_n_estimators': masked_array(data=[10, 20, 30, 40, 50, 60],\n",
       "               mask=[False, False, False, False, False, False],\n",
       "         fill_value='?',\n",
       "              dtype=object),\n",
       "  'params': [{'n_estimators': 10},\n",
       "   {'n_estimators': 20},\n",
       "   {'n_estimators': 30},\n",
       "   {'n_estimators': 40},\n",
       "   {'n_estimators': 50},\n",
       "   {'n_estimators': 60}],\n",
       "  'split0_test_score': array([0.97137962, 0.97242885, 0.97333124, 0.97350276, 0.973806  ,\n",
       "         0.97402005]),\n",
       "  'split1_test_score': array([0.97305908, 0.97402628, 0.97407801, 0.97485227, 0.9755327 ,\n",
       "         0.97544951]),\n",
       "  'split2_test_score': array([0.97247565, 0.97283389, 0.97313149, 0.97384726, 0.97399554,\n",
       "         0.97398158]),\n",
       "  'split3_test_score': array([0.97304617, 0.97300961, 0.97326596, 0.97391789, 0.97409574,\n",
       "         0.9742548 ]),\n",
       "  'split4_test_score': array([0.97307495, 0.9734777 , 0.97369107, 0.97407745, 0.97442014,\n",
       "         0.97462035]),\n",
       "  'mean_test_score': array([0.97260709, 0.97315527, 0.97349955, 0.97403952, 0.97437003,\n",
       "         0.97446526]),\n",
       "  'std_test_score': array([0.00065421, 0.00055042, 0.00034341, 0.00044763, 0.00061448,\n",
       "         0.00054208]),\n",
       "  'rank_test_score': array([6, 5, 4, 3, 2, 1], dtype=int32)},\n",
       " {'n_estimators': 60},\n",
       " 0.9744652571146183)"
      ]
     },
     "execution_count": 32,
     "metadata": {},
     "output_type": "execute_result"
    }
   ],
   "source": [
    "param_test1= {'n_estimators':range(10,70,10)}  \n",
    "gsearch1= GridSearchCV(estimator = RandomForestClassifier(min_samples_split=100,  \n",
    "                                 min_samples_leaf=20,max_depth=8,max_features='sqrt' ,random_state=10),  \n",
    "                       param_grid =param_test1, scoring='roc_auc',cv=5)  \n",
    "gsearch1.fit(X_smo,y_smo)  \n",
    "gsearch1.cv_results_,gsearch1.best_params_, gsearch1.best_score_\n",
    "\n"
   ]
  },
  {
   "cell_type": "code",
   "execution_count": 41,
   "id": "fc83ce5f",
   "metadata": {},
   "outputs": [
    {
     "ename": "KeyboardInterrupt",
     "evalue": "",
     "output_type": "error",
     "traceback": [
      "\u001b[0;31m---------------------------------------------------------------------------\u001b[0m",
      "\u001b[0;31mKeyboardInterrupt\u001b[0m                         Traceback (most recent call last)",
      "\u001b[0;32m<ipython-input-41-5c85d81ba8f0>\u001b[0m in \u001b[0;36m<module>\u001b[0;34m\u001b[0m\n\u001b[1;32m      3\u001b[0m                                  min_samples_leaf=20,max_features='sqrt' ,oob_score=True,random_state=10),  \n\u001b[1;32m      4\u001b[0m    param_grid = param_test2,scoring='roc_auc',iid=False, cv=5)  \n\u001b[0;32m----> 5\u001b[0;31m \u001b[0mgsearch2\u001b[0m\u001b[0;34m.\u001b[0m\u001b[0mfit\u001b[0m\u001b[0;34m(\u001b[0m\u001b[0mX_smo\u001b[0m\u001b[0;34m,\u001b[0m\u001b[0my_smo\u001b[0m\u001b[0;34m)\u001b[0m\u001b[0;34m\u001b[0m\u001b[0;34m\u001b[0m\u001b[0m\n\u001b[0m\u001b[1;32m      6\u001b[0m \u001b[0mgsearch2\u001b[0m\u001b[0;34m.\u001b[0m\u001b[0mcv_results_\u001b[0m\u001b[0;34m,\u001b[0m\u001b[0mgsearch2\u001b[0m\u001b[0;34m.\u001b[0m\u001b[0mbest_params_\u001b[0m\u001b[0;34m,\u001b[0m \u001b[0mgsearch2\u001b[0m\u001b[0;34m.\u001b[0m\u001b[0mbest_score_\u001b[0m\u001b[0;34m\u001b[0m\u001b[0;34m\u001b[0m\u001b[0m\n\u001b[1;32m      7\u001b[0m \u001b[0;34m\u001b[0m\u001b[0m\n",
      "\u001b[0;32m/opt/anaconda3/lib/python3.8/site-packages/sklearn/utils/validation.py\u001b[0m in \u001b[0;36minner_f\u001b[0;34m(*args, **kwargs)\u001b[0m\n\u001b[1;32m     70\u001b[0m                           FutureWarning)\n\u001b[1;32m     71\u001b[0m         \u001b[0mkwargs\u001b[0m\u001b[0;34m.\u001b[0m\u001b[0mupdate\u001b[0m\u001b[0;34m(\u001b[0m\u001b[0;34m{\u001b[0m\u001b[0mk\u001b[0m\u001b[0;34m:\u001b[0m \u001b[0marg\u001b[0m \u001b[0;32mfor\u001b[0m \u001b[0mk\u001b[0m\u001b[0;34m,\u001b[0m \u001b[0marg\u001b[0m \u001b[0;32min\u001b[0m \u001b[0mzip\u001b[0m\u001b[0;34m(\u001b[0m\u001b[0msig\u001b[0m\u001b[0;34m.\u001b[0m\u001b[0mparameters\u001b[0m\u001b[0;34m,\u001b[0m \u001b[0margs\u001b[0m\u001b[0;34m)\u001b[0m\u001b[0;34m}\u001b[0m\u001b[0;34m)\u001b[0m\u001b[0;34m\u001b[0m\u001b[0;34m\u001b[0m\u001b[0m\n\u001b[0;32m---> 72\u001b[0;31m         \u001b[0;32mreturn\u001b[0m \u001b[0mf\u001b[0m\u001b[0;34m(\u001b[0m\u001b[0;34m**\u001b[0m\u001b[0mkwargs\u001b[0m\u001b[0;34m)\u001b[0m\u001b[0;34m\u001b[0m\u001b[0;34m\u001b[0m\u001b[0m\n\u001b[0m\u001b[1;32m     73\u001b[0m     \u001b[0;32mreturn\u001b[0m \u001b[0minner_f\u001b[0m\u001b[0;34m\u001b[0m\u001b[0;34m\u001b[0m\u001b[0m\n\u001b[1;32m     74\u001b[0m \u001b[0;34m\u001b[0m\u001b[0m\n",
      "\u001b[0;32m/opt/anaconda3/lib/python3.8/site-packages/sklearn/model_selection/_search.py\u001b[0m in \u001b[0;36mfit\u001b[0;34m(self, X, y, groups, **fit_params)\u001b[0m\n\u001b[1;32m    734\u001b[0m                 \u001b[0;32mreturn\u001b[0m \u001b[0mresults\u001b[0m\u001b[0;34m\u001b[0m\u001b[0;34m\u001b[0m\u001b[0m\n\u001b[1;32m    735\u001b[0m \u001b[0;34m\u001b[0m\u001b[0m\n\u001b[0;32m--> 736\u001b[0;31m             \u001b[0mself\u001b[0m\u001b[0;34m.\u001b[0m\u001b[0m_run_search\u001b[0m\u001b[0;34m(\u001b[0m\u001b[0mevaluate_candidates\u001b[0m\u001b[0;34m)\u001b[0m\u001b[0;34m\u001b[0m\u001b[0;34m\u001b[0m\u001b[0m\n\u001b[0m\u001b[1;32m    737\u001b[0m \u001b[0;34m\u001b[0m\u001b[0m\n\u001b[1;32m    738\u001b[0m         \u001b[0;31m# For multi-metric evaluation, store the best_index_, best_params_ and\u001b[0m\u001b[0;34m\u001b[0m\u001b[0;34m\u001b[0m\u001b[0;34m\u001b[0m\u001b[0m\n",
      "\u001b[0;32m/opt/anaconda3/lib/python3.8/site-packages/sklearn/model_selection/_search.py\u001b[0m in \u001b[0;36m_run_search\u001b[0;34m(self, evaluate_candidates)\u001b[0m\n\u001b[1;32m   1186\u001b[0m     \u001b[0;32mdef\u001b[0m \u001b[0m_run_search\u001b[0m\u001b[0;34m(\u001b[0m\u001b[0mself\u001b[0m\u001b[0;34m,\u001b[0m \u001b[0mevaluate_candidates\u001b[0m\u001b[0;34m)\u001b[0m\u001b[0;34m:\u001b[0m\u001b[0;34m\u001b[0m\u001b[0;34m\u001b[0m\u001b[0m\n\u001b[1;32m   1187\u001b[0m         \u001b[0;34m\"\"\"Search all candidates in param_grid\"\"\"\u001b[0m\u001b[0;34m\u001b[0m\u001b[0;34m\u001b[0m\u001b[0m\n\u001b[0;32m-> 1188\u001b[0;31m         \u001b[0mevaluate_candidates\u001b[0m\u001b[0;34m(\u001b[0m\u001b[0mParameterGrid\u001b[0m\u001b[0;34m(\u001b[0m\u001b[0mself\u001b[0m\u001b[0;34m.\u001b[0m\u001b[0mparam_grid\u001b[0m\u001b[0;34m)\u001b[0m\u001b[0;34m)\u001b[0m\u001b[0;34m\u001b[0m\u001b[0;34m\u001b[0m\u001b[0m\n\u001b[0m\u001b[1;32m   1189\u001b[0m \u001b[0;34m\u001b[0m\u001b[0m\n\u001b[1;32m   1190\u001b[0m \u001b[0;34m\u001b[0m\u001b[0m\n",
      "\u001b[0;32m/opt/anaconda3/lib/python3.8/site-packages/sklearn/model_selection/_search.py\u001b[0m in \u001b[0;36mevaluate_candidates\u001b[0;34m(candidate_params)\u001b[0m\n\u001b[1;32m    706\u001b[0m                               n_splits, n_candidates, n_candidates * n_splits))\n\u001b[1;32m    707\u001b[0m \u001b[0;34m\u001b[0m\u001b[0m\n\u001b[0;32m--> 708\u001b[0;31m                 out = parallel(delayed(_fit_and_score)(clone(base_estimator),\n\u001b[0m\u001b[1;32m    709\u001b[0m                                                        \u001b[0mX\u001b[0m\u001b[0;34m,\u001b[0m \u001b[0my\u001b[0m\u001b[0;34m,\u001b[0m\u001b[0;34m\u001b[0m\u001b[0;34m\u001b[0m\u001b[0m\n\u001b[1;32m    710\u001b[0m                                                        \u001b[0mtrain\u001b[0m\u001b[0;34m=\u001b[0m\u001b[0mtrain\u001b[0m\u001b[0;34m,\u001b[0m \u001b[0mtest\u001b[0m\u001b[0;34m=\u001b[0m\u001b[0mtest\u001b[0m\u001b[0;34m,\u001b[0m\u001b[0;34m\u001b[0m\u001b[0;34m\u001b[0m\u001b[0m\n",
      "\u001b[0;32m/opt/anaconda3/lib/python3.8/site-packages/joblib/parallel.py\u001b[0m in \u001b[0;36m__call__\u001b[0;34m(self, iterable)\u001b[0m\n\u001b[1;32m   1042\u001b[0m                 \u001b[0mself\u001b[0m\u001b[0;34m.\u001b[0m\u001b[0m_iterating\u001b[0m \u001b[0;34m=\u001b[0m \u001b[0mself\u001b[0m\u001b[0;34m.\u001b[0m\u001b[0m_original_iterator\u001b[0m \u001b[0;32mis\u001b[0m \u001b[0;32mnot\u001b[0m \u001b[0;32mNone\u001b[0m\u001b[0;34m\u001b[0m\u001b[0;34m\u001b[0m\u001b[0m\n\u001b[1;32m   1043\u001b[0m \u001b[0;34m\u001b[0m\u001b[0m\n\u001b[0;32m-> 1044\u001b[0;31m             \u001b[0;32mwhile\u001b[0m \u001b[0mself\u001b[0m\u001b[0;34m.\u001b[0m\u001b[0mdispatch_one_batch\u001b[0m\u001b[0;34m(\u001b[0m\u001b[0miterator\u001b[0m\u001b[0;34m)\u001b[0m\u001b[0;34m:\u001b[0m\u001b[0;34m\u001b[0m\u001b[0;34m\u001b[0m\u001b[0m\n\u001b[0m\u001b[1;32m   1045\u001b[0m                 \u001b[0;32mpass\u001b[0m\u001b[0;34m\u001b[0m\u001b[0;34m\u001b[0m\u001b[0m\n\u001b[1;32m   1046\u001b[0m \u001b[0;34m\u001b[0m\u001b[0m\n",
      "\u001b[0;32m/opt/anaconda3/lib/python3.8/site-packages/joblib/parallel.py\u001b[0m in \u001b[0;36mdispatch_one_batch\u001b[0;34m(self, iterator)\u001b[0m\n\u001b[1;32m    857\u001b[0m                 \u001b[0;32mreturn\u001b[0m \u001b[0;32mFalse\u001b[0m\u001b[0;34m\u001b[0m\u001b[0;34m\u001b[0m\u001b[0m\n\u001b[1;32m    858\u001b[0m             \u001b[0;32melse\u001b[0m\u001b[0;34m:\u001b[0m\u001b[0;34m\u001b[0m\u001b[0;34m\u001b[0m\u001b[0m\n\u001b[0;32m--> 859\u001b[0;31m                 \u001b[0mself\u001b[0m\u001b[0;34m.\u001b[0m\u001b[0m_dispatch\u001b[0m\u001b[0;34m(\u001b[0m\u001b[0mtasks\u001b[0m\u001b[0;34m)\u001b[0m\u001b[0;34m\u001b[0m\u001b[0;34m\u001b[0m\u001b[0m\n\u001b[0m\u001b[1;32m    860\u001b[0m                 \u001b[0;32mreturn\u001b[0m \u001b[0;32mTrue\u001b[0m\u001b[0;34m\u001b[0m\u001b[0;34m\u001b[0m\u001b[0m\n\u001b[1;32m    861\u001b[0m \u001b[0;34m\u001b[0m\u001b[0m\n",
      "\u001b[0;32m/opt/anaconda3/lib/python3.8/site-packages/joblib/parallel.py\u001b[0m in \u001b[0;36m_dispatch\u001b[0;34m(self, batch)\u001b[0m\n\u001b[1;32m    775\u001b[0m         \u001b[0;32mwith\u001b[0m \u001b[0mself\u001b[0m\u001b[0;34m.\u001b[0m\u001b[0m_lock\u001b[0m\u001b[0;34m:\u001b[0m\u001b[0;34m\u001b[0m\u001b[0;34m\u001b[0m\u001b[0m\n\u001b[1;32m    776\u001b[0m             \u001b[0mjob_idx\u001b[0m \u001b[0;34m=\u001b[0m \u001b[0mlen\u001b[0m\u001b[0;34m(\u001b[0m\u001b[0mself\u001b[0m\u001b[0;34m.\u001b[0m\u001b[0m_jobs\u001b[0m\u001b[0;34m)\u001b[0m\u001b[0;34m\u001b[0m\u001b[0;34m\u001b[0m\u001b[0m\n\u001b[0;32m--> 777\u001b[0;31m             \u001b[0mjob\u001b[0m \u001b[0;34m=\u001b[0m \u001b[0mself\u001b[0m\u001b[0;34m.\u001b[0m\u001b[0m_backend\u001b[0m\u001b[0;34m.\u001b[0m\u001b[0mapply_async\u001b[0m\u001b[0;34m(\u001b[0m\u001b[0mbatch\u001b[0m\u001b[0;34m,\u001b[0m \u001b[0mcallback\u001b[0m\u001b[0;34m=\u001b[0m\u001b[0mcb\u001b[0m\u001b[0;34m)\u001b[0m\u001b[0;34m\u001b[0m\u001b[0;34m\u001b[0m\u001b[0m\n\u001b[0m\u001b[1;32m    778\u001b[0m             \u001b[0;31m# A job can complete so quickly than its callback is\u001b[0m\u001b[0;34m\u001b[0m\u001b[0;34m\u001b[0m\u001b[0;34m\u001b[0m\u001b[0m\n\u001b[1;32m    779\u001b[0m             \u001b[0;31m# called before we get here, causing self._jobs to\u001b[0m\u001b[0;34m\u001b[0m\u001b[0;34m\u001b[0m\u001b[0;34m\u001b[0m\u001b[0m\n",
      "\u001b[0;32m/opt/anaconda3/lib/python3.8/site-packages/joblib/_parallel_backends.py\u001b[0m in \u001b[0;36mapply_async\u001b[0;34m(self, func, callback)\u001b[0m\n\u001b[1;32m    206\u001b[0m     \u001b[0;32mdef\u001b[0m \u001b[0mapply_async\u001b[0m\u001b[0;34m(\u001b[0m\u001b[0mself\u001b[0m\u001b[0;34m,\u001b[0m \u001b[0mfunc\u001b[0m\u001b[0;34m,\u001b[0m \u001b[0mcallback\u001b[0m\u001b[0;34m=\u001b[0m\u001b[0;32mNone\u001b[0m\u001b[0;34m)\u001b[0m\u001b[0;34m:\u001b[0m\u001b[0;34m\u001b[0m\u001b[0;34m\u001b[0m\u001b[0m\n\u001b[1;32m    207\u001b[0m         \u001b[0;34m\"\"\"Schedule a func to be run\"\"\"\u001b[0m\u001b[0;34m\u001b[0m\u001b[0;34m\u001b[0m\u001b[0m\n\u001b[0;32m--> 208\u001b[0;31m         \u001b[0mresult\u001b[0m \u001b[0;34m=\u001b[0m \u001b[0mImmediateResult\u001b[0m\u001b[0;34m(\u001b[0m\u001b[0mfunc\u001b[0m\u001b[0;34m)\u001b[0m\u001b[0;34m\u001b[0m\u001b[0;34m\u001b[0m\u001b[0m\n\u001b[0m\u001b[1;32m    209\u001b[0m         \u001b[0;32mif\u001b[0m \u001b[0mcallback\u001b[0m\u001b[0;34m:\u001b[0m\u001b[0;34m\u001b[0m\u001b[0;34m\u001b[0m\u001b[0m\n\u001b[1;32m    210\u001b[0m             \u001b[0mcallback\u001b[0m\u001b[0;34m(\u001b[0m\u001b[0mresult\u001b[0m\u001b[0;34m)\u001b[0m\u001b[0;34m\u001b[0m\u001b[0;34m\u001b[0m\u001b[0m\n",
      "\u001b[0;32m/opt/anaconda3/lib/python3.8/site-packages/joblib/_parallel_backends.py\u001b[0m in \u001b[0;36m__init__\u001b[0;34m(self, batch)\u001b[0m\n\u001b[1;32m    570\u001b[0m         \u001b[0;31m# Don't delay the application, to avoid keeping the input\u001b[0m\u001b[0;34m\u001b[0m\u001b[0;34m\u001b[0m\u001b[0;34m\u001b[0m\u001b[0m\n\u001b[1;32m    571\u001b[0m         \u001b[0;31m# arguments in memory\u001b[0m\u001b[0;34m\u001b[0m\u001b[0;34m\u001b[0m\u001b[0;34m\u001b[0m\u001b[0m\n\u001b[0;32m--> 572\u001b[0;31m         \u001b[0mself\u001b[0m\u001b[0;34m.\u001b[0m\u001b[0mresults\u001b[0m \u001b[0;34m=\u001b[0m \u001b[0mbatch\u001b[0m\u001b[0;34m(\u001b[0m\u001b[0;34m)\u001b[0m\u001b[0;34m\u001b[0m\u001b[0;34m\u001b[0m\u001b[0m\n\u001b[0m\u001b[1;32m    573\u001b[0m \u001b[0;34m\u001b[0m\u001b[0m\n\u001b[1;32m    574\u001b[0m     \u001b[0;32mdef\u001b[0m \u001b[0mget\u001b[0m\u001b[0;34m(\u001b[0m\u001b[0mself\u001b[0m\u001b[0;34m)\u001b[0m\u001b[0;34m:\u001b[0m\u001b[0;34m\u001b[0m\u001b[0;34m\u001b[0m\u001b[0m\n",
      "\u001b[0;32m/opt/anaconda3/lib/python3.8/site-packages/joblib/parallel.py\u001b[0m in \u001b[0;36m__call__\u001b[0;34m(self)\u001b[0m\n\u001b[1;32m    260\u001b[0m         \u001b[0;31m# change the default number of processes to -1\u001b[0m\u001b[0;34m\u001b[0m\u001b[0;34m\u001b[0m\u001b[0;34m\u001b[0m\u001b[0m\n\u001b[1;32m    261\u001b[0m         \u001b[0;32mwith\u001b[0m \u001b[0mparallel_backend\u001b[0m\u001b[0;34m(\u001b[0m\u001b[0mself\u001b[0m\u001b[0;34m.\u001b[0m\u001b[0m_backend\u001b[0m\u001b[0;34m,\u001b[0m \u001b[0mn_jobs\u001b[0m\u001b[0;34m=\u001b[0m\u001b[0mself\u001b[0m\u001b[0;34m.\u001b[0m\u001b[0m_n_jobs\u001b[0m\u001b[0;34m)\u001b[0m\u001b[0;34m:\u001b[0m\u001b[0;34m\u001b[0m\u001b[0;34m\u001b[0m\u001b[0m\n\u001b[0;32m--> 262\u001b[0;31m             return [func(*args, **kwargs)\n\u001b[0m\u001b[1;32m    263\u001b[0m                     for func, args, kwargs in self.items]\n\u001b[1;32m    264\u001b[0m \u001b[0;34m\u001b[0m\u001b[0m\n",
      "\u001b[0;32m/opt/anaconda3/lib/python3.8/site-packages/joblib/parallel.py\u001b[0m in \u001b[0;36m<listcomp>\u001b[0;34m(.0)\u001b[0m\n\u001b[1;32m    260\u001b[0m         \u001b[0;31m# change the default number of processes to -1\u001b[0m\u001b[0;34m\u001b[0m\u001b[0;34m\u001b[0m\u001b[0;34m\u001b[0m\u001b[0m\n\u001b[1;32m    261\u001b[0m         \u001b[0;32mwith\u001b[0m \u001b[0mparallel_backend\u001b[0m\u001b[0;34m(\u001b[0m\u001b[0mself\u001b[0m\u001b[0;34m.\u001b[0m\u001b[0m_backend\u001b[0m\u001b[0;34m,\u001b[0m \u001b[0mn_jobs\u001b[0m\u001b[0;34m=\u001b[0m\u001b[0mself\u001b[0m\u001b[0;34m.\u001b[0m\u001b[0m_n_jobs\u001b[0m\u001b[0;34m)\u001b[0m\u001b[0;34m:\u001b[0m\u001b[0;34m\u001b[0m\u001b[0;34m\u001b[0m\u001b[0m\n\u001b[0;32m--> 262\u001b[0;31m             return [func(*args, **kwargs)\n\u001b[0m\u001b[1;32m    263\u001b[0m                     for func, args, kwargs in self.items]\n\u001b[1;32m    264\u001b[0m \u001b[0;34m\u001b[0m\u001b[0m\n",
      "\u001b[0;32m/opt/anaconda3/lib/python3.8/site-packages/sklearn/model_selection/_validation.py\u001b[0m in \u001b[0;36m_fit_and_score\u001b[0;34m(estimator, X, y, scorer, train, test, verbose, parameters, fit_params, return_train_score, return_parameters, return_n_test_samples, return_times, return_estimator, error_score)\u001b[0m\n\u001b[1;32m    529\u001b[0m             \u001b[0mestimator\u001b[0m\u001b[0;34m.\u001b[0m\u001b[0mfit\u001b[0m\u001b[0;34m(\u001b[0m\u001b[0mX_train\u001b[0m\u001b[0;34m,\u001b[0m \u001b[0;34m**\u001b[0m\u001b[0mfit_params\u001b[0m\u001b[0;34m)\u001b[0m\u001b[0;34m\u001b[0m\u001b[0;34m\u001b[0m\u001b[0m\n\u001b[1;32m    530\u001b[0m         \u001b[0;32melse\u001b[0m\u001b[0;34m:\u001b[0m\u001b[0;34m\u001b[0m\u001b[0;34m\u001b[0m\u001b[0m\n\u001b[0;32m--> 531\u001b[0;31m             \u001b[0mestimator\u001b[0m\u001b[0;34m.\u001b[0m\u001b[0mfit\u001b[0m\u001b[0;34m(\u001b[0m\u001b[0mX_train\u001b[0m\u001b[0;34m,\u001b[0m \u001b[0my_train\u001b[0m\u001b[0;34m,\u001b[0m \u001b[0;34m**\u001b[0m\u001b[0mfit_params\u001b[0m\u001b[0;34m)\u001b[0m\u001b[0;34m\u001b[0m\u001b[0;34m\u001b[0m\u001b[0m\n\u001b[0m\u001b[1;32m    532\u001b[0m \u001b[0;34m\u001b[0m\u001b[0m\n\u001b[1;32m    533\u001b[0m     \u001b[0;32mexcept\u001b[0m \u001b[0mException\u001b[0m \u001b[0;32mas\u001b[0m \u001b[0me\u001b[0m\u001b[0;34m:\u001b[0m\u001b[0;34m\u001b[0m\u001b[0;34m\u001b[0m\u001b[0m\n",
      "\u001b[0;32m/opt/anaconda3/lib/python3.8/site-packages/sklearn/ensemble/_forest.py\u001b[0m in \u001b[0;36mfit\u001b[0;34m(self, X, y, sample_weight)\u001b[0m\n\u001b[1;32m    384\u001b[0m             \u001b[0;31m# parallel_backend contexts set at a higher level,\u001b[0m\u001b[0;34m\u001b[0m\u001b[0;34m\u001b[0m\u001b[0;34m\u001b[0m\u001b[0m\n\u001b[1;32m    385\u001b[0m             \u001b[0;31m# since correctness does not rely on using threads.\u001b[0m\u001b[0;34m\u001b[0m\u001b[0;34m\u001b[0m\u001b[0;34m\u001b[0m\u001b[0m\n\u001b[0;32m--> 386\u001b[0;31m             trees = Parallel(n_jobs=self.n_jobs, verbose=self.verbose,\n\u001b[0m\u001b[1;32m    387\u001b[0m                              \u001b[0;34m**\u001b[0m\u001b[0m_joblib_parallel_args\u001b[0m\u001b[0;34m(\u001b[0m\u001b[0mprefer\u001b[0m\u001b[0;34m=\u001b[0m\u001b[0;34m'threads'\u001b[0m\u001b[0;34m)\u001b[0m\u001b[0;34m)\u001b[0m\u001b[0;34m(\u001b[0m\u001b[0;34m\u001b[0m\u001b[0;34m\u001b[0m\u001b[0m\n\u001b[1;32m    388\u001b[0m                 delayed(_parallel_build_trees)(\n",
      "\u001b[0;32m/opt/anaconda3/lib/python3.8/site-packages/joblib/parallel.py\u001b[0m in \u001b[0;36m__call__\u001b[0;34m(self, iterable)\u001b[0m\n\u001b[1;32m   1042\u001b[0m                 \u001b[0mself\u001b[0m\u001b[0;34m.\u001b[0m\u001b[0m_iterating\u001b[0m \u001b[0;34m=\u001b[0m \u001b[0mself\u001b[0m\u001b[0;34m.\u001b[0m\u001b[0m_original_iterator\u001b[0m \u001b[0;32mis\u001b[0m \u001b[0;32mnot\u001b[0m \u001b[0;32mNone\u001b[0m\u001b[0;34m\u001b[0m\u001b[0;34m\u001b[0m\u001b[0m\n\u001b[1;32m   1043\u001b[0m \u001b[0;34m\u001b[0m\u001b[0m\n\u001b[0;32m-> 1044\u001b[0;31m             \u001b[0;32mwhile\u001b[0m \u001b[0mself\u001b[0m\u001b[0;34m.\u001b[0m\u001b[0mdispatch_one_batch\u001b[0m\u001b[0;34m(\u001b[0m\u001b[0miterator\u001b[0m\u001b[0;34m)\u001b[0m\u001b[0;34m:\u001b[0m\u001b[0;34m\u001b[0m\u001b[0;34m\u001b[0m\u001b[0m\n\u001b[0m\u001b[1;32m   1045\u001b[0m                 \u001b[0;32mpass\u001b[0m\u001b[0;34m\u001b[0m\u001b[0;34m\u001b[0m\u001b[0m\n\u001b[1;32m   1046\u001b[0m \u001b[0;34m\u001b[0m\u001b[0m\n",
      "\u001b[0;32m/opt/anaconda3/lib/python3.8/site-packages/joblib/parallel.py\u001b[0m in \u001b[0;36mdispatch_one_batch\u001b[0;34m(self, iterator)\u001b[0m\n\u001b[1;32m    857\u001b[0m                 \u001b[0;32mreturn\u001b[0m \u001b[0;32mFalse\u001b[0m\u001b[0;34m\u001b[0m\u001b[0;34m\u001b[0m\u001b[0m\n\u001b[1;32m    858\u001b[0m             \u001b[0;32melse\u001b[0m\u001b[0;34m:\u001b[0m\u001b[0;34m\u001b[0m\u001b[0;34m\u001b[0m\u001b[0m\n\u001b[0;32m--> 859\u001b[0;31m                 \u001b[0mself\u001b[0m\u001b[0;34m.\u001b[0m\u001b[0m_dispatch\u001b[0m\u001b[0;34m(\u001b[0m\u001b[0mtasks\u001b[0m\u001b[0;34m)\u001b[0m\u001b[0;34m\u001b[0m\u001b[0;34m\u001b[0m\u001b[0m\n\u001b[0m\u001b[1;32m    860\u001b[0m                 \u001b[0;32mreturn\u001b[0m \u001b[0;32mTrue\u001b[0m\u001b[0;34m\u001b[0m\u001b[0;34m\u001b[0m\u001b[0m\n\u001b[1;32m    861\u001b[0m \u001b[0;34m\u001b[0m\u001b[0m\n",
      "\u001b[0;32m/opt/anaconda3/lib/python3.8/site-packages/joblib/parallel.py\u001b[0m in \u001b[0;36m_dispatch\u001b[0;34m(self, batch)\u001b[0m\n\u001b[1;32m    775\u001b[0m         \u001b[0;32mwith\u001b[0m \u001b[0mself\u001b[0m\u001b[0;34m.\u001b[0m\u001b[0m_lock\u001b[0m\u001b[0;34m:\u001b[0m\u001b[0;34m\u001b[0m\u001b[0;34m\u001b[0m\u001b[0m\n\u001b[1;32m    776\u001b[0m             \u001b[0mjob_idx\u001b[0m \u001b[0;34m=\u001b[0m \u001b[0mlen\u001b[0m\u001b[0;34m(\u001b[0m\u001b[0mself\u001b[0m\u001b[0;34m.\u001b[0m\u001b[0m_jobs\u001b[0m\u001b[0;34m)\u001b[0m\u001b[0;34m\u001b[0m\u001b[0;34m\u001b[0m\u001b[0m\n\u001b[0;32m--> 777\u001b[0;31m             \u001b[0mjob\u001b[0m \u001b[0;34m=\u001b[0m \u001b[0mself\u001b[0m\u001b[0;34m.\u001b[0m\u001b[0m_backend\u001b[0m\u001b[0;34m.\u001b[0m\u001b[0mapply_async\u001b[0m\u001b[0;34m(\u001b[0m\u001b[0mbatch\u001b[0m\u001b[0;34m,\u001b[0m \u001b[0mcallback\u001b[0m\u001b[0;34m=\u001b[0m\u001b[0mcb\u001b[0m\u001b[0;34m)\u001b[0m\u001b[0;34m\u001b[0m\u001b[0;34m\u001b[0m\u001b[0m\n\u001b[0m\u001b[1;32m    778\u001b[0m             \u001b[0;31m# A job can complete so quickly than its callback is\u001b[0m\u001b[0;34m\u001b[0m\u001b[0;34m\u001b[0m\u001b[0;34m\u001b[0m\u001b[0m\n\u001b[1;32m    779\u001b[0m             \u001b[0;31m# called before we get here, causing self._jobs to\u001b[0m\u001b[0;34m\u001b[0m\u001b[0;34m\u001b[0m\u001b[0;34m\u001b[0m\u001b[0m\n",
      "\u001b[0;32m/opt/anaconda3/lib/python3.8/site-packages/joblib/_parallel_backends.py\u001b[0m in \u001b[0;36mapply_async\u001b[0;34m(self, func, callback)\u001b[0m\n\u001b[1;32m    206\u001b[0m     \u001b[0;32mdef\u001b[0m \u001b[0mapply_async\u001b[0m\u001b[0;34m(\u001b[0m\u001b[0mself\u001b[0m\u001b[0;34m,\u001b[0m \u001b[0mfunc\u001b[0m\u001b[0;34m,\u001b[0m \u001b[0mcallback\u001b[0m\u001b[0;34m=\u001b[0m\u001b[0;32mNone\u001b[0m\u001b[0;34m)\u001b[0m\u001b[0;34m:\u001b[0m\u001b[0;34m\u001b[0m\u001b[0;34m\u001b[0m\u001b[0m\n\u001b[1;32m    207\u001b[0m         \u001b[0;34m\"\"\"Schedule a func to be run\"\"\"\u001b[0m\u001b[0;34m\u001b[0m\u001b[0;34m\u001b[0m\u001b[0m\n\u001b[0;32m--> 208\u001b[0;31m         \u001b[0mresult\u001b[0m \u001b[0;34m=\u001b[0m \u001b[0mImmediateResult\u001b[0m\u001b[0;34m(\u001b[0m\u001b[0mfunc\u001b[0m\u001b[0;34m)\u001b[0m\u001b[0;34m\u001b[0m\u001b[0;34m\u001b[0m\u001b[0m\n\u001b[0m\u001b[1;32m    209\u001b[0m         \u001b[0;32mif\u001b[0m \u001b[0mcallback\u001b[0m\u001b[0;34m:\u001b[0m\u001b[0;34m\u001b[0m\u001b[0;34m\u001b[0m\u001b[0m\n\u001b[1;32m    210\u001b[0m             \u001b[0mcallback\u001b[0m\u001b[0;34m(\u001b[0m\u001b[0mresult\u001b[0m\u001b[0;34m)\u001b[0m\u001b[0;34m\u001b[0m\u001b[0;34m\u001b[0m\u001b[0m\n",
      "\u001b[0;32m/opt/anaconda3/lib/python3.8/site-packages/joblib/_parallel_backends.py\u001b[0m in \u001b[0;36m__init__\u001b[0;34m(self, batch)\u001b[0m\n\u001b[1;32m    570\u001b[0m         \u001b[0;31m# Don't delay the application, to avoid keeping the input\u001b[0m\u001b[0;34m\u001b[0m\u001b[0;34m\u001b[0m\u001b[0;34m\u001b[0m\u001b[0m\n\u001b[1;32m    571\u001b[0m         \u001b[0;31m# arguments in memory\u001b[0m\u001b[0;34m\u001b[0m\u001b[0;34m\u001b[0m\u001b[0;34m\u001b[0m\u001b[0m\n\u001b[0;32m--> 572\u001b[0;31m         \u001b[0mself\u001b[0m\u001b[0;34m.\u001b[0m\u001b[0mresults\u001b[0m \u001b[0;34m=\u001b[0m \u001b[0mbatch\u001b[0m\u001b[0;34m(\u001b[0m\u001b[0;34m)\u001b[0m\u001b[0;34m\u001b[0m\u001b[0;34m\u001b[0m\u001b[0m\n\u001b[0m\u001b[1;32m    573\u001b[0m \u001b[0;34m\u001b[0m\u001b[0m\n\u001b[1;32m    574\u001b[0m     \u001b[0;32mdef\u001b[0m \u001b[0mget\u001b[0m\u001b[0;34m(\u001b[0m\u001b[0mself\u001b[0m\u001b[0;34m)\u001b[0m\u001b[0;34m:\u001b[0m\u001b[0;34m\u001b[0m\u001b[0;34m\u001b[0m\u001b[0m\n",
      "\u001b[0;32m/opt/anaconda3/lib/python3.8/site-packages/joblib/parallel.py\u001b[0m in \u001b[0;36m__call__\u001b[0;34m(self)\u001b[0m\n\u001b[1;32m    260\u001b[0m         \u001b[0;31m# change the default number of processes to -1\u001b[0m\u001b[0;34m\u001b[0m\u001b[0;34m\u001b[0m\u001b[0;34m\u001b[0m\u001b[0m\n\u001b[1;32m    261\u001b[0m         \u001b[0;32mwith\u001b[0m \u001b[0mparallel_backend\u001b[0m\u001b[0;34m(\u001b[0m\u001b[0mself\u001b[0m\u001b[0;34m.\u001b[0m\u001b[0m_backend\u001b[0m\u001b[0;34m,\u001b[0m \u001b[0mn_jobs\u001b[0m\u001b[0;34m=\u001b[0m\u001b[0mself\u001b[0m\u001b[0;34m.\u001b[0m\u001b[0m_n_jobs\u001b[0m\u001b[0;34m)\u001b[0m\u001b[0;34m:\u001b[0m\u001b[0;34m\u001b[0m\u001b[0;34m\u001b[0m\u001b[0m\n\u001b[0;32m--> 262\u001b[0;31m             return [func(*args, **kwargs)\n\u001b[0m\u001b[1;32m    263\u001b[0m                     for func, args, kwargs in self.items]\n\u001b[1;32m    264\u001b[0m \u001b[0;34m\u001b[0m\u001b[0m\n",
      "\u001b[0;32m/opt/anaconda3/lib/python3.8/site-packages/joblib/parallel.py\u001b[0m in \u001b[0;36m<listcomp>\u001b[0;34m(.0)\u001b[0m\n\u001b[1;32m    260\u001b[0m         \u001b[0;31m# change the default number of processes to -1\u001b[0m\u001b[0;34m\u001b[0m\u001b[0;34m\u001b[0m\u001b[0;34m\u001b[0m\u001b[0m\n\u001b[1;32m    261\u001b[0m         \u001b[0;32mwith\u001b[0m \u001b[0mparallel_backend\u001b[0m\u001b[0;34m(\u001b[0m\u001b[0mself\u001b[0m\u001b[0;34m.\u001b[0m\u001b[0m_backend\u001b[0m\u001b[0;34m,\u001b[0m \u001b[0mn_jobs\u001b[0m\u001b[0;34m=\u001b[0m\u001b[0mself\u001b[0m\u001b[0;34m.\u001b[0m\u001b[0m_n_jobs\u001b[0m\u001b[0;34m)\u001b[0m\u001b[0;34m:\u001b[0m\u001b[0;34m\u001b[0m\u001b[0;34m\u001b[0m\u001b[0m\n\u001b[0;32m--> 262\u001b[0;31m             return [func(*args, **kwargs)\n\u001b[0m\u001b[1;32m    263\u001b[0m                     for func, args, kwargs in self.items]\n\u001b[1;32m    264\u001b[0m \u001b[0;34m\u001b[0m\u001b[0m\n",
      "\u001b[0;32m/opt/anaconda3/lib/python3.8/site-packages/sklearn/ensemble/_forest.py\u001b[0m in \u001b[0;36m_parallel_build_trees\u001b[0;34m(tree, forest, X, y, sample_weight, tree_idx, n_trees, verbose, class_weight, n_samples_bootstrap)\u001b[0m\n\u001b[1;32m    166\u001b[0m                                                         indices=indices)\n\u001b[1;32m    167\u001b[0m \u001b[0;34m\u001b[0m\u001b[0m\n\u001b[0;32m--> 168\u001b[0;31m         \u001b[0mtree\u001b[0m\u001b[0;34m.\u001b[0m\u001b[0mfit\u001b[0m\u001b[0;34m(\u001b[0m\u001b[0mX\u001b[0m\u001b[0;34m,\u001b[0m \u001b[0my\u001b[0m\u001b[0;34m,\u001b[0m \u001b[0msample_weight\u001b[0m\u001b[0;34m=\u001b[0m\u001b[0mcurr_sample_weight\u001b[0m\u001b[0;34m,\u001b[0m \u001b[0mcheck_input\u001b[0m\u001b[0;34m=\u001b[0m\u001b[0;32mFalse\u001b[0m\u001b[0;34m)\u001b[0m\u001b[0;34m\u001b[0m\u001b[0;34m\u001b[0m\u001b[0m\n\u001b[0m\u001b[1;32m    169\u001b[0m     \u001b[0;32melse\u001b[0m\u001b[0;34m:\u001b[0m\u001b[0;34m\u001b[0m\u001b[0;34m\u001b[0m\u001b[0m\n\u001b[1;32m    170\u001b[0m         \u001b[0mtree\u001b[0m\u001b[0;34m.\u001b[0m\u001b[0mfit\u001b[0m\u001b[0;34m(\u001b[0m\u001b[0mX\u001b[0m\u001b[0;34m,\u001b[0m \u001b[0my\u001b[0m\u001b[0;34m,\u001b[0m \u001b[0msample_weight\u001b[0m\u001b[0;34m=\u001b[0m\u001b[0msample_weight\u001b[0m\u001b[0;34m,\u001b[0m \u001b[0mcheck_input\u001b[0m\u001b[0;34m=\u001b[0m\u001b[0;32mFalse\u001b[0m\u001b[0;34m)\u001b[0m\u001b[0;34m\u001b[0m\u001b[0;34m\u001b[0m\u001b[0m\n",
      "\u001b[0;32m/opt/anaconda3/lib/python3.8/site-packages/sklearn/tree/_classes.py\u001b[0m in \u001b[0;36mfit\u001b[0;34m(self, X, y, sample_weight, check_input, X_idx_sorted)\u001b[0m\n\u001b[1;32m    888\u001b[0m         \"\"\"\n\u001b[1;32m    889\u001b[0m \u001b[0;34m\u001b[0m\u001b[0m\n\u001b[0;32m--> 890\u001b[0;31m         super().fit(\n\u001b[0m\u001b[1;32m    891\u001b[0m             \u001b[0mX\u001b[0m\u001b[0;34m,\u001b[0m \u001b[0my\u001b[0m\u001b[0;34m,\u001b[0m\u001b[0;34m\u001b[0m\u001b[0;34m\u001b[0m\u001b[0m\n\u001b[1;32m    892\u001b[0m             \u001b[0msample_weight\u001b[0m\u001b[0;34m=\u001b[0m\u001b[0msample_weight\u001b[0m\u001b[0;34m,\u001b[0m\u001b[0;34m\u001b[0m\u001b[0;34m\u001b[0m\u001b[0m\n",
      "\u001b[0;32m/opt/anaconda3/lib/python3.8/site-packages/sklearn/tree/_classes.py\u001b[0m in \u001b[0;36mfit\u001b[0;34m(self, X, y, sample_weight, check_input, X_idx_sorted)\u001b[0m\n\u001b[1;32m    373\u001b[0m                                            min_impurity_split)\n\u001b[1;32m    374\u001b[0m \u001b[0;34m\u001b[0m\u001b[0m\n\u001b[0;32m--> 375\u001b[0;31m         \u001b[0mbuilder\u001b[0m\u001b[0;34m.\u001b[0m\u001b[0mbuild\u001b[0m\u001b[0;34m(\u001b[0m\u001b[0mself\u001b[0m\u001b[0;34m.\u001b[0m\u001b[0mtree_\u001b[0m\u001b[0;34m,\u001b[0m \u001b[0mX\u001b[0m\u001b[0;34m,\u001b[0m \u001b[0my\u001b[0m\u001b[0;34m,\u001b[0m \u001b[0msample_weight\u001b[0m\u001b[0;34m,\u001b[0m \u001b[0mX_idx_sorted\u001b[0m\u001b[0;34m)\u001b[0m\u001b[0;34m\u001b[0m\u001b[0;34m\u001b[0m\u001b[0m\n\u001b[0m\u001b[1;32m    376\u001b[0m \u001b[0;34m\u001b[0m\u001b[0m\n\u001b[1;32m    377\u001b[0m         \u001b[0;32mif\u001b[0m \u001b[0mself\u001b[0m\u001b[0;34m.\u001b[0m\u001b[0mn_outputs_\u001b[0m \u001b[0;34m==\u001b[0m \u001b[0;36m1\u001b[0m \u001b[0;32mand\u001b[0m \u001b[0mis_classifier\u001b[0m\u001b[0;34m(\u001b[0m\u001b[0mself\u001b[0m\u001b[0;34m)\u001b[0m\u001b[0;34m:\u001b[0m\u001b[0;34m\u001b[0m\u001b[0;34m\u001b[0m\u001b[0m\n",
      "\u001b[0;31mKeyboardInterrupt\u001b[0m: "
     ]
    }
   ],
   "source": [
    "param_test2= {'max_depth':range(3,14,2), 'min_samples_split':range(50,201,20)}  \n",
    "gsearch2= GridSearchCV(estimator = RandomForestClassifier(n_estimators= 60,  \n",
    "                                 min_samples_leaf=20,max_features='sqrt' ,oob_score=True,random_state=10),  \n",
    "   param_grid = param_test2,scoring='roc_auc',iid=False, cv=5)  \n",
    "gsearch2.fit(X_smo,y_smo)  \n",
    "gsearch2.cv_results_,gsearch2.best_params_, gsearch2.best_score_\n",
    "\n"
   ]
  },
  {
   "cell_type": "code",
   "execution_count": null,
   "id": "631926ff",
   "metadata": {},
   "outputs": [],
   "source": [
    "param_test3= {'min_samples_split':range(80,150,20), 'min_samples_leaf':range(10,60,10)}  \n",
    "gsearch3= GridSearchCV(estimator = RandomForestClassifier(n_estimators= 70,max_depth=5,  \n",
    "                                 max_features='sqrt' ,oob_score=True, random_state=10),  \n",
    "   param_grid = param_test3,scoring='roc_auc',iid=False, cv=5)  \n",
    "gsearch3.fit(X_smo,y_smo)  \n",
    "gsearch3.cv_results_,gsearch3.best_params_, gsearch3.best_score_\n",
    "\n"
   ]
  },
  {
   "cell_type": "code",
   "execution_count": null,
   "id": "55469682",
   "metadata": {},
   "outputs": [],
   "source": [
    "param_test4= {'max_features':range(3,11,2)}  \n",
    "gsearch4= GridSearchCV(estimator = RandomForestClassifier(n_estimators= 70,max_depth=5, min_samples_split=140,  \n",
    "                                 min_samples_leaf=10 ,oob_score=True, random_state=10),  \n",
    "   param_grid = param_test4,scoring='roc_auc',iid=False, cv=5)  \n",
    "gsearch4.fit(X,y)  \n",
    "gsearch4.cv_results_,gsearch4.best_params_, gsearch4.best_score_  \n",
    "\n"
   ]
  },
  {
   "cell_type": "code",
   "execution_count": 37,
   "id": "842fe3a7",
   "metadata": {},
   "outputs": [],
   "source": [
    "rf = RandomForestClassifier()\n",
    "\n",
    "rf_param_grid = {'n_estimators':[60],\n",
    "                 'max_depth': [5],\n",
    "                 'min_samples_split': [140],\n",
    "                 'min_samples_leaf': [10], \n",
    "                 'criterion':['entropy'],\n",
    "                 'max_features':[3],\n",
    "                  }\n",
    "rf_gs = GridSearchCV(rf, param_grid = rf_param_grid, scoring = \"roc_auc\",cv = 10)"
   ]
  },
  {
   "cell_type": "code",
   "execution_count": 38,
   "id": "aeb0c746",
   "metadata": {
    "scrolled": true
   },
   "outputs": [
    {
     "data": {
      "text/plain": [
       "GridSearchCV(cv=10, estimator=RandomForestClassifier(),\n",
       "             param_grid={'criterion': ['entropy'], 'max_depth': [5],\n",
       "                         'max_features': [3], 'min_samples_leaf': [10],\n",
       "                         'min_samples_split': [140], 'n_estimators': [60]},\n",
       "             scoring='roc_auc')"
      ]
     },
     "execution_count": 38,
     "metadata": {},
     "output_type": "execute_result"
    }
   ],
   "source": [
    "rf_gs.fit(X_smo,y_smo)"
   ]
  },
  {
   "cell_type": "code",
   "execution_count": 39,
   "id": "807ffcb1",
   "metadata": {
    "scrolled": true
   },
   "outputs": [
    {
     "name": "stdout",
     "output_type": "stream",
     "text": [
      "Best Estimator: RandomForestClassifier(criterion='entropy', max_depth=5, max_features=3,\n",
      "                       min_samples_leaf=10, min_samples_split=140,\n",
      "                       n_estimators=60)\n",
      "Best Parameters: {'criterion': 'entropy', 'max_depth': 5, 'max_features': 3, 'min_samples_leaf': 10, 'min_samples_split': 140, 'n_estimators': 60}\n",
      "\n",
      "\n",
      "Best Score: 0.9553423529047163 \n",
      "\n"
     ]
    }
   ],
   "source": [
    "best_grid_rf = rf_gs.best_estimator_\n",
    "best_grid_rf\n",
    "rf_gs.best_params_\n",
    "print('Best Estimator:', best_grid_rf)\n",
    "print('Best Parameters:',rf_gs.best_params_)\n",
    "print('\\n\\nBest Score:', rf_gs.best_score_,'\\n')"
   ]
  },
  {
   "cell_type": "code",
   "execution_count": 66,
   "id": "1b8d83a5",
   "metadata": {},
   "outputs": [
    {
     "name": "stdout",
     "output_type": "stream",
     "text": [
      "              precision    recall  f1-score   support\n",
      "\n",
      "           0       1.00      0.87      0.93     18460\n",
      "           1       0.03      0.77      0.07       115\n",
      "\n",
      "    accuracy                           0.86     18575\n",
      "   macro avg       0.52      0.82      0.50     18575\n",
      "weighted avg       0.99      0.86      0.92     18575\n",
      "\n",
      "auc score:0.9008288190682556\n"
     ]
    }
   ],
   "source": [
    "#Predict\n",
    "\n",
    "y_pred = rf_gs.predict(X_test_transformed)\n",
    "y_probs = rf_gs.predict_proba(X_test_transformed)\n",
    "y_probs = y_probs[:, 1]\n",
    "\n",
    "print(classification_report(y_test, y_pred))\n",
    "print(f'auc score:{ roc_auc_score(y_test, y_probs)}')"
   ]
  },
  {
   "cell_type": "code",
   "execution_count": 67,
   "id": "15eb61ba",
   "metadata": {},
   "outputs": [
    {
     "name": "stdout",
     "output_type": "stream",
     "text": [
      "                                   Accuracy: 0.8644952893674294\n",
      "                   SENSITIVITY (aka RECALL): 0.7739130434782608\n",
      "                 SPECIFICITY (aka FALL-OUT): 0.865059588299025\n",
      " POSITIVE PREDICTIVE VALUE, (aka PRECISION): 0.034496124031007755\n",
      "                 NEGATIVE PREDICTIVE VALUE): 0.9983744920287589\n"
     ]
    },
    {
     "data": {
      "image/png": "[encoded data removed]",
      "text/plain": [
       "<Figure size 432x288 with 2 Axes>"
      ]
     },
     "metadata": {
      "needs_background": "light"
     },
     "output_type": "display_data"
    }
   ],
   "source": [
    "ax = plt.subplot()\n",
    "sns.heatmap(confusion_matrix(y_test, y_pred), annot=True, fmt='g', ax=ax)\n",
    "\n",
    "ax.set_xlabel('Predicted label');ax.set_ylabel('True label');\n",
    "ax.set_title('Confusion Matrix');\n",
    "ax.xaxis.set_ticklabels(['No_Bankruptcy', 'Bankruptcy']); \n",
    "ax.yaxis.set_ticklabels(['No_Bankruptcy', 'Bankruptcy'])\n",
    "\n",
    "print(\"                                   Accuracy: \" + str(custom_accuracy_score(y_test, y_pred))) \n",
    "print(\"                   SENSITIVITY (aka RECALL): \" + str(custom_sensitivity_score(y_test, y_pred)))\n",
    "print(\"                 SPECIFICITY (aka FALL-OUT): \" + str(custom_specificity_score(y_test, y_pred)))\n",
    "print(\" POSITIVE PREDICTIVE VALUE, (aka PRECISION): \" + str(custom_ppv_score(y_test, y_pred)))\n",
    "print(\"                 NEGATIVE PREDICTIVE VALUE): \" + str(custom_npv_score(y_test, y_pred)))"
   ]
  },
  {
   "cell_type": "markdown",
   "id": "4ad2c0a4",
   "metadata": {},
   "source": [
    "# Naive Bayes with tuning"
   ]
  },
  {
   "cell_type": "code",
   "execution_count": 43,
   "id": "cd11eb37",
   "metadata": {},
   "outputs": [],
   "source": [
    "nb = GaussianNB()\n",
    "Pipe= Pipeline([('nb', nb)])\n",
    "param_grid = {'nb__var_smoothing': np.arange(0, 10, 0.003),\n",
    "              }\n",
    "nb_gs = GridSearchCV(Pipe,param_grid,cv=15,scoring='roc_auc',n_jobs=-1)\n"
   ]
  },
  {
   "cell_type": "code",
   "execution_count": 44,
   "id": "42d5be58",
   "metadata": {},
   "outputs": [
    {
     "data": {
      "text/plain": [
       "GridSearchCV(cv=15, estimator=Pipeline(steps=[('nb', GaussianNB())]), n_jobs=-1,\n",
       "             param_grid={'nb__var_smoothing': array([0.000e+00, 3.000e-03, 6.000e-03, ..., 9.993e+00, 9.996e+00,\n",
       "       9.999e+00])},\n",
       "             scoring='roc_auc')"
      ]
     },
     "execution_count": 44,
     "metadata": {},
     "output_type": "execute_result"
    }
   ],
   "source": [
    "nb_gs.fit(X_smo,y_smo)"
   ]
  },
  {
   "cell_type": "code",
   "execution_count": 45,
   "id": "df7d5c9c",
   "metadata": {},
   "outputs": [
    {
     "name": "stdout",
     "output_type": "stream",
     "text": [
      "Best Estimator: Pipeline(steps=[('nb', GaussianNB(var_smoothing=6.429))])\n",
      "Best Parameters: {'nb__var_smoothing': 6.429}\n",
      "\n",
      "\n",
      "Best Score: 0.7805434201634172 \n",
      "\n"
     ]
    }
   ],
   "source": [
    "best_grid_nb = nb_gs.best_estimator_\n",
    "best_grid_nb\n",
    "print('Best Estimator:', best_grid_nb)\n",
    "print('Best Parameters:',nb_gs.best_params_)\n",
    "print('\\n\\nBest Score:', nb_gs.best_score_,'\\n')"
   ]
  },
  {
   "cell_type": "code",
   "execution_count": 68,
   "id": "8223c3d3",
   "metadata": {},
   "outputs": [
    {
     "name": "stdout",
     "output_type": "stream",
     "text": [
      "              precision    recall  f1-score   support\n",
      "\n",
      "           0       1.00      0.00      0.01     18460\n",
      "           1       0.01      1.00      0.01       115\n",
      "\n",
      "    accuracy                           0.01     18575\n",
      "   macro avg       0.50      0.50      0.01     18575\n",
      "weighted avg       0.99      0.01      0.01     18575\n",
      "\n",
      "auc score:0.7836167506712517\n"
     ]
    }
   ],
   "source": [
    "\n",
    "y_pred = nb_gs.predict(X_test_transformed)\n",
    "y_probs = nb_gs.predict_proba(X_test_transformed)\n",
    "y_probs = y_probs[:, 1]\n",
    "\n",
    "print(classification_report(y_test, y_pred))\n",
    "print(f'auc score:{ roc_auc_score(y_test, y_probs)}')"
   ]
  },
  {
   "cell_type": "code",
   "execution_count": 69,
   "id": "3e4a270a",
   "metadata": {},
   "outputs": [
    {
     "name": "stdout",
     "output_type": "stream",
     "text": [
      "                                   Accuracy: 0.008721399730820995\n",
      "                   SENSITIVITY (aka RECALL): 1.0\n",
      "                 SPECIFICITY (aka FALL-OUT): 0.0025460455037919828\n",
      " POSITIVE PREDICTIVE VALUE, (aka PRECISION): 0.0062068221070811745\n",
      "                 NEGATIVE PREDICTIVE VALUE): 1.0\n"
     ]
    },
    {
     "data": {
      "image/png": "[encoded data removed]",
      "text/plain": [
       "<Figure size 432x288 with 2 Axes>"
      ]
     },
     "metadata": {
      "needs_background": "light"
     },
     "output_type": "display_data"
    }
   ],
   "source": [
    "ax = plt.subplot()\n",
    "sns.heatmap(confusion_matrix(y_test, y_pred), annot=True, fmt='g', ax=ax)\n",
    "\n",
    "ax.set_xlabel('Predicted label');ax.set_ylabel('True label');\n",
    "ax.set_title('Confusion Matrix');\n",
    "ax.xaxis.set_ticklabels(['No_Bankruptcy', 'Bankruptcy']); \n",
    "ax.yaxis.set_ticklabels(['No_Bankruptcy', 'Bankruptcy'])\n",
    "\n",
    "print(\"                                   Accuracy: \" + str(custom_accuracy_score(y_test, y_pred))) \n",
    "print(\"                   SENSITIVITY (aka RECALL): \" + str(custom_sensitivity_score(y_test, y_pred)))\n",
    "print(\"                 SPECIFICITY (aka FALL-OUT): \" + str(custom_specificity_score(y_test, y_pred)))\n",
    "print(\" POSITIVE PREDICTIVE VALUE, (aka PRECISION): \" + str(custom_ppv_score(y_test, y_pred)))\n",
    "print(\"                 NEGATIVE PREDICTIVE VALUE): \" + str(custom_npv_score(y_test, y_pred)))\n",
    "\n"
   ]
  },
  {
   "cell_type": "markdown",
   "id": "0217de29",
   "metadata": {},
   "source": [
    "# LDA with tuning"
   ]
  },
  {
   "cell_type": "code",
   "execution_count": 50,
   "id": "841aabb1",
   "metadata": {},
   "outputs": [],
   "source": [
    "ld = LinearDiscriminantAnalysis()\n",
    "Pipe= Pipeline([('ld', ld)])\n",
    "param_grid = {'ld__solver':['svd', 'lsqr', 'eigen'],\n",
    "             'ld__shrinkage':['auto', 'float'],\n",
    "             'ld__n_components': (1, 2, 3, 4, 5),\n",
    "             'ld__store_covariance': [True, False],\n",
    "             'ld__tol': (0.0001, 0.0002, 0.0003)}\n",
    "\n",
    "\n",
    "ld_gs = GridSearchCV(Pipe,param_grid,cv=10,scoring='roc_auc',n_jobs=5)\n",
    "\n"
   ]
  },
  {
   "cell_type": "code",
   "execution_count": 51,
   "id": "f77fc513",
   "metadata": {},
   "outputs": [
    {
     "data": {
      "text/plain": [
       "GridSearchCV(cv=10,\n",
       "             estimator=Pipeline(steps=[('ld', LinearDiscriminantAnalysis())]),\n",
       "             n_jobs=5,\n",
       "             param_grid={'ld__n_components': (1, 2, 3, 4, 5),\n",
       "                         'ld__shrinkage': ['auto', 'float'],\n",
       "                         'ld__solver': ['svd', 'lsqr', 'eigen'],\n",
       "                         'ld__store_covariance': [True, False],\n",
       "                         'ld__tol': (0.0001, 0.0002, 0.0003)},\n",
       "             scoring='roc_auc')"
      ]
     },
     "execution_count": 51,
     "metadata": {},
     "output_type": "execute_result"
    }
   ],
   "source": [
    "ld_gs.fit(X_smo,y_smo)"
   ]
  },
  {
   "cell_type": "code",
   "execution_count": 52,
   "id": "96d6818c",
   "metadata": {},
   "outputs": [
    {
     "name": "stdout",
     "output_type": "stream",
     "text": [
      "Best Estimator: Pipeline(steps=[('ld',\n",
      "                 LinearDiscriminantAnalysis(n_components=1, shrinkage='auto',\n",
      "                                            solver='lsqr',\n",
      "                                            store_covariance=True))])\n",
      "Best Parameters: {'ld__n_components': 1, 'ld__shrinkage': 'auto', 'ld__solver': 'lsqr', 'ld__store_covariance': True, 'ld__tol': 0.0001}\n",
      "\n",
      "\n",
      "Best Score: 0.6635110519245109 \n",
      "\n"
     ]
    }
   ],
   "source": [
    "best_grid_ld = ld_gs.best_estimator_\n",
    "best_grid_ld\n",
    "print('Best Estimator:', best_grid_ld)\n",
    "print('Best Parameters:',ld_gs.best_params_)\n",
    "print('\\n\\nBest Score:', ld_gs.best_score_,'\\n')"
   ]
  },
  {
   "cell_type": "code",
   "execution_count": 70,
   "id": "4aca21f9",
   "metadata": {},
   "outputs": [
    {
     "name": "stdout",
     "output_type": "stream",
     "text": [
      "              precision    recall  f1-score   support\n",
      "\n",
      "           0       1.00      0.70      0.82     18460\n",
      "           1       0.01      0.47      0.02       115\n",
      "\n",
      "    accuracy                           0.70     18575\n",
      "   macro avg       0.50      0.58      0.42     18575\n",
      "weighted avg       0.99      0.70      0.82     18575\n",
      "\n",
      "auc score:0.594540958123322\n"
     ]
    }
   ],
   "source": [
    "#Predict\n",
    "y_pred = ld_gs.predict(X_test_transformed)\n",
    "y_probs = ld_gs.predict_proba(X_test_transformed)\n",
    "y_probs = y_probs[:, 1]\n",
    "\n",
    "print(classification_report(y_test, y_pred))\n",
    "print(f'auc score:{ roc_auc_score(y_test, y_probs)}')"
   ]
  },
  {
   "cell_type": "code",
   "execution_count": 71,
   "id": "bc098904",
   "metadata": {},
   "outputs": [
    {
     "name": "stdout",
     "output_type": "stream",
     "text": [
      "                                   Accuracy: 0.6963122476446837\n",
      "                   SENSITIVITY (aka RECALL): 0.46956521739130436\n",
      "                 SPECIFICITY (aka FALL-OUT): 0.6977248104008668\n",
      " POSITIVE PREDICTIVE VALUE, (aka PRECISION): 0.009584664536741214\n",
      "                 NEGATIVE PREDICTIVE VALUE): 0.9952862993586277\n"
     ]
    },
    {
     "data": {
      "image/png": "[encoded data removed]",
      "text/plain": [
       "<Figure size 432x288 with 2 Axes>"
      ]
     },
     "metadata": {
      "needs_background": "light"
     },
     "output_type": "display_data"
    }
   ],
   "source": [
    "ax = plt.subplot()\n",
    "sns.heatmap(confusion_matrix(y_test, y_pred), annot=True, fmt='g', ax=ax)\n",
    "\n",
    "ax.set_xlabel('Predicted label');ax.set_ylabel('True label');\n",
    "ax.set_title('Confusion Matrix');\n",
    "ax.xaxis.set_ticklabels(['No_Bankruptcy', 'Bankruptcy']); \n",
    "ax.yaxis.set_ticklabels(['No_Bankruptcy', 'Bankruptcy'])\n",
    "\n",
    "print(\"                                   Accuracy: \" + str(custom_accuracy_score(y_test, y_pred))) \n",
    "print(\"                   SENSITIVITY (aka RECALL): \" + str(custom_sensitivity_score(y_test, y_pred)))\n",
    "print(\"                 SPECIFICITY (aka FALL-OUT): \" + str(custom_specificity_score(y_test, y_pred)))\n",
    "print(\" POSITIVE PREDICTIVE VALUE, (aka PRECISION): \" + str(custom_ppv_score(y_test, y_pred)))\n",
    "print(\"                 NEGATIVE PREDICTIVE VALUE): \" + str(custom_npv_score(y_test, y_pred)))\n",
    "\n",
    "\n"
   ]
  },
  {
   "cell_type": "code",
   "execution_count": null,
   "id": "1344103c",
   "metadata": {},
   "outputs": [],
   "source": []
  }
 ],
 "metadata": {
  "kernelspec": {
   "display_name": "Python 3",
   "language": "python",
   "name": "python3"
  },
  "language_info": {
   "codemirror_mode": {
    "name": "ipython",
    "version": 3
   },
   "file_extension": ".py",
   "mimetype": "text/x-python",
   "name": "python",
   "nbconvert_exporter": "python",
   "pygments_lexer": "ipython3",
   "version": "3.8.8"
  }
 },
 "nbformat": 4,
 "nbformat_minor": 5
}
